{
 "cells": [
  {
   "cell_type": "markdown",
   "metadata": {},
   "source": [
    "![alt text](https://moodle.msengineering.ch/pluginfile.php/1/core_admin/logo/0x150/1643104191/logo-mse.png \"MSE Logo\") \n",
    "![alt text](https://www.hes-so.ch/typo3conf/ext/wng_site/Resources/Public/HES-SO/img/logo_hesso_master_tablet.svg \"Hes Logo\")\n",
    "\n",
    "# WEB MINING PROJET AIRBNB\n",
    "## L'objectif\n",
    "Dans ce notebook, nous avons créé des tableaux d'ANOVA pour identifier les facteurs significatifs influençant le prix et new rating. Ensuite, nous avons élaboré des modèles de régression, tels que la régression linéaire, la forêt aléatoire (Random Forest) et XGBoost, pour prédire les prix. Enfin, nous avons réalisé une analyse de clustering pour étudier la réduction des prix par région."
   ]
  },
  {
   "cell_type": "code",
   "execution_count": 74,
   "metadata": {},
   "outputs": [],
   "source": [
    "import pandas as pd\n",
    "data = pd.read_csv(\"C:/Users/Abdi/Desktop/webmin_aout24/data/total_out_clean.csv\")"
   ]
  },
  {
   "cell_type": "markdown",
   "metadata": {},
   "source": [
    "### Table d'ANOVA pour le prix"
   ]
  },
  {
   "cell_type": "code",
   "execution_count": 48,
   "metadata": {},
   "outputs": [
    {
     "name": "stdout",
     "output_type": "stream",
     "text": [
      "Table d'ANOVA:\n",
      "                 sum_sq     df           F        PR(>F)\n",
      "C(Type)    9.012353e+06   30.0    1.663152  2.057488e-02\n",
      "C(pays)    1.030455e+07    7.0    8.149786  7.245144e-09\n",
      "C(region)  1.067696e+08  501.0    1.179845  7.492758e-02\n",
      "old_price  7.342361e+07    1.0  406.490858  7.884314e-53\n",
      "voyageurs  1.036661e+04    1.0    0.057392  8.108788e-01\n",
      "rooms      1.153301e+05    1.0    0.638496  4.250769e-01\n",
      "bed        2.745744e+04    1.0    0.152011  6.969801e-01\n",
      "bathroom   6.312329e+05    1.0    3.494658  6.283240e-02\n",
      "Residual   4.172506e+07  231.0         NaN           NaN\n",
      "\n",
      "Interprétation des effets des facteurs:\n",
      "\n",
      "Facteur: C(Type)\n",
      "  - Sum of Squares: 9012353.46\n",
      "  - Degrees of Freedom (df): 30.0\n",
      "  - F-statistic: 1.66\n",
      "  - p-value: 0.0206\n",
      "  → Ce facteur a un effet statistiquement significatif sur le prix\n",
      "\n",
      "Facteur: C(pays)\n",
      "  - Sum of Squares: 10304554.53\n",
      "  - Degrees of Freedom (df): 7.0\n",
      "  - F-statistic: 8.15\n",
      "  - p-value: 0.0000\n",
      "  → Ce facteur a un effet statistiquement significatif sur le prix\n",
      "\n",
      "Facteur: C(region)\n",
      "  - Sum of Squares: 106769576.68\n",
      "  - Degrees of Freedom (df): 501.0\n",
      "  - F-statistic: 1.18\n",
      "  - p-value: 0.0749\n",
      "  → Ce facteur n'a pas d'effet statistiquement significatif sur le prix\n",
      "\n",
      "Facteur: old_price\n",
      "  - Sum of Squares: 73423612.42\n",
      "  - Degrees of Freedom (df): 1.0\n",
      "  - F-statistic: 406.49\n",
      "  - p-value: 0.0000\n",
      "  → Ce facteur a un effet statistiquement significatif sur le prix\n",
      "\n",
      "Facteur: voyageurs\n",
      "  - Sum of Squares: 10366.61\n",
      "  - Degrees of Freedom (df): 1.0\n",
      "  - F-statistic: 0.06\n",
      "  - p-value: 0.8109\n",
      "  → Ce facteur n'a pas d'effet statistiquement significatif sur le prix\n",
      "\n",
      "Facteur: rooms\n",
      "  - Sum of Squares: 115330.14\n",
      "  - Degrees of Freedom (df): 1.0\n",
      "  - F-statistic: 0.64\n",
      "  - p-value: 0.4251\n",
      "  → Ce facteur n'a pas d'effet statistiquement significatif sur le prix\n",
      "\n",
      "Facteur: bed\n",
      "  - Sum of Squares: 27457.44\n",
      "  - Degrees of Freedom (df): 1.0\n",
      "  - F-statistic: 0.15\n",
      "  - p-value: 0.6970\n",
      "  → Ce facteur n'a pas d'effet statistiquement significatif sur le prix\n",
      "\n",
      "Facteur: bathroom\n",
      "  - Sum of Squares: 631232.93\n",
      "  - Degrees of Freedom (df): 1.0\n",
      "  - F-statistic: 3.49\n",
      "  - p-value: 0.0628\n",
      "  → Ce facteur n'a pas d'effet statistiquement significatif sur le prix\n",
      "\n",
      "Facteur: Residual\n",
      "  - Sum of Squares: 41725057.60\n",
      "  - Degrees of Freedom (df): 231.0\n",
      "  - F-statistic: nan\n",
      "  - p-value: nan\n",
      "  → Ce facteur n'a pas d'effet statistiquement significatif sur le prix\n"
     ]
    }
   ],
   "source": [
    "# la formule pour le modèle ANOVA\n",
    "formula = 'price ~ old_price + C(Type) + C(pays) + C(region) + voyageurs + rooms + bed + bathroom'\n",
    "model = ols(formula, data=data).fit()\n",
    "\n",
    "# Nous effectuons la calcule de table d'anova\n",
    "anova_table = sm.stats.anova_lm(model, typ=2)\n",
    "print(\"Table d'ANOVA:\")\n",
    "print(anova_table)\n",
    "\n",
    "# Interpretation des effets des facteurs\n",
    "print(\"\\nInterprétation des effets des facteurs:\")\n",
    "for factor in anova_table.index:\n",
    "    print(f\"\\nFacteur: {factor}\")\n",
    "    print(f\"  - Sum of Squares: {anova_table.loc[factor, 'sum_sq']:.2f}\")\n",
    "    print(f\"  - Degrees of Freedom (df): {anova_table.loc[factor, 'df']}\")\n",
    "    print(f\"  - F-statistic: {anova_table.loc[factor, 'F']:.2f}\")\n",
    "    print(f\"  - p-value: {anova_table.loc[factor, 'PR(>F)']:.4f}\")\n",
    "    if anova_table.loc[factor, 'PR(>F)'] < 0.05:\n",
    "        print(\"  → Ce facteur a un effet statistiquement significatif sur le prix\")\n",
    "    else:\n",
    "        print(\"  → Ce facteur n'a pas d'effet statistiquement significatif sur le prix\")\n"
   ]
  },
  {
   "cell_type": "markdown",
   "metadata": {},
   "source": [
    "### Coefficients du modèle pour le prix\n"
   ]
  },
  {
   "cell_type": "code",
   "execution_count": 50,
   "metadata": {},
   "outputs": [
    {
     "name": "stdout",
     "output_type": "stream",
     "text": [
      "Coefficients du modèle:\n",
      "Intercept                              -393.647095\n",
      "C(Type)[T.Camping]                      -50.314146\n",
      "C(Type)[T.Chambre dans appart'hôtel]    276.513563\n",
      "C(Type)[T.Chambre dans hôtel]          -332.788520\n",
      "C(Type)[T.Château]                      360.946465\n",
      "                                           ...    \n",
      "old_price                                 0.548718\n",
      "voyageurs                                10.187153\n",
      "rooms                                    91.344149\n",
      "bed                                     -19.949506\n",
      "bathroom                                188.040643\n",
      "Length: 544, dtype: float64\n",
      "\n",
      "Interprétation des coefficients:\n",
      "Intercept: effet négatif (-393.6471) sur le prix\n",
      "C(Type)[T.Camping]: effet négatif (-50.3141) sur le prix\n",
      "C(Type)[T.Chambre dans appart'hôtel]: effet positif (276.5136) sur le prix\n",
      "C(Type)[T.Chambre dans hôtel]: effet négatif (-332.7885) sur le prix\n",
      "C(Type)[T.Château]: effet positif (360.9465) sur le prix\n",
      "C(Type)[T.Conteneur industriel]: effet positif (1471.1192) sur le prix\n",
      "C(Type)[T.Grange]: effet négatif (-20.0425) sur le prix\n",
      "C(Type)[T.Gîte à la ferme]: effet négatif (-82.4198) sur le prix\n",
      "C(Type)[T.Hutte]: effet négatif (-303.0579) sur le prix\n",
      "C(Type)[T.Logement entier]: effet positif (215.9663) sur le prix\n",
      "C(Type)[T.Place de camping]: effet négatif (-679.7496) sur le prix\n",
      "C(Type)[T.Tente]: effet négatif (-15.0633) sur le prix\n",
      "C(Type)[T.Tiny house]: effet positif (53.0187) sur le prix\n",
      "C(Type)[T.Trullo]: effet positif (353.3609) sur le prix\n",
      "C(Type)[T.appartement]: effet positif (367.0547) sur le prix\n",
      "C(Type)[T.appartement en résidence]: effet positif (519.4441) sur le prix\n",
      "C(Type)[T.auberge de jeunesse]: effet négatif (-346.7576) sur le prix\n",
      "C(Type)[T.bungalow]: effet positif (637.8691) sur le prix\n",
      "C(Type)[T.cabane]: effet négatif (-323.9194) sur le prix\n",
      "C(Type)[T.casa particular]: effet négatif (-300.6508) sur le prix\n",
      "C(Type)[T.chalet]: effet positif (23.6344) sur le prix\n",
      "C(Type)[T.chambre d'hôtes]: effet négatif (-142.5250) sur le prix\n",
      "C(Type)[T.cottage]: effet négatif (-404.7739) sur le prix\n",
      "C(Type)[T.hébergement]: effet positif (248.2555) sur le prix\n",
      "C(Type)[T.loft]: effet positif (413.4061) sur le prix\n",
      "C(Type)[T.logement de vacances]: effet négatif (-187.1054) sur le prix\n",
      "C(Type)[T.maison d'hôtes]: effet positif (258.3978) sur le prix\n",
      "C(Type)[T.maison de ville]: effet positif (358.3691) sur le prix\n",
      "C(Type)[T.résidence de tourisme]: effet positif (106.9390) sur le prix\n",
      "C(Type)[T.suite]: effet positif (389.3316) sur le prix\n",
      "C(Type)[T.villa]: effet positif (495.5896) sur le prix\n",
      "C(pays)[T.Autriche]: effet négatif (-493.4064) sur le prix\n",
      "C(pays)[T.Belgique]: effet négatif (-123.9417) sur le prix\n",
      "C(pays)[T.Espagne]: effet positif (22.9506) sur le prix\n",
      "C(pays)[T.France]: effet positif (122.4677) sur le prix\n",
      "C(pays)[T.Italie]: effet positif (350.8533) sur le prix\n",
      "C(pays)[T.Portugal]: effet positif (518.3492) sur le prix\n",
      "C(pays)[T.Suisse]: effet positif (848.3252) sur le prix\n",
      "C(region)[T.Aartselaar]: effet négatif (-331.5971) sur le prix\n",
      "C(region)[T.Aci Castello]: effet négatif (-190.0322) sur le prix\n",
      "C(region)[T.Ahorn]: effet positif (433.5652) sur le prix\n",
      "C(region)[T.Aich]: effet positif (556.2014) sur le prix\n",
      "C(region)[T.Aiseau-Presles]: effet négatif (-137.2674) sur le prix\n",
      "C(region)[T.Aix-la-Chapelle]: effet positif (325.8568) sur le prix\n",
      "C(region)[T.Aix-les-Bains]: effet positif (41.5289) sur le prix\n",
      "C(region)[T.Alba]: effet négatif (-682.7492) sur le prix\n",
      "C(region)[T.Albertville]: effet négatif (-6.4108) sur le prix\n",
      "C(region)[T.Albori]: effet positif (179.8713) sur le prix\n",
      "C(region)[T.Albufeira]: effet positif (452.4853) sur le prix\n",
      "C(region)[T.Albuñol]: effet négatif (-289.3762) sur le prix\n",
      "C(region)[T.Aldeia do Meco]: effet négatif (-15.0633) sur le prix\n",
      "C(region)[T.Alegrete]: effet positif (170.8324) sur le prix\n",
      "C(region)[T.Algeciras]: effet négatif (-430.9690) sur le prix\n",
      "C(region)[T.Alpbach]: effet positif (380.2273) sur le prix\n",
      "C(region)[T.Altenberg]: effet négatif (-686.1342) sur le prix\n",
      "C(region)[T.Altlandsberg]: effet positif (9.6088) sur le prix\n",
      "C(region)[T.Ampognano]: effet positif (5.2676) sur le prix\n",
      "C(region)[T.Annemasse]: effet positif (91.8027) sur le prix\n",
      "C(region)[T.Ans]: effet positif (134.0895) sur le prix\n",
      "C(region)[T.Ansfelden]: effet positif (292.5849) sur le prix\n",
      "C(region)[T.Anthofrotte]: effet positif (290.7272) sur le prix\n",
      "C(region)[T.Anvers]: effet négatif (-116.5531) sur le prix\n",
      "C(region)[T.Anzère]: effet négatif (-719.6742) sur le prix\n",
      "C(region)[T.Arcos de Valdevez]: effet positif (195.0285) sur le prix\n",
      "C(region)[T.Arezzo]: effet négatif (-298.4538) sur le prix\n",
      "C(region)[T.Armação de Pêra]: effet positif (925.7748) sur le prix\n",
      "C(region)[T.Arraiolos]: effet positif (1198.0659) sur le prix\n",
      "C(region)[T.Aspach]: effet positif (145.0910) sur le prix\n",
      "C(region)[T.Asse]: effet positif (64.1817) sur le prix\n",
      "C(region)[T.Auderghem]: effet positif (37.6545) sur le prix\n",
      "C(region)[T.Avis]: effet positif (326.8295) sur le prix\n",
      "C(region)[T.Aywaille]: effet négatif (-498.1761) sur le prix\n",
      "C(region)[T.Azuqueca de Henares]: effet positif (404.3866) sur le prix\n",
      "C(region)[T.Bad Hersfeld]: effet positif (301.0327) sur le prix\n",
      "C(region)[T.Bad Liebenzell]: effet positif (71.3473) sur le prix\n",
      "C(region)[T.Bad Mitterndorf]: effet négatif (-359.5679) sur le prix\n",
      "C(region)[T.Bad Oldesloe]: effet positif (252.8117) sur le prix\n",
      "C(region)[T.Bad Salzdetfurth]: effet positif (80.1122) sur le prix\n",
      "C(region)[T.Bad Vöslau]: effet positif (450.9537) sur le prix\n",
      "C(region)[T.Bad Wildungen]: effet négatif (-242.2555) sur le prix\n",
      "C(region)[T.Bad Zell]: effet positif (360.9465) sur le prix\n",
      "C(region)[T.Baden]: effet négatif (-808.8680) sur le prix\n",
      "C(region)[T.Baden bei Wien]: effet positif (799.3769) sur le prix\n",
      "C(region)[T.Bagno a Ripoli]: effet négatif (-280.9374) sur le prix\n",
      "C(region)[T.Balingen]: effet négatif (-142.5549) sur le prix\n",
      "C(region)[T.Barberino Tavarnelle]: effet positif (984.1873) sur le prix\n",
      "C(region)[T.Barcelone]: effet positif (812.1227) sur le prix\n",
      "C(region)[T.Bari]: effet négatif (-11.1761) sur le prix\n",
      "C(region)[T.Barum]: effet négatif (-250.7705) sur le prix\n",
      "C(region)[T.Bassenheim]: effet négatif (-289.4297) sur le prix\n",
      "C(region)[T.Benalmádena]: effet positif (83.3364) sur le prix\n",
      "C(region)[T.Berg bei Rohrbach]: effet négatif (-687.6279) sur le prix\n",
      "C(region)[T.Berlaar]: effet négatif (-31.5849) sur le prix\n",
      "C(region)[T.Berne]: effet négatif (-688.6643) sur le prix\n",
      "C(region)[T.Biel]: effet négatif (-1033.8911) sur le prix\n",
      "C(region)[T.Billens-Hennens]: effet négatif (-380.5039) sur le prix\n",
      "C(region)[T.Blatten bei Naters]: effet négatif (-958.3204) sur le prix\n",
      "C(region)[T.Blevio]: effet positif (1315.1184) sur le prix\n",
      "C(region)[T.Bologne]: effet négatif (-20.0436) sur le prix\n",
      "C(region)[T.Bommes]: effet positif (191.2342) sur le prix\n",
      "C(region)[T.Bonfol]: effet négatif (-791.5820) sur le prix\n",
      "C(region)[T.Bonn]: effet positif (83.6113) sur le prix\n",
      "C(region)[T.Bonndorf im Schwarzwald]: effet négatif (-217.4976) sur le prix\n",
      "C(region)[T.Boppard]: effet positif (178.0696) sur le prix\n",
      "C(region)[T.Bormujos]: effet positif (211.6830) sur le prix\n",
      "C(region)[T.Braga]: effet négatif (-463.5339) sur le prix\n",
      "C(region)[T.Braives]: effet positif (159.7763) sur le prix\n",
      "C(region)[T.Bremgarten]: effet négatif (-915.3363) sur le prix\n",
      "C(region)[T.Brides-les-Bains]: effet négatif (-596.0052) sur le prix\n",
      "C(region)[T.Bruxelles]: effet positif (195.6743) sur le prix\n",
      "C(region)[T.Burgthann]: effet positif (350.8762) sur le prix\n",
      "C(region)[T.Bussigny]: effet négatif (-1260.2233) sur le prix\n",
      "C(region)[T.Bâle]: effet négatif (-2063.4218) sur le prix\n",
      "C(region)[T.Bühl]: effet négatif (-102.0356) sur le prix\n",
      "C(region)[T.Bühler]: effet négatif (-952.3419) sur le prix\n",
      "C(region)[T.Calldetenes]: effet positif (305.8651) sur le prix\n",
      "C(region)[T.Caltrano]: effet négatif (-530.7058) sur le prix\n",
      "C(region)[T.Carcavelos]: effet négatif (-346.7576) sur le prix\n",
      "C(region)[T.Carmagnola]: effet négatif (-826.0687) sur le prix\n",
      "C(region)[T.Cascais]: effet positif (10.0195) sur le prix\n",
      "C(region)[T.Castelnuovo Berardenga]: effet positif (1137.5548) sur le prix\n",
      "C(region)[T.Castro Mirim]: effet négatif (-20.0425) sur le prix\n",
      "C(region)[T.Catane]: effet négatif (-447.6008) sur le prix\n",
      "C(region)[T.Cava D'aliga]: effet négatif (-544.2452) sur le prix\n",
      "C(region)[T.Cavi-casalone]: effet positif (353.3151) sur le prix\n",
      "C(region)[T.Caviano]: effet négatif (-870.8393) sur le prix\n",
      "C(region)[T.Celorico de Basto]: effet négatif (-173.7659) sur le prix\n",
      "C(region)[T.Cerfontaine]: effet négatif (-862.4230) sur le prix\n",
      "C(region)[T.Cesate]: effet négatif (-286.9124) sur le prix\n",
      "C(region)[T.Charly-sur-Marne]: effet positif (27.7007) sur le prix\n",
      "C(region)[T.Chemnitz]: effet négatif (-146.1288) sur le prix\n",
      "C(region)[T.Cherbourg-Octeville]: effet négatif (-60.6952) sur le prix\n",
      "C(region)[T.Churwalden]: effet négatif (-900.1405) sur le prix\n",
      "C(region)[T.Châtillon-sur-Cluses]: effet positif (1060.0392) sur le prix\n",
      "C(region)[T.Ciggiano]: effet négatif (-281.7837) sur le prix\n",
      "C(region)[T.Cisternino]: effet positif (353.3609) sur le prix\n",
      "C(region)[T.Combloux]: effet négatif (-83.0469) sur le prix\n",
      "C(region)[T.Comines-Warneton]: effet positif (61.1959) sur le prix\n",
      "C(region)[T.Contignano]: effet positif (414.4717) sur le prix\n",
      "C(region)[T.Cormondrèche]: effet négatif (-1207.3572) sur le prix\n",
      "C(region)[T.Cortona (AR)]: effet positif (547.4988) sur le prix\n",
      "C(region)[T.Courcelles]: effet positif (68.5017) sur le prix\n",
      "C(region)[T.Courroux]: effet négatif (-1867.6452) sur le prix\n",
      "C(region)[T.Cressier]: effet négatif (-869.9110) sur le prix\n",
      "C(region)[T.Crémines]: effet négatif (-1578.3416) sur le prix\n",
      "C(region)[T.Davos Platz]: effet négatif (-694.8050) sur le prix\n",
      "C(region)[T.Deißlingen]: effet positif (606.4408) sur le prix\n",
      "C(region)[T.Dieppe]: effet positif (381.9165) sur le prix\n",
      "C(region)[T.Dietersdorf]: effet positif (463.7890) sur le prix\n",
      "C(region)[T.Dietwil]: effet négatif (-324.1465) sur le prix\n",
      "C(region)[T.Dinant]: effet positif (662.9966) sur le prix\n",
      "C(region)[T.Donzdorf]: effet positif (429.4970) sur le prix\n",
      "C(region)[T.Dozza]: effet négatif (-660.3694) sur le prix\n",
      "C(region)[T.Dunkerque]: effet positif (281.4184) sur le prix\n",
      "C(region)[T.Durbuy]: effet négatif (-147.5981) sur le prix\n",
      "C(region)[T.Dílar]: effet négatif (-743.5662) sur le prix\n",
      "C(region)[T.Eichberg bei Hartmannsdorf]: effet positif (770.4433) sur le prix\n",
      "C(region)[T.Eisenach]: effet négatif (-58.3904) sur le prix\n",
      "C(region)[T.Elsene]: effet positif (109.5816) sur le prix\n",
      "C(region)[T.Engelskirchen]: effet négatif (-168.3532) sur le prix\n",
      "C(region)[T.Entraigues-sur-la-Sorgue]: effet négatif (-151.4638) sur le prix\n",
      "C(region)[T.Erfurt]: effet négatif (-18.7441) sur le prix\n",
      "C(region)[T.Ericeira]: effet négatif (-505.3074) sur le prix\n",
      "C(region)[T.Ermatingen]: effet négatif (-954.3825) sur le prix\n",
      "C(region)[T.Escholzmatt]: effet négatif (-755.6441) sur le prix\n",
      "C(region)[T.Esneux]: effet négatif (-970.6077) sur le prix\n",
      "C(region)[T.Essen]: effet positif (147.7321) sur le prix\n",
      "C(region)[T.Estavayer]: effet négatif (-300.6508) sur le prix\n",
      "C(region)[T.Estepona]: effet positif (164.5367) sur le prix\n",
      "C(region)[T.Estoril]: effet positif (131.3616) sur le prix\n",
      "C(region)[T.Estreito da Calheta]: effet positif (14.7962) sur le prix\n",
      "C(region)[T.Etterbeek]: effet positif (29.3433) sur le prix\n",
      "C(region)[T.Faimes]: effet positif (194.6788) sur le prix\n",
      "C(region)[T.Falkenstein]: effet négatif (-336.5657) sur le prix\n",
      "C(region)[T.Fay]: effet positif (254.9513) sur le prix\n",
      "C(region)[T.Feldbach]: effet positif (388.7373) sur le prix\n",
      "C(region)[T.Felsberg]: effet négatif (-947.0587) sur le prix\n",
      "C(region)[T.Ferenbalm]: effet négatif (-482.1572) sur le prix\n",
      "C(region)[T.Figline Valdarno]: effet négatif (-13.1945) sur le prix\n",
      "C(region)[T.Filzbach]: effet négatif (-996.3521) sur le prix\n",
      "C(region)[T.Finkenberg]: effet positif (263.2138) sur le prix\n",
      "C(region)[T.Fischenthal]: effet négatif (-698.7868) sur le prix\n",
      "C(region)[T.Flaach]: effet négatif (-522.5502) sur le prix\n",
      "C(region)[T.Flims]: effet négatif (-920.1766) sur le prix\n",
      "C(region)[T.Florence]: effet négatif (-401.5253) sur le prix\n",
      "C(region)[T.Forio]: effet positif (913.4691) sur le prix\n",
      "C(region)[T.Fosdinovo]: effet négatif (-270.9707) sur le prix\n",
      "C(region)[T.Francavilla Fontana]: effet positif (2245.4885) sur le prix\n",
      "C(region)[T.Freiburg im Breisgau]: effet négatif (-355.7987) sur le prix\n",
      "C(region)[T.Freising]: effet positif (66.1396) sur le prix\n",
      "C(region)[T.Friedrichskoog]: effet positif (157.3579) sur le prix\n",
      "C(region)[T.Frolois]: effet positif (273.4355) sur le prix\n",
      "C(region)[T.Funchal]: effet positif (346.1227) sur le prix\n",
      "C(region)[T.Gamlitz]: effet positif (994.4550) sur le prix\n",
      "C(region)[T.Gand]: effet négatif (-7.0668) sur le prix\n",
      "C(region)[T.Gaula]: effet positif (492.2135) sur le prix\n",
      "C(region)[T.Geldern]: effet positif (212.0089) sur le prix\n",
      "C(region)[T.Gerano]: effet négatif (-38.6983) sur le prix\n",
      "C(region)[T.Gieleroth]: effet négatif (-61.1901) sur le prix\n",
      "C(region)[T.Glarus Süd]: effet négatif (-1362.2798) sur le prix\n",
      "C(region)[T.Gleisdorf]: effet positif (441.1210) sur le prix\n",
      "C(region)[T.Gmunden]: effet positif (57.2521) sur le prix\n",
      "C(region)[T.Goudargues]: effet négatif (-785.1906) sur le prix\n",
      "C(region)[T.Graven]: effet négatif (-253.2700) sur le prix\n",
      "C(region)[T.Graz]: effet positif (318.7873) sur le prix\n",
      "C(region)[T.Grenade]: effet négatif (-188.7783) sur le prix\n",
      "C(region)[T.Grengiols]: effet négatif (-888.5265) sur le prix\n",
      "C(region)[T.Grenoble]: effet négatif (-93.5033) sur le prix\n",
      "C(region)[T.Grez-Doiceau]: effet positif (130.9301) sur le prix\n",
      "C(region)[T.Gruyères]: effet négatif (-1410.8031) sur le prix\n",
      "C(region)[T.Gryon]: effet négatif (-959.0632) sur le prix\n",
      "C(region)[T.Grünenbach]: effet positif (69.2558) sur le prix\n",
      "C(region)[T.Gschwend]: effet positif (375.7960) sur le prix\n",
      "C(region)[T.Gualchos]: effet positif (68.9555) sur le prix\n",
      "C(region)[T.Guanzate]: effet négatif (-383.5462) sur le prix\n",
      "C(region)[T.Göttingen]: effet positif (11.5532) sur le prix\n",
      "C(region)[T.Güstrow]: effet négatif (-85.4470) sur le prix\n",
      "C(region)[T.Halberstadt]: effet négatif (-189.6271) sur le prix\n",
      "C(region)[T.Hanovre]: effet négatif (-65.4143) sur le prix\n",
      "C(region)[T.Hastière]: effet négatif (-255.1986) sur le prix\n",
      "C(region)[T.Hausen]: effet négatif (-861.9768) sur le prix\n",
      "C(region)[T.Hautzendorf]: effet positif (593.2968) sur le prix\n",
      "C(region)[T.Hauzenberg]: effet négatif (-189.6396) sur le prix\n",
      "C(region)[T.Heidelberg]: effet positif (32.2962) sur le prix\n",
      "C(region)[T.Hellenthal]: effet positif (244.1221) sur le prix\n",
      "C(region)[T.Hennef (Sieg)]: effet positif (647.8524) sur le prix\n",
      "C(region)[T.Herdern]: effet négatif (-813.4647) sur le prix\n",
      "C(region)[T.Herve]: effet positif (88.3809) sur le prix\n",
      "C(region)[T.Himmelpforten]: effet négatif (-144.2775) sur le prix\n",
      "C(region)[T.Hooglede]: effet négatif (-612.6431) sur le prix\n",
      "C(region)[T.Hundeshagen]: effet positif (195.1686) sur le prix\n",
      "C(region)[T.Idron]: effet négatif (-77.0128) sur le prix\n",
      "C(region)[T.Imst]: effet positif (685.7908) sur le prix\n",
      "C(region)[T.Incourt]: effet négatif (-34.2057) sur le prix\n",
      "C(region)[T.Ingelheim am Rhein]: effet positif (40.7889) sur le prix\n",
      "C(region)[T.Innsbruck-Land]: effet positif (1251.0045) sur le prix\n",
      "C(region)[T.Intragna]: effet négatif (-1084.5248) sur le prix\n",
      "C(region)[T.Issum]: effet négatif (-79.7699) sur le prix\n",
      "C(region)[T.Ixelles]: effet positif (197.0359) sur le prix\n",
      "C(region)[T.Jaukenberg]: effet positif (504.2376) sur le prix\n",
      "C(region)[T.Jette]: effet positif (620.5133) sur le prix\n",
      "C(region)[T.Joachimsthal]: effet négatif (-190.2757) sur le prix\n",
      "C(region)[T.Kaisigen]: effet positif (343.9418) sur le prix\n",
      "C(region)[T.Kamenz]: effet positif (452.5511) sur le prix\n",
      "C(region)[T.Kapellen]: effet positif (255.7117) sur le prix\n",
      "C(region)[T.Kaprun]: effet positif (523.2668) sur le prix\n",
      "C(region)[T.Kell am See]: effet négatif (-49.6724) sur le prix\n",
      "C(region)[T.Kempen]: effet positif (18.9760) sur le prix\n",
      "C(region)[T.Kevelaer]: effet négatif (-58.4392) sur le prix\n",
      "C(region)[T.Kirchzarten]: effet positif (159.1064) sur le prix\n",
      "C(region)[T.Kirschnaumen]: effet négatif (-89.5909) sur le prix\n",
      "C(region)[T.Klagenfurt am Wörthersee]: effet positif (575.9841) sur le prix\n",
      "C(region)[T.Klettendorf]: effet positif (200.1541) sur le prix\n",
      "C(region)[T.Klosterneuburg]: effet positif (369.4316) sur le prix\n",
      "C(region)[T.Koppigen]: effet négatif (-1099.4538) sur le prix\n",
      "C(region)[T.Korschenbroich]: effet positif (73.4241) sur le prix\n",
      "C(region)[T.Kraainem]: effet négatif (-445.9412) sur le prix\n",
      "C(region)[T.Krefeld]: effet négatif (-143.9243) sur le prix\n",
      "C(region)[T.Krems an der Donau]: effet négatif (-594.6321) sur le prix\n",
      "C(region)[T.Kreuztal]: effet négatif (-157.5745) sur le prix\n",
      "C(region)[T.Köflach]: effet positif (601.3531) sur le prix\n",
      "C(region)[T.La Chapelle-Villars]: effet négatif (-132.6063) sur le prix\n",
      "C(region)[T.La Garde-Adhémar]: effet négatif (-283.5495) sur le prix\n",
      "C(region)[T.La Hulpe]: effet positif (237.9790) sur le prix\n",
      "C(region)[T.La Louvière]: effet positif (156.8569) sur le prix\n",
      "C(region)[T.La Sagne]: effet négatif (-1557.2262) sur le prix\n",
      "C(region)[T.Laax]: effet négatif (-1216.6023) sur le prix\n",
      "C(region)[T.Lagos]: effet positif (1942.5552) sur le prix\n",
      "C(region)[T.Langenstein]: effet positif (191.1337) sur le prix\n",
      "C(region)[T.Langenthal]: effet négatif (-868.2975) sur le prix\n",
      "C(region)[T.Lanjarón]: effet positif (137.8164) sur le prix\n",
      "C(region)[T.Lasne]: effet positif (130.5700) sur le prix\n",
      "C(region)[T.Lautenbach-Zell]: effet positif (154.0793) sur le prix\n",
      "C(region)[T.Le Mans]: effet négatif (-63.9303) sur le prix\n",
      "C(region)[T.Lens]: effet négatif (-250.6075) sur le prix\n",
      "C(region)[T.Leonding]: effet positif (771.2216) sur le prix\n",
      "C(region)[T.Leontica]: effet négatif (-1285.9048) sur le prix\n",
      "C(region)[T.Les Bordes]: effet négatif (-172.8638) sur le prix\n",
      "C(region)[T.Les Menuires]: effet négatif (-193.5094) sur le prix\n",
      "C(region)[T.Leukerbad]: effet négatif (-258.2388) sur le prix\n",
      "C(region)[T.Leytron]: effet négatif (-972.2494) sur le prix\n",
      "C(region)[T.León]: effet négatif (-215.6186) sur le prix\n",
      "C(region)[T.Lieboch]: effet positif (672.7925) sur le prix\n",
      "C(region)[T.Lingenau]: effet positif (441.6361) sur le prix\n",
      "C(region)[T.Linz]: effet positif (575.2646) sur le prix\n",
      "C(region)[T.Lisboa]: effet négatif (-245.5103) sur le prix\n",
      "C(region)[T.Lisbonne]: effet négatif (-208.7961) sur le prix\n",
      "C(region)[T.Liège]: effet négatif (-59.8533) sur le prix\n",
      "C(region)[T.Lorch]: effet négatif (-79.8783) sur le prix\n",
      "C(region)[T.Louvain]: effet négatif (-124.4540) sur le prix\n",
      "C(region)[T.Luc-sur-Mer]: effet positif (249.2679) sur le prix\n",
      "C(region)[T.Lucques]: effet positif (83.1357) sur le prix\n",
      "C(region)[T.Lugano]: effet négatif (-1240.2288) sur le prix\n",
      "C(region)[T.Lutry]: effet négatif (-1096.3106) sur le prix\n",
      "C(region)[T.Maaseik]: effet positif (92.4505) sur le prix\n",
      "C(region)[T.Madrid]: effet positif (150.8096) sur le prix\n",
      "C(region)[T.Maggia]: effet négatif (-822.4752) sur le prix\n",
      "C(region)[T.Malaga]: effet positif (898.1846) sur le prix\n",
      "C(region)[T.Mannebach]: effet positif (193.8709) sur le prix\n",
      "C(region)[T.Manosque]: effet négatif (-107.6604) sur le prix\n",
      "C(region)[T.Mantova]: effet négatif (-289.3719) sur le prix\n",
      "C(region)[T.Marais-Vernier]: effet positif (1155.3391) sur le prix\n",
      "C(region)[T.Marche-en-Famenne]: effet négatif (-234.9929) sur le prix\n",
      "C(region)[T.Marciaso]: effet positif (330.3915) sur le prix\n",
      "C(region)[T.Marly]: effet négatif (-582.5914) sur le prix\n",
      "C(region)[T.Mascali]: effet positif (387.1851) sur le prix\n",
      "C(region)[T.Matosinhos]: effet positif (344.0603) sur le prix\n",
      "C(region)[T.Mauerkirchen]: effet positif (540.8312) sur le prix\n",
      "C(region)[T.Mechelen]: effet positif (218.0170) sur le prix\n",
      "C(region)[T.Mechernich]: effet positif (7.0431) sur le prix\n",
      "C(region)[T.Mehlmeisel]: effet positif (10.9274) sur le prix\n",
      "C(region)[T.Meiningen]: effet négatif (-175.7194) sur le prix\n",
      "C(region)[T.Melbeck]: effet négatif (-373.7513) sur le prix\n",
      "C(region)[T.Menziken]: effet négatif (-632.9008) sur le prix\n",
      "C(region)[T.Mercato Saraceno]: effet négatif (-389.8861) sur le prix\n",
      "C(region)[T.Merelbeke]: effet positif (203.6331) sur le prix\n",
      "C(region)[T.Milan]: effet négatif (-334.6573) sur le prix\n",
      "C(region)[T.Miranda do Douro]: effet négatif (-147.8783) sur le prix\n",
      "C(region)[T.Modica]: effet négatif (-40.6036) sur le prix\n",
      "C(region)[T.Momignies]: effet positif (388.6527) sur le prix\n",
      "C(region)[T.Mons]: effet positif (20.5718) sur le prix\n",
      "C(region)[T.Montemassi]: effet négatif (-815.5052) sur le prix\n",
      "C(region)[T.Monterotondo]: effet négatif (-51.1572) sur le prix\n",
      "C(region)[T.Montfaucon]: effet négatif (-332.7885) sur le prix\n",
      "C(region)[T.Montigny-le-Tilleul]: effet positif (111.1202) sur le prix\n",
      "C(region)[T.Montvalezan]: effet négatif (-440.9594) sur le prix\n",
      "C(region)[T.Morbach]: effet négatif (-212.1236) sur le prix\n",
      "C(region)[T.Morgins]: effet négatif (-1241.3570) sur le prix\n",
      "C(region)[T.Mosen]: effet négatif (-542.4392) sur le prix\n",
      "C(region)[T.Moutiers]: effet positif (129.0342) sur le prix\n",
      "C(region)[T.Moutiers-Sous-Chantemerle]: effet négatif (-42.1443) sur le prix\n",
      "C(region)[T.Movelier]: effet positif (210.0063) sur le prix\n",
      "C(region)[T.Munich]: effet négatif (-354.8287) sur le prix\n",
      "C(region)[T.Mönichkirchen]: effet négatif (-139.1873) sur le prix\n",
      "C(region)[T.Mülheim an der Ruhr]: effet positif (145.7114) sur le prix\n",
      "C(region)[T.Münchhausen]: effet positif (5.2191) sur le prix\n",
      "C(region)[T.Nalbach]: effet positif (188.0421) sur le prix\n",
      "C(region)[T.Namur]: effet négatif (-87.3247) sur le prix\n",
      "C(region)[T.Nancy]: effet négatif (-140.2640) sur le prix\n",
      "C(region)[T.Naples]: effet négatif (-589.2559) sur le prix\n",
      "C(region)[T.Nerja]: effet positif (662.0081) sur le prix\n",
      "C(region)[T.Netphen]: effet positif (13.7023) sur le prix\n",
      "C(region)[T.Neumagen-Dhron]: effet négatif (-157.8321) sur le prix\n",
      "C(region)[T.Neunkirchen]: effet positif (565.2314) sur le prix\n",
      "C(region)[T.Nossen]: effet négatif (-361.1458) sur le prix\n",
      "C(region)[T.Nîmes]: effet positif (25.1822) sur le prix\n",
      "C(region)[T.O Barco]: effet positif (75.9660) sur le prix\n",
      "C(region)[T.Oberglatt]: effet négatif (-765.9612) sur le prix\n",
      "C(region)[T.Oberiberg]: effet négatif (-971.7718) sur le prix\n",
      "C(region)[T.Oberkrimml]: effet positif (667.1391) sur le prix\n",
      "C(region)[T.Obermichelbach]: effet négatif (-241.6523) sur le prix\n",
      "C(region)[T.Obernzell]: effet positif (355.9815) sur le prix\n",
      "C(region)[T.Oberstenfeld]: effet positif (143.6730) sur le prix\n",
      "C(region)[T.Oberzeiring]: effet positif (747.7593) sur le prix\n",
      "C(region)[T.Odeceixe]: effet positif (1016.1033) sur le prix\n",
      "C(region)[T.Offenburg]: effet négatif (-418.9745) sur le prix\n",
      "C(region)[T.Olhão]: effet positif (327.2302) sur le prix\n",
      "C(region)[T.Olne]: effet négatif (-718.5503) sur le prix\n",
      "C(region)[T.Olsberg]: effet négatif (-245.4512) sur le prix\n",
      "C(region)[T.Oostende]: effet négatif (-122.5305) sur le prix\n",
      "C(region)[T.Orciatico]: effet négatif (-234.2171) sur le prix\n",
      "C(region)[T.Orelle]: effet négatif (-114.7508) sur le prix\n",
      "C(region)[T.Ormont-Dessus]: effet négatif (-968.8856) sur le prix\n",
      "C(region)[T.Ostbevern]: effet positif (1.2199) sur le prix\n",
      "C(region)[T.Osterburken]: effet positif (65.0760) sur le prix\n",
      "C(region)[T.Ottmarsheim]: effet positif (475.1115) sur le prix\n",
      "C(region)[T.Paderborn]: effet positif (138.6113) sur le prix\n",
      "C(region)[T.Palma de Majorque]: effet négatif (-580.4216) sur le prix\n",
      "C(region)[T.Parchal]: effet positif (57.1760) sur le prix\n",
      "C(region)[T.Parede]: effet négatif (-253.0714) sur le prix\n",
      "C(region)[T.Paris]: effet positif (336.1280) sur le prix\n",
      "C(region)[T.Parrana San Martino]: effet positif (356.9430) sur le prix\n",
      "C(region)[T.Passo del Tonale]: effet positif (118.0804) sur le prix\n",
      "C(region)[T.Pedrógão Grande]: effet négatif (-392.3340) sur le prix\n",
      "C(region)[T.Penela]: effet positif (109.2497) sur le prix\n",
      "C(region)[T.Peniche]: effet positif (90.6273) sur le prix\n",
      "C(region)[T.Penking]: effet positif (174.0018) sur le prix\n",
      "C(region)[T.Pianillo]: effet négatif (-359.8931) sur le prix\n",
      "C(region)[T.Piegaro]: effet positif (511.1287) sur le prix\n",
      "C(region)[T.Pierres]: effet négatif (-464.3020) sur le prix\n",
      "C(region)[T.Pietra Ligure]: effet négatif (-194.3518) sur le prix\n",
      "C(region)[T.Pieve Vergonte]: effet négatif (-635.9277) sur le prix\n",
      "C(region)[T.Piumazzo]: effet négatif (-488.6213) sur le prix\n",
      "C(region)[T.Plasencia]: effet négatif (-390.9825) sur le prix\n",
      "C(region)[T.Plesching]: effet positif (814.3879) sur le prix\n",
      "C(region)[T.Ponzana]: effet négatif (-773.8297) sur le prix\n",
      "C(region)[T.Pornic]: effet positif (462.8587) sur le prix\n",
      "C(region)[T.Porto]: effet positif (29.4685) sur le prix\n",
      "C(region)[T.Porto de Mós]: effet positif (238.5368) sur le prix\n",
      "C(region)[T.Profondeville]: effet positif (55.4389) sur le prix\n",
      "C(region)[T.Prévessin-Moëns]: effet positif (276.5136) sur le prix\n",
      "C(region)[T.Puchen]: effet positif (177.3339) sur le prix\n",
      "C(region)[T.Puy-Saint-Vincent]: effet négatif (-895.8776) sur le prix\n",
      "C(region)[T.Pörtschach am Wörthersee]: effet positif (28.3979) sur le prix\n",
      "C(region)[T.Quartu Sant'Elena]: effet positif (1689.7703) sur le prix\n",
      "C(region)[T.Rai]: effet négatif (-545.7154) sur le prix\n",
      "C(region)[T.Ramela]: effet négatif (-426.1503) sur le prix\n",
      "C(region)[T.Rastede]: effet négatif (-150.2449) sur le prix\n",
      "C(region)[T.Rauchwart im Burgenland]: effet positif (757.4095) sur le prix\n",
      "C(region)[T.Renens]: effet négatif (-508.6947) sur le prix\n",
      "C(region)[T.Rheinfelden]: effet négatif (-699.8674) sur le prix\n",
      "C(region)[T.Riedholz]: effet négatif (-751.2582) sur le prix\n",
      "C(region)[T.Rieding]: effet positif (327.2007) sur le prix\n",
      "C(region)[T.Riol]: effet négatif (-100.3114) sur le prix\n",
      "C(region)[T.Roche-d'Or]: effet négatif (-1130.9873) sur le prix\n",
      "C(region)[T.Roetgen]: effet positif (14.9323) sur le prix\n",
      "C(region)[T.Rognaix]: effet positif (118.7305) sur le prix\n",
      "C(region)[T.Rome]: effet négatif (-302.3680) sur le prix\n",
      "C(region)[T.Romorantin-Lanthenay]: effet positif (482.4537) sur le prix\n",
      "C(region)[T.Roskow]: effet négatif (-4.1347) sur le prix\n",
      "C(region)[T.Rottweil]: effet positif (146.5871) sur le prix\n",
      "C(region)[T.Runkel]: effet positif (287.7840) sur le prix\n",
      "C(region)[T.Saarbrücken]: effet négatif (-16.1498) sur le prix\n",
      "C(region)[T.Saas im Prättigau]: effet négatif (-680.6445) sur le prix\n",
      "C(region)[T.Sagres]: effet négatif (-263.5729) sur le prix\n",
      "C(region)[T.Saint-Ciers-sur-Gironde]: effet positif (91.7002) sur le prix\n",
      "C(region)[T.Saint-Ghislain]: effet positif (118.9149) sur le prix\n",
      "C(region)[T.Saint-Jean-de-Maurienne]: effet négatif (-113.2324) sur le prix\n",
      "C(region)[T.Saint-Jeoire]: effet positif (233.4111) sur le prix\n",
      "C(region)[T.Saint-Raphaël]: effet positif (650.4302) sur le prix\n",
      "C(region)[T.Saint-Zacharie]: effet négatif (-545.0213) sur le prix\n",
      "C(region)[T.Saint-Étienne-de-Tinée]: effet négatif (-203.1192) sur le prix\n",
      "C(region)[T.Sainte-Radegonde]: effet négatif (-48.1153) sur le prix\n",
      "C(region)[T.Sallanches]: effet négatif (-67.3640) sur le prix\n",
      "C(region)[T.San Prospero]: effet positif (307.7450) sur le prix\n",
      "C(region)[T.Sankt Englmar]: effet positif (61.8790) sur le prix\n",
      "C(region)[T.Sankt Gallen]: effet négatif (-959.0055) sur le prix\n",
      "C(region)[T.Sankt Ruprecht an der Raab]: effet positif (217.3924) sur le prix\n",
      "C(region)[T.Sankt Valentin]: effet positif (479.3369) sur le prix\n",
      "C(region)[T.Sant'Antioco]: effet positif (942.1083) sur le prix\n",
      "C(region)[T.Sant'Oreste]: effet positif (38.3218) sur le prix\n",
      "C(region)[T.Santarem]: effet négatif (-303.0579) sur le prix\n",
      "C(region)[T.Santarém]: effet négatif (-909.9341) sur le prix\n",
      "C(region)[T.Sattledt]: effet positif (179.5708) sur le prix\n",
      "C(region)[T.Saône]: effet négatif (-593.7816) sur le prix\n",
      "C(region)[T.Schaarbeek]: effet positif (293.5099) sur le prix\n",
      "C(region)[T.Schaerbeek]: effet positif (469.4691) sur le prix\n",
      "C(region)[T.Schauenburg]: effet négatif (-80.4683) sur le prix\n",
      "C(region)[T.Scherzingen]: effet négatif (-1263.7310) sur le prix\n",
      "C(region)[T.Schleiden]: effet négatif (-65.3874) sur le prix\n",
      "C(region)[T.Schoten]: effet négatif (-93.0327) sur le prix\n",
      "C(region)[T.Schwanewede]: effet négatif (-67.8218) sur le prix\n",
      "C(region)[T.Scicli]: effet négatif (-212.3256) sur le prix\n",
      "C(region)[T.Seefeld in Tirol]: effet positif (877.6411) sur le prix\n",
      "C(region)[T.Seengen]: effet négatif (-338.2533) sur le prix\n",
      "C(region)[T.Seneffe]: effet positif (130.8943) sur le prix\n",
      "C(region)[T.Sens]: effet négatif (-442.8179) sur le prix\n",
      "C(region)[T.Sesimbra]: effet positif (496.2616) sur le prix\n",
      "C(region)[T.Setúbal]: effet négatif (-653.6412) sur le prix\n",
      "C(region)[T.Siat]: effet négatif (-1051.3527) sur le prix\n",
      "C(region)[T.Siglistorf]: effet négatif (-782.9592) sur le prix\n",
      "C(region)[T.Silves]: effet négatif (-426.1244) sur le prix\n",
      "C(region)[T.Simmerath]: effet négatif (-135.6431) sur le prix\n",
      "C(region)[T.Sint-Jans-Molenbeek]: effet positif (205.7702) sur le prix\n",
      "C(region)[T.Sintra]: effet négatif (-1562.0861) sur le prix\n",
      "C(region)[T.Sinzheim]: effet négatif (-29.4632) sur le prix\n",
      "C(region)[T.Sommerkahl]: effet positif (205.9785) sur le prix\n",
      "C(region)[T.Sommerloch]: effet négatif (-165.0397) sur le prix\n",
      "C(region)[T.Sovicille]: effet positif (151.3715) sur le prix\n",
      "C(region)[T.Soyhières]: effet négatif (-1326.8996) sur le prix\n",
      "C(region)[T.Spa]: effet négatif (-17.5004) sur le prix\n",
      "C(region)[T.Speicher]: effet négatif (-273.1602) sur le prix\n",
      "C(region)[T.Speicherschwendi]: effet négatif (-1184.7264) sur le prix\n",
      "C(region)[T.Sprimont]: effet négatif (-18.4848) sur le prix\n",
      "C(region)[T.St. Gallen]: effet négatif (-811.4787) sur le prix\n",
      "C(region)[T.Stanz bei Landeck]: effet positif (1174.9594) sur le prix\n",
      "C(region)[T.Stegersbach]: effet positif (136.0414) sur le prix\n",
      "C(region)[T.Steinakirchen am Forst]: effet positif (681.2832) sur le prix\n",
      "C(region)[T.Steyr]: effet positif (755.6942) sur le prix\n",
      "C(region)[T.Steyr-Land]: effet positif (663.0612) sur le prix\n",
      "C(region)[T.Stäfa]: effet négatif (-501.5194) sur le prix\n",
      "C(region)[T.Subingen]: effet négatif (-1270.6085) sur le prix\n",
      "C(region)[T.Switzerland]: effet négatif (-573.1974) sur le prix\n",
      "C(region)[T.Syracuse]: effet positif (571.6637) sur le prix\n",
      "C(region)[T.Séville]: effet positif (383.8417) sur le prix\n",
      "C(region)[T.Talmassons]: effet négatif (-1150.6857) sur le prix\n",
      "C(region)[T.Tavira]: effet négatif (-282.9602) sur le prix\n",
      "C(region)[T.Tervuren]: effet négatif (-29.4374) sur le prix\n",
      "C(region)[T.Thaon-les-Vosges]: effet positif (188.9771) sur le prix\n",
      "C(region)[T.Theux]: effet négatif (-264.2315) sur le prix\n",
      "C(region)[T.Thon]: effet positif (505.6485) sur le prix\n",
      "C(region)[T.Toulouse]: effet positif (57.4942) sur le prix\n",
      "C(region)[T.Traun]: effet positif (815.1442) sur le prix\n",
      "C(region)[T.Trevélez]: effet positif (407.0678) sur le prix\n",
      "C(region)[T.Trippstadt]: effet négatif (-362.8841) sur le prix\n",
      "C(region)[T.Troisdorf]: effet négatif (-258.9419) sur le prix\n",
      "C(region)[T.Turin]: effet négatif (-666.0395) sur le prix\n",
      "C(region)[T.Twist]: effet négatif (-212.9528) sur le prix\n",
      "C(region)[T.Uccle]: effet positif (185.0191) sur le prix\n",
      "C(region)[T.Uitikon]: effet négatif (-36.5792) sur le prix\n",
      "C(region)[T.Uster]: effet négatif (-984.4006) sur le prix\n",
      "C(region)[T.Uttwil]: effet négatif (-1077.5497) sur le prix\n",
      "C(region)[T.Uzwil]: effet négatif (-695.6494) sur le prix\n",
      "C(region)[T.Val-d'Illiez]: effet négatif (-1432.6159) sur le prix\n",
      "C(region)[T.Val-de-Travers]: effet négatif (-938.2697) sur le prix\n",
      "C(region)[T.Valsolda]: effet positif (123.9717) sur le prix\n",
      "C(region)[T.València]: effet négatif (-1903.9170) sur le prix\n",
      "C(region)[T.Varese]: effet négatif (-311.3243) sur le prix\n",
      "C(region)[T.Vaux-sur-Sûre]: effet négatif (-167.4581) sur le prix\n",
      "C(region)[T.Vaz/Obervaz]: effet négatif (-810.7519) sur le prix\n",
      "C(region)[T.Venise]: effet positif (110.4111) sur le prix\n",
      "C(region)[T.Viana do Castelo]: effet positif (675.8836) sur le prix\n",
      "C(region)[T.Vienne]: effet positif (437.4802) sur le prix\n",
      "C(region)[T.Viersen]: effet négatif (-181.0165) sur le prix\n",
      "C(region)[T.Vigevano]: effet positif (713.0408) sur le prix\n",
      "C(region)[T.Vila Nova de Gaia]: effet négatif (-1133.2199) sur le prix\n",
      "C(region)[T.Villa A Sesta]: effet positif (20.7310) sur le prix\n",
      "C(region)[T.Villach]: effet positif (1015.3799) sur le prix\n",
      "C(region)[T.Vouvray]: effet négatif (-427.3975) sur le prix\n",
      "C(region)[T.Wald-Michelbach]: effet négatif (-119.2602) sur le prix\n",
      "C(region)[T.Walhain]: effet négatif (-106.6844) sur le prix\n",
      "C(region)[T.Wals]: effet positif (698.6638) sur le prix\n",
      "C(region)[T.Wanze]: effet négatif (-173.5286) sur le prix\n",
      "C(region)[T.Waremme]: effet positif (61.4619) sur le prix\n",
      "C(region)[T.Watermaal-Bosvoorde]: effet positif (207.1004) sur le prix\n",
      "C(region)[T.Watermael-Boitsfort]: effet positif (319.3049) sur le prix\n",
      "C(region)[T.Wavre]: effet positif (80.9397) sur le prix\n",
      "C(region)[T.Weilerbach]: effet positif (180.6293) sur le prix\n",
      "C(region)[T.Wels]: effet positif (559.3911) sur le prix\n",
      "C(region)[T.Wermsdorf - Calbitz]: effet positif (160.9375) sur le prix\n",
      "C(region)[T.Werneuchen]: effet positif (304.7509) sur le prix\n",
      "C(region)[T.Westerlo]: effet positif (241.9189) sur le prix\n",
      "C(region)[T.Weyhausen]: effet négatif (-328.7296) sur le prix\n",
      "C(region)[T.Wezembeek-Oppem]: effet positif (154.7303) sur le prix\n",
      "C(region)[T.Wiener Neudorf]: effet positif (733.4296) sur le prix\n",
      "C(region)[T.Wiler (Lötschen)]: effet négatif (-876.0921) sur le prix\n",
      "C(region)[T.Winterberg]: effet négatif (-180.1096) sur le prix\n",
      "C(region)[T.Wohlen bei Bern]: effet négatif (-429.3367) sur le prix\n",
      "C(region)[T.Wolfegg]: effet négatif (-250.8321) sur le prix\n",
      "C(region)[T.Wolfertswil]: effet négatif (-780.9101) sur le prix\n",
      "C(region)[T.Wolfhagen]: effet négatif (-265.6784) sur le prix\n",
      "C(region)[T.Wundschuh]: effet positif (106.6537) sur le prix\n",
      "C(region)[T.Yutz]: effet négatif (-132.0846) sur le prix\n",
      "C(region)[T.Zehethof]: effet négatif (-107.2851) sur le prix\n",
      "C(region)[T.Zirkitzen]: effet positif (342.3228) sur le prix\n",
      "C(region)[T.Zürich]: effet négatif (-1588.8844) sur le prix\n",
      "C(region)[T.car/caravane - Carrazeda de Ansiães]: effet négatif (-339.5253) sur le prix\n",
      "C(region)[T.car/caravane - Francfort-sur-l'Oder]: effet positif (289.2112) sur le prix\n",
      "C(region)[T.Érezée]: effet négatif (-40.6035) sur le prix\n",
      "old_price: effet positif (0.5487) sur le prix\n",
      "voyageurs: effet positif (10.1872) sur le prix\n",
      "rooms: effet positif (91.3441) sur le prix\n",
      "bed: effet négatif (-19.9495) sur le prix\n",
      "bathroom: effet positif (188.0406) sur le prix\n"
     ]
    }
   ],
   "source": [
    "# la formule pour le modèle de régression linéaire\n",
    "formula = 'price ~ old_price + C(Type) + C(pays) + C(region) + voyageurs + rooms + bed + bathroom'\n",
    "model = ols(formula, data=data).fit()\n",
    "print(\"Coefficients du modèle:\")\n",
    "print(model.params)\n",
    "\n",
    "# Interpréteration des coefficients\n",
    "print(\"\\nInterprétation des coefficients:\")\n",
    "for factor, coef in model.params.items():\n",
    "    if coef > 0:\n",
    "        direction = \"positif\"\n",
    "    else:\n",
    "        direction = \"négatif\"\n",
    "    \n",
    "    print(f\"{factor}: effet {direction} ({coef:.4f}) sur le prix\")\n"
   ]
  },
  {
   "cell_type": "code",
   "execution_count": 20,
   "metadata": {},
   "outputs": [
    {
     "data": {
      "text/html": [
       "<div>\n",
       "<style scoped>\n",
       "    .dataframe tbody tr th:only-of-type {\n",
       "        vertical-align: middle;\n",
       "    }\n",
       "\n",
       "    .dataframe tbody tr th {\n",
       "        vertical-align: top;\n",
       "    }\n",
       "\n",
       "    .dataframe thead th {\n",
       "        text-align: right;\n",
       "    }\n",
       "</style>\n",
       "<table border=\"1\" class=\"dataframe\">\n",
       "  <thead>\n",
       "    <tr style=\"text-align: right;\">\n",
       "      <th></th>\n",
       "      <th>Unnamed: 0</th>\n",
       "      <th>price</th>\n",
       "      <th>old_price</th>\n",
       "      <th>voyageurs</th>\n",
       "      <th>rooms</th>\n",
       "      <th>bed</th>\n",
       "      <th>bathroom</th>\n",
       "      <th>period_start</th>\n",
       "      <th>period_end</th>\n",
       "      <th>new_rating</th>\n",
       "      <th>...</th>\n",
       "      <th>region_Wolfertswil</th>\n",
       "      <th>region_Wolfhagen</th>\n",
       "      <th>region_Wundschuh</th>\n",
       "      <th>region_Yutz</th>\n",
       "      <th>region_Zehethof</th>\n",
       "      <th>region_Zirkitzen</th>\n",
       "      <th>region_Zürich</th>\n",
       "      <th>region_car/caravane - Carrazeda de Ansiães</th>\n",
       "      <th>region_car/caravane - Francfort-sur-l'Oder</th>\n",
       "      <th>region_Érezée</th>\n",
       "    </tr>\n",
       "  </thead>\n",
       "  <tbody>\n",
       "    <tr>\n",
       "      <th>0</th>\n",
       "      <td>0</td>\n",
       "      <td>2920.0</td>\n",
       "      <td>6084.0</td>\n",
       "      <td>9</td>\n",
       "      <td>3</td>\n",
       "      <td>8</td>\n",
       "      <td>2</td>\n",
       "      <td>2024-07-31</td>\n",
       "      <td>2024-08-31</td>\n",
       "      <td>4.97</td>\n",
       "      <td>...</td>\n",
       "      <td>False</td>\n",
       "      <td>False</td>\n",
       "      <td>False</td>\n",
       "      <td>False</td>\n",
       "      <td>False</td>\n",
       "      <td>False</td>\n",
       "      <td>False</td>\n",
       "      <td>False</td>\n",
       "      <td>False</td>\n",
       "      <td>False</td>\n",
       "    </tr>\n",
       "    <tr>\n",
       "      <th>1</th>\n",
       "      <td>1</td>\n",
       "      <td>1500.0</td>\n",
       "      <td>1705.0</td>\n",
       "      <td>2</td>\n",
       "      <td>1</td>\n",
       "      <td>1</td>\n",
       "      <td>1</td>\n",
       "      <td>2024-07-31</td>\n",
       "      <td>2024-08-31</td>\n",
       "      <td>4.89</td>\n",
       "      <td>...</td>\n",
       "      <td>False</td>\n",
       "      <td>False</td>\n",
       "      <td>False</td>\n",
       "      <td>False</td>\n",
       "      <td>False</td>\n",
       "      <td>False</td>\n",
       "      <td>False</td>\n",
       "      <td>False</td>\n",
       "      <td>False</td>\n",
       "      <td>False</td>\n",
       "    </tr>\n",
       "    <tr>\n",
       "      <th>2</th>\n",
       "      <td>2</td>\n",
       "      <td>1968.0</td>\n",
       "      <td>3280.0</td>\n",
       "      <td>2</td>\n",
       "      <td>1</td>\n",
       "      <td>1</td>\n",
       "      <td>1</td>\n",
       "      <td>2024-07-31</td>\n",
       "      <td>2024-08-31</td>\n",
       "      <td>4.81</td>\n",
       "      <td>...</td>\n",
       "      <td>False</td>\n",
       "      <td>False</td>\n",
       "      <td>False</td>\n",
       "      <td>False</td>\n",
       "      <td>False</td>\n",
       "      <td>False</td>\n",
       "      <td>False</td>\n",
       "      <td>False</td>\n",
       "      <td>False</td>\n",
       "      <td>False</td>\n",
       "    </tr>\n",
       "    <tr>\n",
       "      <th>3</th>\n",
       "      <td>3</td>\n",
       "      <td>2353.0</td>\n",
       "      <td>2870.0</td>\n",
       "      <td>4</td>\n",
       "      <td>2</td>\n",
       "      <td>3</td>\n",
       "      <td>1</td>\n",
       "      <td>2024-07-31</td>\n",
       "      <td>2024-08-31</td>\n",
       "      <td>4.96</td>\n",
       "      <td>...</td>\n",
       "      <td>False</td>\n",
       "      <td>False</td>\n",
       "      <td>False</td>\n",
       "      <td>False</td>\n",
       "      <td>False</td>\n",
       "      <td>False</td>\n",
       "      <td>False</td>\n",
       "      <td>False</td>\n",
       "      <td>False</td>\n",
       "      <td>False</td>\n",
       "    </tr>\n",
       "    <tr>\n",
       "      <th>4</th>\n",
       "      <td>4</td>\n",
       "      <td>2129.0</td>\n",
       "      <td>2505.0</td>\n",
       "      <td>2</td>\n",
       "      <td>1</td>\n",
       "      <td>1</td>\n",
       "      <td>1</td>\n",
       "      <td>2024-07-31</td>\n",
       "      <td>2024-08-31</td>\n",
       "      <td>4.83</td>\n",
       "      <td>...</td>\n",
       "      <td>False</td>\n",
       "      <td>False</td>\n",
       "      <td>False</td>\n",
       "      <td>False</td>\n",
       "      <td>False</td>\n",
       "      <td>False</td>\n",
       "      <td>False</td>\n",
       "      <td>False</td>\n",
       "      <td>False</td>\n",
       "      <td>False</td>\n",
       "    </tr>\n",
       "  </tbody>\n",
       "</table>\n",
       "<p>5 rows × 548 columns</p>\n",
       "</div>"
      ],
      "text/plain": [
       "   Unnamed: 0   price  old_price  voyageurs  rooms  bed  bathroom  \\\n",
       "0           0  2920.0     6084.0          9      3    8         2   \n",
       "1           1  1500.0     1705.0          2      1    1         1   \n",
       "2           2  1968.0     3280.0          2      1    1         1   \n",
       "3           3  2353.0     2870.0          4      2    3         1   \n",
       "4           4  2129.0     2505.0          2      1    1         1   \n",
       "\n",
       "  period_start  period_end  new_rating  ...  region_Wolfertswil  \\\n",
       "0   2024-07-31  2024-08-31        4.97  ...               False   \n",
       "1   2024-07-31  2024-08-31        4.89  ...               False   \n",
       "2   2024-07-31  2024-08-31        4.81  ...               False   \n",
       "3   2024-07-31  2024-08-31        4.96  ...               False   \n",
       "4   2024-07-31  2024-08-31        4.83  ...               False   \n",
       "\n",
       "   region_Wolfhagen  region_Wundschuh  region_Yutz  region_Zehethof  \\\n",
       "0             False             False        False            False   \n",
       "1             False             False        False            False   \n",
       "2             False             False        False            False   \n",
       "3             False             False        False            False   \n",
       "4             False             False        False            False   \n",
       "\n",
       "   region_Zirkitzen  region_Zürich  \\\n",
       "0             False          False   \n",
       "1             False          False   \n",
       "2             False          False   \n",
       "3             False          False   \n",
       "4             False          False   \n",
       "\n",
       "   region_car/caravane - Carrazeda de Ansiães  \\\n",
       "0                                       False   \n",
       "1                                       False   \n",
       "2                                       False   \n",
       "3                                       False   \n",
       "4                                       False   \n",
       "\n",
       "   region_car/caravane - Francfort-sur-l'Oder  region_Érezée  \n",
       "0                                       False          False  \n",
       "1                                       False          False  \n",
       "2                                       False          False  \n",
       "3                                       False          False  \n",
       "4                                       False          False  \n",
       "\n",
       "[5 rows x 548 columns]"
      ]
     },
     "execution_count": 20,
     "metadata": {},
     "output_type": "execute_result"
    }
   ],
   "source": [
    "data.head()"
   ]
  },
  {
   "cell_type": "markdown",
   "metadata": {},
   "source": [
    "### Table d'anova pour New rating"
   ]
  },
  {
   "cell_type": "code",
   "execution_count": 27,
   "metadata": {},
   "outputs": [
    {
     "name": "stdout",
     "output_type": "stream",
     "text": [
      "Effets des facteurs significatifs sur new_rating:\n",
      "C(Type)[T.Camping]                                 -0.425468\n",
      "C(Type)[T.Chambre dans appart'hôtel]               -0.121275\n",
      "C(Type)[T.Chambre dans hôtel]                       0.124513\n",
      "C(Type)[T.Château]                                 -0.049836\n",
      "C(Type)[T.Conteneur industriel]                     0.661877\n",
      "                                                      ...   \n",
      "C(region)[T.car/caravane - Carrazeda de Ansiães]   -0.939249\n",
      "C(region)[T.car/caravane - Francfort-sur-l'Oder]    0.513780\n",
      "C(region)[T.Érezée]                                 0.060185\n",
      "price                                               0.000029\n",
      "rooms                                              -0.099890\n",
      "Length: 533, dtype: float64\n"
     ]
    }
   ],
   "source": [
    "# Nous convertions les variables catégorielles en type 'category'\n",
    "data['Type'] = data['Type'].astype('category')\n",
    "data['region'] = data['region'].astype('category')\n",
    "\n",
    "# La formule pour l'ANOVA et l'ajustement du modèle\n",
    "formula = 'new_rating ~ price + old_price + C(Type) + C(region) + voyageurs + rooms + bed + bathroom'\n",
    "model = ols(formula, data=data).fit()\n",
    "anova_table = sm.stats.anova_lm(model, typ=2)\n",
    "\n",
    "# les facteurs significatifs (p-value < 0.05)\n",
    "significant_factors = anova_table[anova_table['PR(>F)'] < 0.05]\n",
    "\n",
    "# Affichage des coefficients du modèle ajusté\n",
    "coefficients = model.params\n",
    "\n",
    "# Nous filtrons les coefficients pour montrer les effets des facteurs significatifs\n",
    "significant_effects = pd.concat([\n",
    "    coefficients.filter(like='Type'),\n",
    "    coefficients.filter(like='region'),\n",
    "    coefficients.loc[['price', 'rooms']]\n",
    "])\n",
    "\n",
    "print(\"Effets des facteurs significatifs sur new_rating:\")\n",
    "print(significant_effects)\n"
   ]
  },
  {
   "cell_type": "code",
   "execution_count": 51,
   "metadata": {},
   "outputs": [
    {
     "name": "stdout",
     "output_type": "stream",
     "text": [
      "Tableau ANOVA complet:\n",
      "              sum_sq     df         F        PR(>F)\n",
      "C(Type)     2.674592   30.0  3.288400  1.905981e-07\n",
      "C(region)  16.513900  501.0  1.215795  4.452229e-02\n",
      "price       0.036308    1.0  1.339225  2.483659e-01\n",
      "old_price   0.013171    1.0  0.485808  4.865042e-01\n",
      "voyageurs   0.020751    1.0  0.765399  3.825530e-01\n",
      "rooms       0.140894    1.0  5.196851  2.354061e-02\n",
      "bed         0.051443    1.0  1.897483  1.696935e-01\n",
      "bathroom    0.000074    1.0  0.002727  9.583991e-01\n",
      "Residual    6.262728  231.0       NaN           NaN\n",
      "\n",
      "Facteurs significatifs (p-value < 0.05):\n",
      "              sum_sq     df         F        PR(>F)\n",
      "C(Type)     2.674592   30.0  3.288400  1.905981e-07\n",
      "C(region)  16.513900  501.0  1.215795  4.452229e-02\n",
      "rooms       0.140894    1.0  5.196851  2.354061e-02\n"
     ]
    }
   ],
   "source": [
    "# changement(convertir) des variables catégorielles en type category\n",
    "data['Type'] = data['Type'].astype('category')\n",
    "data['region'] = data['region'].astype('category')\n",
    "\n",
    "# la formule pour l'ANOVA\n",
    "formula = 'new_rating ~ price + old_price + C(Type) + C(region) + voyageurs + rooms + bed + bathroom'\n",
    "model = ols(formula, data=data).fit()\n",
    "anova_table = sm.stats.anova_lm(model, typ=2)\n",
    "print(\"Tableau ANOVA complet:\")\n",
    "print(anova_table)\n",
    "significant_factors = anova_table[anova_table['PR(>F)'] < 0.05]\n",
    "print(\"\\nFacteurs significatifs (p-value < 0.05):\")\n",
    "print(significant_factors)\n"
   ]
  },
  {
   "cell_type": "markdown",
   "metadata": {},
   "source": [
    "### Comparaison des modèles de régression pour la prédiction des prix"
   ]
  },
  {
   "cell_type": "code",
   "execution_count": 58,
   "metadata": {},
   "outputs": [
    {
     "name": "stdout",
     "output_type": "stream",
     "text": [
      "Model Comparison\n",
      "               Model  Mean Squared Error       R^2\n",
      "0  Linear Regression       353866.633647  0.555967\n",
      "1      Random Forest       197681.458723  0.751949\n",
      "2            XGBoost       209173.565960  0.737528\n"
     ]
    }
   ],
   "source": [
    "import pandas as pd\n",
    "import plotly.graph_objects as go\n",
    "from sklearn.model_selection import train_test_split\n",
    "from sklearn.linear_model import LinearRegression\n",
    "from sklearn.ensemble import RandomForestRegressor\n",
    "import xgboost as xgb\n",
    "from sklearn.metrics import mean_squared_error, r2_score\n",
    "\n",
    "#  Conversion des variables catégorielles en variables numériques à l'aide du codage one-hot\n",
    "data = pd.get_dummies(data, columns=['Type', 'pays', 'region'], drop_first=True)\n",
    "\n",
    "# features : (X) et  la variable cible (y) \n",
    "X = data[['old_price', 'rooms', 'bed', 'bathroom'] + \n",
    "         [col for col in data.columns if 'Type_' in col or 'pays_' in col or 'region_' in col]]\n",
    "y = data['price']\n",
    "X_train, X_test, y_train, y_test = train_test_split(X, y, test_size=0.2, random_state=42)\n",
    "\n",
    "# Model 1: Linear Regression\n",
    "lr_model = LinearRegression()\n",
    "lr_model.fit(X_train, y_train)\n",
    "y_pred_lr = lr_model.predict(X_test)\n",
    "mse_lr = mean_squared_error(y_test, y_pred_lr)\n",
    "r2_lr = r2_score(y_test, y_pred_lr)\n",
    "\n",
    "# Model 2: Random Forest Regression\n",
    "rf_model = RandomForestRegressor(n_estimators=100, random_state=42)\n",
    "rf_model.fit(X_train, y_train)\n",
    "y_pred_rf = rf_model.predict(X_test)\n",
    "mse_rf = mean_squared_error(y_test, y_pred_rf)\n",
    "r2_rf = r2_score(y_test, y_pred_rf)\n",
    "\n",
    "# Model 3: XGBoost Regression\n",
    "xgboost_model = xgb.XGBRegressor(objective='reg:squarederror', n_estimators=100, random_state=42)\n",
    "xgboost_model.fit(X_train, y_train)\n",
    "y_pred_xgb = xgboost_model.predict(X_test)\n",
    "mse_xgb = mean_squared_error(y_test, y_pred_xgb)\n",
    "r2_xgb = r2_score(y_test, y_pred_xgb)\n",
    "\n",
    "# Comparaison des modèles\n",
    "comparison = pd.DataFrame({\n",
    "    \"Model\": [\"Linear Regression\", \"Random Forest\", \"XGBoost\"],\n",
    "    \"Mean Squared Error\": [mse_lr, mse_rf, mse_xgb],\n",
    "    \"R^2\": [r2_lr, r2_rf, r2_xgb]\n",
    "})\n",
    "\n",
    "print(\"Model Comparison\")\n",
    "print(comparison)\n",
    "\n"
   ]
  },
  {
   "cell_type": "code",
   "execution_count": 15,
   "metadata": {},
   "outputs": [
    {
     "name": "stdout",
     "output_type": "stream",
     "text": [
      "Requirement already satisfied: plotly in c:\\users\\abdi\\appdata\\local\\programs\\python\\python39\\lib\\site-packages (5.22.0)\n",
      "Requirement already satisfied: tenacity>=6.2.0 in c:\\users\\abdi\\appdata\\local\\programs\\python\\python39\\lib\\site-packages (from plotly) (8.2.3)\n",
      "Requirement already satisfied: packaging in c:\\users\\abdi\\appdata\\local\\programs\\python\\python39\\lib\\site-packages (from plotly) (23.2)\n",
      "Note: you may need to restart the kernel to use updated packages.\n"
     ]
    },
    {
     "name": "stderr",
     "output_type": "stream",
     "text": [
      "WARNING: Ignoring invalid distribution -atplotlib (c:\\users\\abdi\\appdata\\local\\programs\\python\\python39\\lib\\site-packages)\n",
      "WARNING: Ignoring invalid distribution -atplotlib (c:\\users\\abdi\\appdata\\local\\programs\\python\\python39\\lib\\site-packages)\n",
      "\n",
      "[notice] A new release of pip is available: 24.0 -> 24.2\n",
      "[notice] To update, run: python.exe -m pip install --upgrade pip\n"
     ]
    }
   ],
   "source": [
    "pip install plotly\n"
   ]
  },
  {
   "cell_type": "markdown",
   "metadata": {},
   "source": [
    "### Création des génériques données pour prédiction des prix en utilisant RF modèle"
   ]
  },
  {
   "cell_type": "code",
   "execution_count": 67,
   "metadata": {},
   "outputs": [
    {
     "name": "stderr",
     "output_type": "stream",
     "text": [
      "C:\\Users\\Abdi\\AppData\\Local\\Temp\\ipykernel_2528\\4171585614.py:26: PerformanceWarning:\n",
      "\n",
      "DataFrame is highly fragmented.  This is usually the result of calling `frame.insert` many times, which has poor performance.  Consider joining all columns at once using pd.concat(axis=1) instead. To get a de-fragmented frame, use `newframe = frame.copy()`\n",
      "\n",
      "C:\\Users\\Abdi\\AppData\\Local\\Temp\\ipykernel_2528\\4171585614.py:26: PerformanceWarning:\n",
      "\n",
      "DataFrame is highly fragmented.  This is usually the result of calling `frame.insert` many times, which has poor performance.  Consider joining all columns at once using pd.concat(axis=1) instead. To get a de-fragmented frame, use `newframe = frame.copy()`\n",
      "\n",
      "C:\\Users\\Abdi\\AppData\\Local\\Temp\\ipykernel_2528\\4171585614.py:26: PerformanceWarning:\n",
      "\n",
      "DataFrame is highly fragmented.  This is usually the result of calling `frame.insert` many times, which has poor performance.  Consider joining all columns at once using pd.concat(axis=1) instead. To get a de-fragmented frame, use `newframe = frame.copy()`\n",
      "\n",
      "C:\\Users\\Abdi\\AppData\\Local\\Temp\\ipykernel_2528\\4171585614.py:26: PerformanceWarning:\n",
      "\n",
      "DataFrame is highly fragmented.  This is usually the result of calling `frame.insert` many times, which has poor performance.  Consider joining all columns at once using pd.concat(axis=1) instead. To get a de-fragmented frame, use `newframe = frame.copy()`\n",
      "\n",
      "C:\\Users\\Abdi\\AppData\\Local\\Temp\\ipykernel_2528\\4171585614.py:26: PerformanceWarning:\n",
      "\n",
      "DataFrame is highly fragmented.  This is usually the result of calling `frame.insert` many times, which has poor performance.  Consider joining all columns at once using pd.concat(axis=1) instead. To get a de-fragmented frame, use `newframe = frame.copy()`\n",
      "\n",
      "C:\\Users\\Abdi\\AppData\\Local\\Temp\\ipykernel_2528\\4171585614.py:26: PerformanceWarning:\n",
      "\n",
      "DataFrame is highly fragmented.  This is usually the result of calling `frame.insert` many times, which has poor performance.  Consider joining all columns at once using pd.concat(axis=1) instead. To get a de-fragmented frame, use `newframe = frame.copy()`\n",
      "\n",
      "C:\\Users\\Abdi\\AppData\\Local\\Temp\\ipykernel_2528\\4171585614.py:26: PerformanceWarning:\n",
      "\n",
      "DataFrame is highly fragmented.  This is usually the result of calling `frame.insert` many times, which has poor performance.  Consider joining all columns at once using pd.concat(axis=1) instead. To get a de-fragmented frame, use `newframe = frame.copy()`\n",
      "\n",
      "C:\\Users\\Abdi\\AppData\\Local\\Temp\\ipykernel_2528\\4171585614.py:26: PerformanceWarning:\n",
      "\n",
      "DataFrame is highly fragmented.  This is usually the result of calling `frame.insert` many times, which has poor performance.  Consider joining all columns at once using pd.concat(axis=1) instead. To get a de-fragmented frame, use `newframe = frame.copy()`\n",
      "\n",
      "C:\\Users\\Abdi\\AppData\\Local\\Temp\\ipykernel_2528\\4171585614.py:26: PerformanceWarning:\n",
      "\n",
      "DataFrame is highly fragmented.  This is usually the result of calling `frame.insert` many times, which has poor performance.  Consider joining all columns at once using pd.concat(axis=1) instead. To get a de-fragmented frame, use `newframe = frame.copy()`\n",
      "\n",
      "C:\\Users\\Abdi\\AppData\\Local\\Temp\\ipykernel_2528\\4171585614.py:26: PerformanceWarning:\n",
      "\n",
      "DataFrame is highly fragmented.  This is usually the result of calling `frame.insert` many times, which has poor performance.  Consider joining all columns at once using pd.concat(axis=1) instead. To get a de-fragmented frame, use `newframe = frame.copy()`\n",
      "\n",
      "C:\\Users\\Abdi\\AppData\\Local\\Temp\\ipykernel_2528\\4171585614.py:26: PerformanceWarning:\n",
      "\n",
      "DataFrame is highly fragmented.  This is usually the result of calling `frame.insert` many times, which has poor performance.  Consider joining all columns at once using pd.concat(axis=1) instead. To get a de-fragmented frame, use `newframe = frame.copy()`\n",
      "\n",
      "C:\\Users\\Abdi\\AppData\\Local\\Temp\\ipykernel_2528\\4171585614.py:26: PerformanceWarning:\n",
      "\n",
      "DataFrame is highly fragmented.  This is usually the result of calling `frame.insert` many times, which has poor performance.  Consider joining all columns at once using pd.concat(axis=1) instead. To get a de-fragmented frame, use `newframe = frame.copy()`\n",
      "\n",
      "C:\\Users\\Abdi\\AppData\\Local\\Temp\\ipykernel_2528\\4171585614.py:26: PerformanceWarning:\n",
      "\n",
      "DataFrame is highly fragmented.  This is usually the result of calling `frame.insert` many times, which has poor performance.  Consider joining all columns at once using pd.concat(axis=1) instead. To get a de-fragmented frame, use `newframe = frame.copy()`\n",
      "\n",
      "C:\\Users\\Abdi\\AppData\\Local\\Temp\\ipykernel_2528\\4171585614.py:26: PerformanceWarning:\n",
      "\n",
      "DataFrame is highly fragmented.  This is usually the result of calling `frame.insert` many times, which has poor performance.  Consider joining all columns at once using pd.concat(axis=1) instead. To get a de-fragmented frame, use `newframe = frame.copy()`\n",
      "\n",
      "C:\\Users\\Abdi\\AppData\\Local\\Temp\\ipykernel_2528\\4171585614.py:26: PerformanceWarning:\n",
      "\n",
      "DataFrame is highly fragmented.  This is usually the result of calling `frame.insert` many times, which has poor performance.  Consider joining all columns at once using pd.concat(axis=1) instead. To get a de-fragmented frame, use `newframe = frame.copy()`\n",
      "\n",
      "C:\\Users\\Abdi\\AppData\\Local\\Temp\\ipykernel_2528\\4171585614.py:26: PerformanceWarning:\n",
      "\n",
      "DataFrame is highly fragmented.  This is usually the result of calling `frame.insert` many times, which has poor performance.  Consider joining all columns at once using pd.concat(axis=1) instead. To get a de-fragmented frame, use `newframe = frame.copy()`\n",
      "\n",
      "C:\\Users\\Abdi\\AppData\\Local\\Temp\\ipykernel_2528\\4171585614.py:26: PerformanceWarning:\n",
      "\n",
      "DataFrame is highly fragmented.  This is usually the result of calling `frame.insert` many times, which has poor performance.  Consider joining all columns at once using pd.concat(axis=1) instead. To get a de-fragmented frame, use `newframe = frame.copy()`\n",
      "\n",
      "C:\\Users\\Abdi\\AppData\\Local\\Temp\\ipykernel_2528\\4171585614.py:26: PerformanceWarning:\n",
      "\n",
      "DataFrame is highly fragmented.  This is usually the result of calling `frame.insert` many times, which has poor performance.  Consider joining all columns at once using pd.concat(axis=1) instead. To get a de-fragmented frame, use `newframe = frame.copy()`\n",
      "\n",
      "C:\\Users\\Abdi\\AppData\\Local\\Temp\\ipykernel_2528\\4171585614.py:26: PerformanceWarning:\n",
      "\n",
      "DataFrame is highly fragmented.  This is usually the result of calling `frame.insert` many times, which has poor performance.  Consider joining all columns at once using pd.concat(axis=1) instead. To get a de-fragmented frame, use `newframe = frame.copy()`\n",
      "\n",
      "C:\\Users\\Abdi\\AppData\\Local\\Temp\\ipykernel_2528\\4171585614.py:26: PerformanceWarning:\n",
      "\n",
      "DataFrame is highly fragmented.  This is usually the result of calling `frame.insert` many times, which has poor performance.  Consider joining all columns at once using pd.concat(axis=1) instead. To get a de-fragmented frame, use `newframe = frame.copy()`\n",
      "\n",
      "C:\\Users\\Abdi\\AppData\\Local\\Temp\\ipykernel_2528\\4171585614.py:26: PerformanceWarning:\n",
      "\n",
      "DataFrame is highly fragmented.  This is usually the result of calling `frame.insert` many times, which has poor performance.  Consider joining all columns at once using pd.concat(axis=1) instead. To get a de-fragmented frame, use `newframe = frame.copy()`\n",
      "\n",
      "C:\\Users\\Abdi\\AppData\\Local\\Temp\\ipykernel_2528\\4171585614.py:26: PerformanceWarning:\n",
      "\n",
      "DataFrame is highly fragmented.  This is usually the result of calling `frame.insert` many times, which has poor performance.  Consider joining all columns at once using pd.concat(axis=1) instead. To get a de-fragmented frame, use `newframe = frame.copy()`\n",
      "\n",
      "C:\\Users\\Abdi\\AppData\\Local\\Temp\\ipykernel_2528\\4171585614.py:26: PerformanceWarning:\n",
      "\n",
      "DataFrame is highly fragmented.  This is usually the result of calling `frame.insert` many times, which has poor performance.  Consider joining all columns at once using pd.concat(axis=1) instead. To get a de-fragmented frame, use `newframe = frame.copy()`\n",
      "\n",
      "C:\\Users\\Abdi\\AppData\\Local\\Temp\\ipykernel_2528\\4171585614.py:26: PerformanceWarning:\n",
      "\n",
      "DataFrame is highly fragmented.  This is usually the result of calling `frame.insert` many times, which has poor performance.  Consider joining all columns at once using pd.concat(axis=1) instead. To get a de-fragmented frame, use `newframe = frame.copy()`\n",
      "\n",
      "C:\\Users\\Abdi\\AppData\\Local\\Temp\\ipykernel_2528\\4171585614.py:26: PerformanceWarning:\n",
      "\n",
      "DataFrame is highly fragmented.  This is usually the result of calling `frame.insert` many times, which has poor performance.  Consider joining all columns at once using pd.concat(axis=1) instead. To get a de-fragmented frame, use `newframe = frame.copy()`\n",
      "\n",
      "C:\\Users\\Abdi\\AppData\\Local\\Temp\\ipykernel_2528\\4171585614.py:26: PerformanceWarning:\n",
      "\n",
      "DataFrame is highly fragmented.  This is usually the result of calling `frame.insert` many times, which has poor performance.  Consider joining all columns at once using pd.concat(axis=1) instead. To get a de-fragmented frame, use `newframe = frame.copy()`\n",
      "\n",
      "C:\\Users\\Abdi\\AppData\\Local\\Temp\\ipykernel_2528\\4171585614.py:26: PerformanceWarning:\n",
      "\n",
      "DataFrame is highly fragmented.  This is usually the result of calling `frame.insert` many times, which has poor performance.  Consider joining all columns at once using pd.concat(axis=1) instead. To get a de-fragmented frame, use `newframe = frame.copy()`\n",
      "\n",
      "C:\\Users\\Abdi\\AppData\\Local\\Temp\\ipykernel_2528\\4171585614.py:26: PerformanceWarning:\n",
      "\n",
      "DataFrame is highly fragmented.  This is usually the result of calling `frame.insert` many times, which has poor performance.  Consider joining all columns at once using pd.concat(axis=1) instead. To get a de-fragmented frame, use `newframe = frame.copy()`\n",
      "\n",
      "C:\\Users\\Abdi\\AppData\\Local\\Temp\\ipykernel_2528\\4171585614.py:26: PerformanceWarning:\n",
      "\n",
      "DataFrame is highly fragmented.  This is usually the result of calling `frame.insert` many times, which has poor performance.  Consider joining all columns at once using pd.concat(axis=1) instead. To get a de-fragmented frame, use `newframe = frame.copy()`\n",
      "\n",
      "C:\\Users\\Abdi\\AppData\\Local\\Temp\\ipykernel_2528\\4171585614.py:26: PerformanceWarning:\n",
      "\n",
      "DataFrame is highly fragmented.  This is usually the result of calling `frame.insert` many times, which has poor performance.  Consider joining all columns at once using pd.concat(axis=1) instead. To get a de-fragmented frame, use `newframe = frame.copy()`\n",
      "\n",
      "C:\\Users\\Abdi\\AppData\\Local\\Temp\\ipykernel_2528\\4171585614.py:26: PerformanceWarning:\n",
      "\n",
      "DataFrame is highly fragmented.  This is usually the result of calling `frame.insert` many times, which has poor performance.  Consider joining all columns at once using pd.concat(axis=1) instead. To get a de-fragmented frame, use `newframe = frame.copy()`\n",
      "\n",
      "C:\\Users\\Abdi\\AppData\\Local\\Temp\\ipykernel_2528\\4171585614.py:26: PerformanceWarning:\n",
      "\n",
      "DataFrame is highly fragmented.  This is usually the result of calling `frame.insert` many times, which has poor performance.  Consider joining all columns at once using pd.concat(axis=1) instead. To get a de-fragmented frame, use `newframe = frame.copy()`\n",
      "\n",
      "C:\\Users\\Abdi\\AppData\\Local\\Temp\\ipykernel_2528\\4171585614.py:26: PerformanceWarning:\n",
      "\n",
      "DataFrame is highly fragmented.  This is usually the result of calling `frame.insert` many times, which has poor performance.  Consider joining all columns at once using pd.concat(axis=1) instead. To get a de-fragmented frame, use `newframe = frame.copy()`\n",
      "\n",
      "C:\\Users\\Abdi\\AppData\\Local\\Temp\\ipykernel_2528\\4171585614.py:26: PerformanceWarning:\n",
      "\n",
      "DataFrame is highly fragmented.  This is usually the result of calling `frame.insert` many times, which has poor performance.  Consider joining all columns at once using pd.concat(axis=1) instead. To get a de-fragmented frame, use `newframe = frame.copy()`\n",
      "\n",
      "C:\\Users\\Abdi\\AppData\\Local\\Temp\\ipykernel_2528\\4171585614.py:26: PerformanceWarning:\n",
      "\n",
      "DataFrame is highly fragmented.  This is usually the result of calling `frame.insert` many times, which has poor performance.  Consider joining all columns at once using pd.concat(axis=1) instead. To get a de-fragmented frame, use `newframe = frame.copy()`\n",
      "\n",
      "C:\\Users\\Abdi\\AppData\\Local\\Temp\\ipykernel_2528\\4171585614.py:26: PerformanceWarning:\n",
      "\n",
      "DataFrame is highly fragmented.  This is usually the result of calling `frame.insert` many times, which has poor performance.  Consider joining all columns at once using pd.concat(axis=1) instead. To get a de-fragmented frame, use `newframe = frame.copy()`\n",
      "\n",
      "C:\\Users\\Abdi\\AppData\\Local\\Temp\\ipykernel_2528\\4171585614.py:26: PerformanceWarning:\n",
      "\n",
      "DataFrame is highly fragmented.  This is usually the result of calling `frame.insert` many times, which has poor performance.  Consider joining all columns at once using pd.concat(axis=1) instead. To get a de-fragmented frame, use `newframe = frame.copy()`\n",
      "\n",
      "C:\\Users\\Abdi\\AppData\\Local\\Temp\\ipykernel_2528\\4171585614.py:26: PerformanceWarning:\n",
      "\n",
      "DataFrame is highly fragmented.  This is usually the result of calling `frame.insert` many times, which has poor performance.  Consider joining all columns at once using pd.concat(axis=1) instead. To get a de-fragmented frame, use `newframe = frame.copy()`\n",
      "\n",
      "C:\\Users\\Abdi\\AppData\\Local\\Temp\\ipykernel_2528\\4171585614.py:26: PerformanceWarning:\n",
      "\n",
      "DataFrame is highly fragmented.  This is usually the result of calling `frame.insert` many times, which has poor performance.  Consider joining all columns at once using pd.concat(axis=1) instead. To get a de-fragmented frame, use `newframe = frame.copy()`\n",
      "\n",
      "C:\\Users\\Abdi\\AppData\\Local\\Temp\\ipykernel_2528\\4171585614.py:26: PerformanceWarning:\n",
      "\n",
      "DataFrame is highly fragmented.  This is usually the result of calling `frame.insert` many times, which has poor performance.  Consider joining all columns at once using pd.concat(axis=1) instead. To get a de-fragmented frame, use `newframe = frame.copy()`\n",
      "\n",
      "C:\\Users\\Abdi\\AppData\\Local\\Temp\\ipykernel_2528\\4171585614.py:26: PerformanceWarning:\n",
      "\n",
      "DataFrame is highly fragmented.  This is usually the result of calling `frame.insert` many times, which has poor performance.  Consider joining all columns at once using pd.concat(axis=1) instead. To get a de-fragmented frame, use `newframe = frame.copy()`\n",
      "\n",
      "C:\\Users\\Abdi\\AppData\\Local\\Temp\\ipykernel_2528\\4171585614.py:26: PerformanceWarning:\n",
      "\n",
      "DataFrame is highly fragmented.  This is usually the result of calling `frame.insert` many times, which has poor performance.  Consider joining all columns at once using pd.concat(axis=1) instead. To get a de-fragmented frame, use `newframe = frame.copy()`\n",
      "\n",
      "C:\\Users\\Abdi\\AppData\\Local\\Temp\\ipykernel_2528\\4171585614.py:26: PerformanceWarning:\n",
      "\n",
      "DataFrame is highly fragmented.  This is usually the result of calling `frame.insert` many times, which has poor performance.  Consider joining all columns at once using pd.concat(axis=1) instead. To get a de-fragmented frame, use `newframe = frame.copy()`\n",
      "\n",
      "C:\\Users\\Abdi\\AppData\\Local\\Temp\\ipykernel_2528\\4171585614.py:26: PerformanceWarning:\n",
      "\n",
      "DataFrame is highly fragmented.  This is usually the result of calling `frame.insert` many times, which has poor performance.  Consider joining all columns at once using pd.concat(axis=1) instead. To get a de-fragmented frame, use `newframe = frame.copy()`\n",
      "\n",
      "C:\\Users\\Abdi\\AppData\\Local\\Temp\\ipykernel_2528\\4171585614.py:26: PerformanceWarning:\n",
      "\n",
      "DataFrame is highly fragmented.  This is usually the result of calling `frame.insert` many times, which has poor performance.  Consider joining all columns at once using pd.concat(axis=1) instead. To get a de-fragmented frame, use `newframe = frame.copy()`\n",
      "\n",
      "C:\\Users\\Abdi\\AppData\\Local\\Temp\\ipykernel_2528\\4171585614.py:26: PerformanceWarning:\n",
      "\n",
      "DataFrame is highly fragmented.  This is usually the result of calling `frame.insert` many times, which has poor performance.  Consider joining all columns at once using pd.concat(axis=1) instead. To get a de-fragmented frame, use `newframe = frame.copy()`\n",
      "\n",
      "C:\\Users\\Abdi\\AppData\\Local\\Temp\\ipykernel_2528\\4171585614.py:26: PerformanceWarning:\n",
      "\n",
      "DataFrame is highly fragmented.  This is usually the result of calling `frame.insert` many times, which has poor performance.  Consider joining all columns at once using pd.concat(axis=1) instead. To get a de-fragmented frame, use `newframe = frame.copy()`\n",
      "\n",
      "C:\\Users\\Abdi\\AppData\\Local\\Temp\\ipykernel_2528\\4171585614.py:26: PerformanceWarning:\n",
      "\n",
      "DataFrame is highly fragmented.  This is usually the result of calling `frame.insert` many times, which has poor performance.  Consider joining all columns at once using pd.concat(axis=1) instead. To get a de-fragmented frame, use `newframe = frame.copy()`\n",
      "\n",
      "C:\\Users\\Abdi\\AppData\\Local\\Temp\\ipykernel_2528\\4171585614.py:26: PerformanceWarning:\n",
      "\n",
      "DataFrame is highly fragmented.  This is usually the result of calling `frame.insert` many times, which has poor performance.  Consider joining all columns at once using pd.concat(axis=1) instead. To get a de-fragmented frame, use `newframe = frame.copy()`\n",
      "\n",
      "C:\\Users\\Abdi\\AppData\\Local\\Temp\\ipykernel_2528\\4171585614.py:26: PerformanceWarning:\n",
      "\n",
      "DataFrame is highly fragmented.  This is usually the result of calling `frame.insert` many times, which has poor performance.  Consider joining all columns at once using pd.concat(axis=1) instead. To get a de-fragmented frame, use `newframe = frame.copy()`\n",
      "\n",
      "C:\\Users\\Abdi\\AppData\\Local\\Temp\\ipykernel_2528\\4171585614.py:26: PerformanceWarning:\n",
      "\n",
      "DataFrame is highly fragmented.  This is usually the result of calling `frame.insert` many times, which has poor performance.  Consider joining all columns at once using pd.concat(axis=1) instead. To get a de-fragmented frame, use `newframe = frame.copy()`\n",
      "\n",
      "C:\\Users\\Abdi\\AppData\\Local\\Temp\\ipykernel_2528\\4171585614.py:26: PerformanceWarning:\n",
      "\n",
      "DataFrame is highly fragmented.  This is usually the result of calling `frame.insert` many times, which has poor performance.  Consider joining all columns at once using pd.concat(axis=1) instead. To get a de-fragmented frame, use `newframe = frame.copy()`\n",
      "\n",
      "C:\\Users\\Abdi\\AppData\\Local\\Temp\\ipykernel_2528\\4171585614.py:26: PerformanceWarning:\n",
      "\n",
      "DataFrame is highly fragmented.  This is usually the result of calling `frame.insert` many times, which has poor performance.  Consider joining all columns at once using pd.concat(axis=1) instead. To get a de-fragmented frame, use `newframe = frame.copy()`\n",
      "\n",
      "C:\\Users\\Abdi\\AppData\\Local\\Temp\\ipykernel_2528\\4171585614.py:26: PerformanceWarning:\n",
      "\n",
      "DataFrame is highly fragmented.  This is usually the result of calling `frame.insert` many times, which has poor performance.  Consider joining all columns at once using pd.concat(axis=1) instead. To get a de-fragmented frame, use `newframe = frame.copy()`\n",
      "\n",
      "C:\\Users\\Abdi\\AppData\\Local\\Temp\\ipykernel_2528\\4171585614.py:26: PerformanceWarning:\n",
      "\n",
      "DataFrame is highly fragmented.  This is usually the result of calling `frame.insert` many times, which has poor performance.  Consider joining all columns at once using pd.concat(axis=1) instead. To get a de-fragmented frame, use `newframe = frame.copy()`\n",
      "\n",
      "C:\\Users\\Abdi\\AppData\\Local\\Temp\\ipykernel_2528\\4171585614.py:26: PerformanceWarning:\n",
      "\n",
      "DataFrame is highly fragmented.  This is usually the result of calling `frame.insert` many times, which has poor performance.  Consider joining all columns at once using pd.concat(axis=1) instead. To get a de-fragmented frame, use `newframe = frame.copy()`\n",
      "\n",
      "C:\\Users\\Abdi\\AppData\\Local\\Temp\\ipykernel_2528\\4171585614.py:26: PerformanceWarning:\n",
      "\n",
      "DataFrame is highly fragmented.  This is usually the result of calling `frame.insert` many times, which has poor performance.  Consider joining all columns at once using pd.concat(axis=1) instead. To get a de-fragmented frame, use `newframe = frame.copy()`\n",
      "\n",
      "C:\\Users\\Abdi\\AppData\\Local\\Temp\\ipykernel_2528\\4171585614.py:26: PerformanceWarning:\n",
      "\n",
      "DataFrame is highly fragmented.  This is usually the result of calling `frame.insert` many times, which has poor performance.  Consider joining all columns at once using pd.concat(axis=1) instead. To get a de-fragmented frame, use `newframe = frame.copy()`\n",
      "\n",
      "C:\\Users\\Abdi\\AppData\\Local\\Temp\\ipykernel_2528\\4171585614.py:26: PerformanceWarning:\n",
      "\n",
      "DataFrame is highly fragmented.  This is usually the result of calling `frame.insert` many times, which has poor performance.  Consider joining all columns at once using pd.concat(axis=1) instead. To get a de-fragmented frame, use `newframe = frame.copy()`\n",
      "\n",
      "C:\\Users\\Abdi\\AppData\\Local\\Temp\\ipykernel_2528\\4171585614.py:26: PerformanceWarning:\n",
      "\n",
      "DataFrame is highly fragmented.  This is usually the result of calling `frame.insert` many times, which has poor performance.  Consider joining all columns at once using pd.concat(axis=1) instead. To get a de-fragmented frame, use `newframe = frame.copy()`\n",
      "\n",
      "C:\\Users\\Abdi\\AppData\\Local\\Temp\\ipykernel_2528\\4171585614.py:26: PerformanceWarning:\n",
      "\n",
      "DataFrame is highly fragmented.  This is usually the result of calling `frame.insert` many times, which has poor performance.  Consider joining all columns at once using pd.concat(axis=1) instead. To get a de-fragmented frame, use `newframe = frame.copy()`\n",
      "\n",
      "C:\\Users\\Abdi\\AppData\\Local\\Temp\\ipykernel_2528\\4171585614.py:26: PerformanceWarning:\n",
      "\n",
      "DataFrame is highly fragmented.  This is usually the result of calling `frame.insert` many times, which has poor performance.  Consider joining all columns at once using pd.concat(axis=1) instead. To get a de-fragmented frame, use `newframe = frame.copy()`\n",
      "\n",
      "C:\\Users\\Abdi\\AppData\\Local\\Temp\\ipykernel_2528\\4171585614.py:26: PerformanceWarning:\n",
      "\n",
      "DataFrame is highly fragmented.  This is usually the result of calling `frame.insert` many times, which has poor performance.  Consider joining all columns at once using pd.concat(axis=1) instead. To get a de-fragmented frame, use `newframe = frame.copy()`\n",
      "\n",
      "C:\\Users\\Abdi\\AppData\\Local\\Temp\\ipykernel_2528\\4171585614.py:26: PerformanceWarning:\n",
      "\n",
      "DataFrame is highly fragmented.  This is usually the result of calling `frame.insert` many times, which has poor performance.  Consider joining all columns at once using pd.concat(axis=1) instead. To get a de-fragmented frame, use `newframe = frame.copy()`\n",
      "\n",
      "C:\\Users\\Abdi\\AppData\\Local\\Temp\\ipykernel_2528\\4171585614.py:26: PerformanceWarning:\n",
      "\n",
      "DataFrame is highly fragmented.  This is usually the result of calling `frame.insert` many times, which has poor performance.  Consider joining all columns at once using pd.concat(axis=1) instead. To get a de-fragmented frame, use `newframe = frame.copy()`\n",
      "\n",
      "C:\\Users\\Abdi\\AppData\\Local\\Temp\\ipykernel_2528\\4171585614.py:26: PerformanceWarning:\n",
      "\n",
      "DataFrame is highly fragmented.  This is usually the result of calling `frame.insert` many times, which has poor performance.  Consider joining all columns at once using pd.concat(axis=1) instead. To get a de-fragmented frame, use `newframe = frame.copy()`\n",
      "\n",
      "C:\\Users\\Abdi\\AppData\\Local\\Temp\\ipykernel_2528\\4171585614.py:26: PerformanceWarning:\n",
      "\n",
      "DataFrame is highly fragmented.  This is usually the result of calling `frame.insert` many times, which has poor performance.  Consider joining all columns at once using pd.concat(axis=1) instead. To get a de-fragmented frame, use `newframe = frame.copy()`\n",
      "\n",
      "C:\\Users\\Abdi\\AppData\\Local\\Temp\\ipykernel_2528\\4171585614.py:26: PerformanceWarning:\n",
      "\n",
      "DataFrame is highly fragmented.  This is usually the result of calling `frame.insert` many times, which has poor performance.  Consider joining all columns at once using pd.concat(axis=1) instead. To get a de-fragmented frame, use `newframe = frame.copy()`\n",
      "\n",
      "C:\\Users\\Abdi\\AppData\\Local\\Temp\\ipykernel_2528\\4171585614.py:26: PerformanceWarning:\n",
      "\n",
      "DataFrame is highly fragmented.  This is usually the result of calling `frame.insert` many times, which has poor performance.  Consider joining all columns at once using pd.concat(axis=1) instead. To get a de-fragmented frame, use `newframe = frame.copy()`\n",
      "\n",
      "C:\\Users\\Abdi\\AppData\\Local\\Temp\\ipykernel_2528\\4171585614.py:26: PerformanceWarning:\n",
      "\n",
      "DataFrame is highly fragmented.  This is usually the result of calling `frame.insert` many times, which has poor performance.  Consider joining all columns at once using pd.concat(axis=1) instead. To get a de-fragmented frame, use `newframe = frame.copy()`\n",
      "\n",
      "C:\\Users\\Abdi\\AppData\\Local\\Temp\\ipykernel_2528\\4171585614.py:26: PerformanceWarning:\n",
      "\n",
      "DataFrame is highly fragmented.  This is usually the result of calling `frame.insert` many times, which has poor performance.  Consider joining all columns at once using pd.concat(axis=1) instead. To get a de-fragmented frame, use `newframe = frame.copy()`\n",
      "\n",
      "C:\\Users\\Abdi\\AppData\\Local\\Temp\\ipykernel_2528\\4171585614.py:26: PerformanceWarning:\n",
      "\n",
      "DataFrame is highly fragmented.  This is usually the result of calling `frame.insert` many times, which has poor performance.  Consider joining all columns at once using pd.concat(axis=1) instead. To get a de-fragmented frame, use `newframe = frame.copy()`\n",
      "\n",
      "C:\\Users\\Abdi\\AppData\\Local\\Temp\\ipykernel_2528\\4171585614.py:26: PerformanceWarning:\n",
      "\n",
      "DataFrame is highly fragmented.  This is usually the result of calling `frame.insert` many times, which has poor performance.  Consider joining all columns at once using pd.concat(axis=1) instead. To get a de-fragmented frame, use `newframe = frame.copy()`\n",
      "\n",
      "C:\\Users\\Abdi\\AppData\\Local\\Temp\\ipykernel_2528\\4171585614.py:26: PerformanceWarning:\n",
      "\n",
      "DataFrame is highly fragmented.  This is usually the result of calling `frame.insert` many times, which has poor performance.  Consider joining all columns at once using pd.concat(axis=1) instead. To get a de-fragmented frame, use `newframe = frame.copy()`\n",
      "\n",
      "C:\\Users\\Abdi\\AppData\\Local\\Temp\\ipykernel_2528\\4171585614.py:26: PerformanceWarning:\n",
      "\n",
      "DataFrame is highly fragmented.  This is usually the result of calling `frame.insert` many times, which has poor performance.  Consider joining all columns at once using pd.concat(axis=1) instead. To get a de-fragmented frame, use `newframe = frame.copy()`\n",
      "\n",
      "C:\\Users\\Abdi\\AppData\\Local\\Temp\\ipykernel_2528\\4171585614.py:26: PerformanceWarning:\n",
      "\n",
      "DataFrame is highly fragmented.  This is usually the result of calling `frame.insert` many times, which has poor performance.  Consider joining all columns at once using pd.concat(axis=1) instead. To get a de-fragmented frame, use `newframe = frame.copy()`\n",
      "\n",
      "C:\\Users\\Abdi\\AppData\\Local\\Temp\\ipykernel_2528\\4171585614.py:26: PerformanceWarning:\n",
      "\n",
      "DataFrame is highly fragmented.  This is usually the result of calling `frame.insert` many times, which has poor performance.  Consider joining all columns at once using pd.concat(axis=1) instead. To get a de-fragmented frame, use `newframe = frame.copy()`\n",
      "\n",
      "C:\\Users\\Abdi\\AppData\\Local\\Temp\\ipykernel_2528\\4171585614.py:26: PerformanceWarning:\n",
      "\n",
      "DataFrame is highly fragmented.  This is usually the result of calling `frame.insert` many times, which has poor performance.  Consider joining all columns at once using pd.concat(axis=1) instead. To get a de-fragmented frame, use `newframe = frame.copy()`\n",
      "\n",
      "C:\\Users\\Abdi\\AppData\\Local\\Temp\\ipykernel_2528\\4171585614.py:26: PerformanceWarning:\n",
      "\n",
      "DataFrame is highly fragmented.  This is usually the result of calling `frame.insert` many times, which has poor performance.  Consider joining all columns at once using pd.concat(axis=1) instead. To get a de-fragmented frame, use `newframe = frame.copy()`\n",
      "\n",
      "C:\\Users\\Abdi\\AppData\\Local\\Temp\\ipykernel_2528\\4171585614.py:26: PerformanceWarning:\n",
      "\n",
      "DataFrame is highly fragmented.  This is usually the result of calling `frame.insert` many times, which has poor performance.  Consider joining all columns at once using pd.concat(axis=1) instead. To get a de-fragmented frame, use `newframe = frame.copy()`\n",
      "\n",
      "C:\\Users\\Abdi\\AppData\\Local\\Temp\\ipykernel_2528\\4171585614.py:26: PerformanceWarning:\n",
      "\n",
      "DataFrame is highly fragmented.  This is usually the result of calling `frame.insert` many times, which has poor performance.  Consider joining all columns at once using pd.concat(axis=1) instead. To get a de-fragmented frame, use `newframe = frame.copy()`\n",
      "\n",
      "C:\\Users\\Abdi\\AppData\\Local\\Temp\\ipykernel_2528\\4171585614.py:26: PerformanceWarning:\n",
      "\n",
      "DataFrame is highly fragmented.  This is usually the result of calling `frame.insert` many times, which has poor performance.  Consider joining all columns at once using pd.concat(axis=1) instead. To get a de-fragmented frame, use `newframe = frame.copy()`\n",
      "\n",
      "C:\\Users\\Abdi\\AppData\\Local\\Temp\\ipykernel_2528\\4171585614.py:26: PerformanceWarning:\n",
      "\n",
      "DataFrame is highly fragmented.  This is usually the result of calling `frame.insert` many times, which has poor performance.  Consider joining all columns at once using pd.concat(axis=1) instead. To get a de-fragmented frame, use `newframe = frame.copy()`\n",
      "\n",
      "C:\\Users\\Abdi\\AppData\\Local\\Temp\\ipykernel_2528\\4171585614.py:26: PerformanceWarning:\n",
      "\n",
      "DataFrame is highly fragmented.  This is usually the result of calling `frame.insert` many times, which has poor performance.  Consider joining all columns at once using pd.concat(axis=1) instead. To get a de-fragmented frame, use `newframe = frame.copy()`\n",
      "\n",
      "C:\\Users\\Abdi\\AppData\\Local\\Temp\\ipykernel_2528\\4171585614.py:26: PerformanceWarning:\n",
      "\n",
      "DataFrame is highly fragmented.  This is usually the result of calling `frame.insert` many times, which has poor performance.  Consider joining all columns at once using pd.concat(axis=1) instead. To get a de-fragmented frame, use `newframe = frame.copy()`\n",
      "\n",
      "C:\\Users\\Abdi\\AppData\\Local\\Temp\\ipykernel_2528\\4171585614.py:26: PerformanceWarning:\n",
      "\n",
      "DataFrame is highly fragmented.  This is usually the result of calling `frame.insert` many times, which has poor performance.  Consider joining all columns at once using pd.concat(axis=1) instead. To get a de-fragmented frame, use `newframe = frame.copy()`\n",
      "\n",
      "C:\\Users\\Abdi\\AppData\\Local\\Temp\\ipykernel_2528\\4171585614.py:26: PerformanceWarning:\n",
      "\n",
      "DataFrame is highly fragmented.  This is usually the result of calling `frame.insert` many times, which has poor performance.  Consider joining all columns at once using pd.concat(axis=1) instead. To get a de-fragmented frame, use `newframe = frame.copy()`\n",
      "\n",
      "C:\\Users\\Abdi\\AppData\\Local\\Temp\\ipykernel_2528\\4171585614.py:26: PerformanceWarning:\n",
      "\n",
      "DataFrame is highly fragmented.  This is usually the result of calling `frame.insert` many times, which has poor performance.  Consider joining all columns at once using pd.concat(axis=1) instead. To get a de-fragmented frame, use `newframe = frame.copy()`\n",
      "\n",
      "C:\\Users\\Abdi\\AppData\\Local\\Temp\\ipykernel_2528\\4171585614.py:26: PerformanceWarning:\n",
      "\n",
      "DataFrame is highly fragmented.  This is usually the result of calling `frame.insert` many times, which has poor performance.  Consider joining all columns at once using pd.concat(axis=1) instead. To get a de-fragmented frame, use `newframe = frame.copy()`\n",
      "\n",
      "C:\\Users\\Abdi\\AppData\\Local\\Temp\\ipykernel_2528\\4171585614.py:26: PerformanceWarning:\n",
      "\n",
      "DataFrame is highly fragmented.  This is usually the result of calling `frame.insert` many times, which has poor performance.  Consider joining all columns at once using pd.concat(axis=1) instead. To get a de-fragmented frame, use `newframe = frame.copy()`\n",
      "\n",
      "C:\\Users\\Abdi\\AppData\\Local\\Temp\\ipykernel_2528\\4171585614.py:26: PerformanceWarning:\n",
      "\n",
      "DataFrame is highly fragmented.  This is usually the result of calling `frame.insert` many times, which has poor performance.  Consider joining all columns at once using pd.concat(axis=1) instead. To get a de-fragmented frame, use `newframe = frame.copy()`\n",
      "\n",
      "C:\\Users\\Abdi\\AppData\\Local\\Temp\\ipykernel_2528\\4171585614.py:26: PerformanceWarning:\n",
      "\n",
      "DataFrame is highly fragmented.  This is usually the result of calling `frame.insert` many times, which has poor performance.  Consider joining all columns at once using pd.concat(axis=1) instead. To get a de-fragmented frame, use `newframe = frame.copy()`\n",
      "\n",
      "C:\\Users\\Abdi\\AppData\\Local\\Temp\\ipykernel_2528\\4171585614.py:26: PerformanceWarning:\n",
      "\n",
      "DataFrame is highly fragmented.  This is usually the result of calling `frame.insert` many times, which has poor performance.  Consider joining all columns at once using pd.concat(axis=1) instead. To get a de-fragmented frame, use `newframe = frame.copy()`\n",
      "\n",
      "C:\\Users\\Abdi\\AppData\\Local\\Temp\\ipykernel_2528\\4171585614.py:26: PerformanceWarning:\n",
      "\n",
      "DataFrame is highly fragmented.  This is usually the result of calling `frame.insert` many times, which has poor performance.  Consider joining all columns at once using pd.concat(axis=1) instead. To get a de-fragmented frame, use `newframe = frame.copy()`\n",
      "\n",
      "C:\\Users\\Abdi\\AppData\\Local\\Temp\\ipykernel_2528\\4171585614.py:26: PerformanceWarning:\n",
      "\n",
      "DataFrame is highly fragmented.  This is usually the result of calling `frame.insert` many times, which has poor performance.  Consider joining all columns at once using pd.concat(axis=1) instead. To get a de-fragmented frame, use `newframe = frame.copy()`\n",
      "\n",
      "C:\\Users\\Abdi\\AppData\\Local\\Temp\\ipykernel_2528\\4171585614.py:26: PerformanceWarning:\n",
      "\n",
      "DataFrame is highly fragmented.  This is usually the result of calling `frame.insert` many times, which has poor performance.  Consider joining all columns at once using pd.concat(axis=1) instead. To get a de-fragmented frame, use `newframe = frame.copy()`\n",
      "\n",
      "C:\\Users\\Abdi\\AppData\\Local\\Temp\\ipykernel_2528\\4171585614.py:26: PerformanceWarning:\n",
      "\n",
      "DataFrame is highly fragmented.  This is usually the result of calling `frame.insert` many times, which has poor performance.  Consider joining all columns at once using pd.concat(axis=1) instead. To get a de-fragmented frame, use `newframe = frame.copy()`\n",
      "\n",
      "C:\\Users\\Abdi\\AppData\\Local\\Temp\\ipykernel_2528\\4171585614.py:26: PerformanceWarning:\n",
      "\n",
      "DataFrame is highly fragmented.  This is usually the result of calling `frame.insert` many times, which has poor performance.  Consider joining all columns at once using pd.concat(axis=1) instead. To get a de-fragmented frame, use `newframe = frame.copy()`\n",
      "\n",
      "C:\\Users\\Abdi\\AppData\\Local\\Temp\\ipykernel_2528\\4171585614.py:26: PerformanceWarning:\n",
      "\n",
      "DataFrame is highly fragmented.  This is usually the result of calling `frame.insert` many times, which has poor performance.  Consider joining all columns at once using pd.concat(axis=1) instead. To get a de-fragmented frame, use `newframe = frame.copy()`\n",
      "\n",
      "C:\\Users\\Abdi\\AppData\\Local\\Temp\\ipykernel_2528\\4171585614.py:26: PerformanceWarning:\n",
      "\n",
      "DataFrame is highly fragmented.  This is usually the result of calling `frame.insert` many times, which has poor performance.  Consider joining all columns at once using pd.concat(axis=1) instead. To get a de-fragmented frame, use `newframe = frame.copy()`\n",
      "\n",
      "C:\\Users\\Abdi\\AppData\\Local\\Temp\\ipykernel_2528\\4171585614.py:26: PerformanceWarning:\n",
      "\n",
      "DataFrame is highly fragmented.  This is usually the result of calling `frame.insert` many times, which has poor performance.  Consider joining all columns at once using pd.concat(axis=1) instead. To get a de-fragmented frame, use `newframe = frame.copy()`\n",
      "\n",
      "C:\\Users\\Abdi\\AppData\\Local\\Temp\\ipykernel_2528\\4171585614.py:26: PerformanceWarning:\n",
      "\n",
      "DataFrame is highly fragmented.  This is usually the result of calling `frame.insert` many times, which has poor performance.  Consider joining all columns at once using pd.concat(axis=1) instead. To get a de-fragmented frame, use `newframe = frame.copy()`\n",
      "\n",
      "C:\\Users\\Abdi\\AppData\\Local\\Temp\\ipykernel_2528\\4171585614.py:26: PerformanceWarning:\n",
      "\n",
      "DataFrame is highly fragmented.  This is usually the result of calling `frame.insert` many times, which has poor performance.  Consider joining all columns at once using pd.concat(axis=1) instead. To get a de-fragmented frame, use `newframe = frame.copy()`\n",
      "\n",
      "C:\\Users\\Abdi\\AppData\\Local\\Temp\\ipykernel_2528\\4171585614.py:26: PerformanceWarning:\n",
      "\n",
      "DataFrame is highly fragmented.  This is usually the result of calling `frame.insert` many times, which has poor performance.  Consider joining all columns at once using pd.concat(axis=1) instead. To get a de-fragmented frame, use `newframe = frame.copy()`\n",
      "\n",
      "C:\\Users\\Abdi\\AppData\\Local\\Temp\\ipykernel_2528\\4171585614.py:26: PerformanceWarning:\n",
      "\n",
      "DataFrame is highly fragmented.  This is usually the result of calling `frame.insert` many times, which has poor performance.  Consider joining all columns at once using pd.concat(axis=1) instead. To get a de-fragmented frame, use `newframe = frame.copy()`\n",
      "\n",
      "C:\\Users\\Abdi\\AppData\\Local\\Temp\\ipykernel_2528\\4171585614.py:26: PerformanceWarning:\n",
      "\n",
      "DataFrame is highly fragmented.  This is usually the result of calling `frame.insert` many times, which has poor performance.  Consider joining all columns at once using pd.concat(axis=1) instead. To get a de-fragmented frame, use `newframe = frame.copy()`\n",
      "\n",
      "C:\\Users\\Abdi\\AppData\\Local\\Temp\\ipykernel_2528\\4171585614.py:26: PerformanceWarning:\n",
      "\n",
      "DataFrame is highly fragmented.  This is usually the result of calling `frame.insert` many times, which has poor performance.  Consider joining all columns at once using pd.concat(axis=1) instead. To get a de-fragmented frame, use `newframe = frame.copy()`\n",
      "\n",
      "C:\\Users\\Abdi\\AppData\\Local\\Temp\\ipykernel_2528\\4171585614.py:26: PerformanceWarning:\n",
      "\n",
      "DataFrame is highly fragmented.  This is usually the result of calling `frame.insert` many times, which has poor performance.  Consider joining all columns at once using pd.concat(axis=1) instead. To get a de-fragmented frame, use `newframe = frame.copy()`\n",
      "\n",
      "C:\\Users\\Abdi\\AppData\\Local\\Temp\\ipykernel_2528\\4171585614.py:26: PerformanceWarning:\n",
      "\n",
      "DataFrame is highly fragmented.  This is usually the result of calling `frame.insert` many times, which has poor performance.  Consider joining all columns at once using pd.concat(axis=1) instead. To get a de-fragmented frame, use `newframe = frame.copy()`\n",
      "\n",
      "C:\\Users\\Abdi\\AppData\\Local\\Temp\\ipykernel_2528\\4171585614.py:26: PerformanceWarning:\n",
      "\n",
      "DataFrame is highly fragmented.  This is usually the result of calling `frame.insert` many times, which has poor performance.  Consider joining all columns at once using pd.concat(axis=1) instead. To get a de-fragmented frame, use `newframe = frame.copy()`\n",
      "\n",
      "C:\\Users\\Abdi\\AppData\\Local\\Temp\\ipykernel_2528\\4171585614.py:26: PerformanceWarning:\n",
      "\n",
      "DataFrame is highly fragmented.  This is usually the result of calling `frame.insert` many times, which has poor performance.  Consider joining all columns at once using pd.concat(axis=1) instead. To get a de-fragmented frame, use `newframe = frame.copy()`\n",
      "\n",
      "C:\\Users\\Abdi\\AppData\\Local\\Temp\\ipykernel_2528\\4171585614.py:26: PerformanceWarning:\n",
      "\n",
      "DataFrame is highly fragmented.  This is usually the result of calling `frame.insert` many times, which has poor performance.  Consider joining all columns at once using pd.concat(axis=1) instead. To get a de-fragmented frame, use `newframe = frame.copy()`\n",
      "\n",
      "C:\\Users\\Abdi\\AppData\\Local\\Temp\\ipykernel_2528\\4171585614.py:26: PerformanceWarning:\n",
      "\n",
      "DataFrame is highly fragmented.  This is usually the result of calling `frame.insert` many times, which has poor performance.  Consider joining all columns at once using pd.concat(axis=1) instead. To get a de-fragmented frame, use `newframe = frame.copy()`\n",
      "\n",
      "C:\\Users\\Abdi\\AppData\\Local\\Temp\\ipykernel_2528\\4171585614.py:26: PerformanceWarning:\n",
      "\n",
      "DataFrame is highly fragmented.  This is usually the result of calling `frame.insert` many times, which has poor performance.  Consider joining all columns at once using pd.concat(axis=1) instead. To get a de-fragmented frame, use `newframe = frame.copy()`\n",
      "\n",
      "C:\\Users\\Abdi\\AppData\\Local\\Temp\\ipykernel_2528\\4171585614.py:26: PerformanceWarning:\n",
      "\n",
      "DataFrame is highly fragmented.  This is usually the result of calling `frame.insert` many times, which has poor performance.  Consider joining all columns at once using pd.concat(axis=1) instead. To get a de-fragmented frame, use `newframe = frame.copy()`\n",
      "\n",
      "C:\\Users\\Abdi\\AppData\\Local\\Temp\\ipykernel_2528\\4171585614.py:26: PerformanceWarning:\n",
      "\n",
      "DataFrame is highly fragmented.  This is usually the result of calling `frame.insert` many times, which has poor performance.  Consider joining all columns at once using pd.concat(axis=1) instead. To get a de-fragmented frame, use `newframe = frame.copy()`\n",
      "\n",
      "C:\\Users\\Abdi\\AppData\\Local\\Temp\\ipykernel_2528\\4171585614.py:26: PerformanceWarning:\n",
      "\n",
      "DataFrame is highly fragmented.  This is usually the result of calling `frame.insert` many times, which has poor performance.  Consider joining all columns at once using pd.concat(axis=1) instead. To get a de-fragmented frame, use `newframe = frame.copy()`\n",
      "\n",
      "C:\\Users\\Abdi\\AppData\\Local\\Temp\\ipykernel_2528\\4171585614.py:26: PerformanceWarning:\n",
      "\n",
      "DataFrame is highly fragmented.  This is usually the result of calling `frame.insert` many times, which has poor performance.  Consider joining all columns at once using pd.concat(axis=1) instead. To get a de-fragmented frame, use `newframe = frame.copy()`\n",
      "\n",
      "C:\\Users\\Abdi\\AppData\\Local\\Temp\\ipykernel_2528\\4171585614.py:26: PerformanceWarning:\n",
      "\n",
      "DataFrame is highly fragmented.  This is usually the result of calling `frame.insert` many times, which has poor performance.  Consider joining all columns at once using pd.concat(axis=1) instead. To get a de-fragmented frame, use `newframe = frame.copy()`\n",
      "\n",
      "C:\\Users\\Abdi\\AppData\\Local\\Temp\\ipykernel_2528\\4171585614.py:26: PerformanceWarning:\n",
      "\n",
      "DataFrame is highly fragmented.  This is usually the result of calling `frame.insert` many times, which has poor performance.  Consider joining all columns at once using pd.concat(axis=1) instead. To get a de-fragmented frame, use `newframe = frame.copy()`\n",
      "\n",
      "C:\\Users\\Abdi\\AppData\\Local\\Temp\\ipykernel_2528\\4171585614.py:26: PerformanceWarning:\n",
      "\n",
      "DataFrame is highly fragmented.  This is usually the result of calling `frame.insert` many times, which has poor performance.  Consider joining all columns at once using pd.concat(axis=1) instead. To get a de-fragmented frame, use `newframe = frame.copy()`\n",
      "\n",
      "C:\\Users\\Abdi\\AppData\\Local\\Temp\\ipykernel_2528\\4171585614.py:26: PerformanceWarning:\n",
      "\n",
      "DataFrame is highly fragmented.  This is usually the result of calling `frame.insert` many times, which has poor performance.  Consider joining all columns at once using pd.concat(axis=1) instead. To get a de-fragmented frame, use `newframe = frame.copy()`\n",
      "\n",
      "C:\\Users\\Abdi\\AppData\\Local\\Temp\\ipykernel_2528\\4171585614.py:26: PerformanceWarning:\n",
      "\n",
      "DataFrame is highly fragmented.  This is usually the result of calling `frame.insert` many times, which has poor performance.  Consider joining all columns at once using pd.concat(axis=1) instead. To get a de-fragmented frame, use `newframe = frame.copy()`\n",
      "\n",
      "C:\\Users\\Abdi\\AppData\\Local\\Temp\\ipykernel_2528\\4171585614.py:26: PerformanceWarning:\n",
      "\n",
      "DataFrame is highly fragmented.  This is usually the result of calling `frame.insert` many times, which has poor performance.  Consider joining all columns at once using pd.concat(axis=1) instead. To get a de-fragmented frame, use `newframe = frame.copy()`\n",
      "\n",
      "C:\\Users\\Abdi\\AppData\\Local\\Temp\\ipykernel_2528\\4171585614.py:26: PerformanceWarning:\n",
      "\n",
      "DataFrame is highly fragmented.  This is usually the result of calling `frame.insert` many times, which has poor performance.  Consider joining all columns at once using pd.concat(axis=1) instead. To get a de-fragmented frame, use `newframe = frame.copy()`\n",
      "\n",
      "C:\\Users\\Abdi\\AppData\\Local\\Temp\\ipykernel_2528\\4171585614.py:26: PerformanceWarning:\n",
      "\n",
      "DataFrame is highly fragmented.  This is usually the result of calling `frame.insert` many times, which has poor performance.  Consider joining all columns at once using pd.concat(axis=1) instead. To get a de-fragmented frame, use `newframe = frame.copy()`\n",
      "\n",
      "C:\\Users\\Abdi\\AppData\\Local\\Temp\\ipykernel_2528\\4171585614.py:26: PerformanceWarning:\n",
      "\n",
      "DataFrame is highly fragmented.  This is usually the result of calling `frame.insert` many times, which has poor performance.  Consider joining all columns at once using pd.concat(axis=1) instead. To get a de-fragmented frame, use `newframe = frame.copy()`\n",
      "\n",
      "C:\\Users\\Abdi\\AppData\\Local\\Temp\\ipykernel_2528\\4171585614.py:26: PerformanceWarning:\n",
      "\n",
      "DataFrame is highly fragmented.  This is usually the result of calling `frame.insert` many times, which has poor performance.  Consider joining all columns at once using pd.concat(axis=1) instead. To get a de-fragmented frame, use `newframe = frame.copy()`\n",
      "\n",
      "C:\\Users\\Abdi\\AppData\\Local\\Temp\\ipykernel_2528\\4171585614.py:26: PerformanceWarning:\n",
      "\n",
      "DataFrame is highly fragmented.  This is usually the result of calling `frame.insert` many times, which has poor performance.  Consider joining all columns at once using pd.concat(axis=1) instead. To get a de-fragmented frame, use `newframe = frame.copy()`\n",
      "\n",
      "C:\\Users\\Abdi\\AppData\\Local\\Temp\\ipykernel_2528\\4171585614.py:26: PerformanceWarning:\n",
      "\n",
      "DataFrame is highly fragmented.  This is usually the result of calling `frame.insert` many times, which has poor performance.  Consider joining all columns at once using pd.concat(axis=1) instead. To get a de-fragmented frame, use `newframe = frame.copy()`\n",
      "\n",
      "C:\\Users\\Abdi\\AppData\\Local\\Temp\\ipykernel_2528\\4171585614.py:26: PerformanceWarning:\n",
      "\n",
      "DataFrame is highly fragmented.  This is usually the result of calling `frame.insert` many times, which has poor performance.  Consider joining all columns at once using pd.concat(axis=1) instead. To get a de-fragmented frame, use `newframe = frame.copy()`\n",
      "\n",
      "C:\\Users\\Abdi\\AppData\\Local\\Temp\\ipykernel_2528\\4171585614.py:26: PerformanceWarning:\n",
      "\n",
      "DataFrame is highly fragmented.  This is usually the result of calling `frame.insert` many times, which has poor performance.  Consider joining all columns at once using pd.concat(axis=1) instead. To get a de-fragmented frame, use `newframe = frame.copy()`\n",
      "\n",
      "C:\\Users\\Abdi\\AppData\\Local\\Temp\\ipykernel_2528\\4171585614.py:26: PerformanceWarning:\n",
      "\n",
      "DataFrame is highly fragmented.  This is usually the result of calling `frame.insert` many times, which has poor performance.  Consider joining all columns at once using pd.concat(axis=1) instead. To get a de-fragmented frame, use `newframe = frame.copy()`\n",
      "\n",
      "C:\\Users\\Abdi\\AppData\\Local\\Temp\\ipykernel_2528\\4171585614.py:26: PerformanceWarning:\n",
      "\n",
      "DataFrame is highly fragmented.  This is usually the result of calling `frame.insert` many times, which has poor performance.  Consider joining all columns at once using pd.concat(axis=1) instead. To get a de-fragmented frame, use `newframe = frame.copy()`\n",
      "\n",
      "C:\\Users\\Abdi\\AppData\\Local\\Temp\\ipykernel_2528\\4171585614.py:26: PerformanceWarning:\n",
      "\n",
      "DataFrame is highly fragmented.  This is usually the result of calling `frame.insert` many times, which has poor performance.  Consider joining all columns at once using pd.concat(axis=1) instead. To get a de-fragmented frame, use `newframe = frame.copy()`\n",
      "\n",
      "C:\\Users\\Abdi\\AppData\\Local\\Temp\\ipykernel_2528\\4171585614.py:26: PerformanceWarning:\n",
      "\n",
      "DataFrame is highly fragmented.  This is usually the result of calling `frame.insert` many times, which has poor performance.  Consider joining all columns at once using pd.concat(axis=1) instead. To get a de-fragmented frame, use `newframe = frame.copy()`\n",
      "\n",
      "C:\\Users\\Abdi\\AppData\\Local\\Temp\\ipykernel_2528\\4171585614.py:26: PerformanceWarning:\n",
      "\n",
      "DataFrame is highly fragmented.  This is usually the result of calling `frame.insert` many times, which has poor performance.  Consider joining all columns at once using pd.concat(axis=1) instead. To get a de-fragmented frame, use `newframe = frame.copy()`\n",
      "\n",
      "C:\\Users\\Abdi\\AppData\\Local\\Temp\\ipykernel_2528\\4171585614.py:26: PerformanceWarning:\n",
      "\n",
      "DataFrame is highly fragmented.  This is usually the result of calling `frame.insert` many times, which has poor performance.  Consider joining all columns at once using pd.concat(axis=1) instead. To get a de-fragmented frame, use `newframe = frame.copy()`\n",
      "\n",
      "C:\\Users\\Abdi\\AppData\\Local\\Temp\\ipykernel_2528\\4171585614.py:26: PerformanceWarning:\n",
      "\n",
      "DataFrame is highly fragmented.  This is usually the result of calling `frame.insert` many times, which has poor performance.  Consider joining all columns at once using pd.concat(axis=1) instead. To get a de-fragmented frame, use `newframe = frame.copy()`\n",
      "\n",
      "C:\\Users\\Abdi\\AppData\\Local\\Temp\\ipykernel_2528\\4171585614.py:26: PerformanceWarning:\n",
      "\n",
      "DataFrame is highly fragmented.  This is usually the result of calling `frame.insert` many times, which has poor performance.  Consider joining all columns at once using pd.concat(axis=1) instead. To get a de-fragmented frame, use `newframe = frame.copy()`\n",
      "\n",
      "C:\\Users\\Abdi\\AppData\\Local\\Temp\\ipykernel_2528\\4171585614.py:26: PerformanceWarning:\n",
      "\n",
      "DataFrame is highly fragmented.  This is usually the result of calling `frame.insert` many times, which has poor performance.  Consider joining all columns at once using pd.concat(axis=1) instead. To get a de-fragmented frame, use `newframe = frame.copy()`\n",
      "\n",
      "C:\\Users\\Abdi\\AppData\\Local\\Temp\\ipykernel_2528\\4171585614.py:26: PerformanceWarning:\n",
      "\n",
      "DataFrame is highly fragmented.  This is usually the result of calling `frame.insert` many times, which has poor performance.  Consider joining all columns at once using pd.concat(axis=1) instead. To get a de-fragmented frame, use `newframe = frame.copy()`\n",
      "\n",
      "C:\\Users\\Abdi\\AppData\\Local\\Temp\\ipykernel_2528\\4171585614.py:26: PerformanceWarning:\n",
      "\n",
      "DataFrame is highly fragmented.  This is usually the result of calling `frame.insert` many times, which has poor performance.  Consider joining all columns at once using pd.concat(axis=1) instead. To get a de-fragmented frame, use `newframe = frame.copy()`\n",
      "\n",
      "C:\\Users\\Abdi\\AppData\\Local\\Temp\\ipykernel_2528\\4171585614.py:26: PerformanceWarning:\n",
      "\n",
      "DataFrame is highly fragmented.  This is usually the result of calling `frame.insert` many times, which has poor performance.  Consider joining all columns at once using pd.concat(axis=1) instead. To get a de-fragmented frame, use `newframe = frame.copy()`\n",
      "\n",
      "C:\\Users\\Abdi\\AppData\\Local\\Temp\\ipykernel_2528\\4171585614.py:26: PerformanceWarning:\n",
      "\n",
      "DataFrame is highly fragmented.  This is usually the result of calling `frame.insert` many times, which has poor performance.  Consider joining all columns at once using pd.concat(axis=1) instead. To get a de-fragmented frame, use `newframe = frame.copy()`\n",
      "\n",
      "C:\\Users\\Abdi\\AppData\\Local\\Temp\\ipykernel_2528\\4171585614.py:26: PerformanceWarning:\n",
      "\n",
      "DataFrame is highly fragmented.  This is usually the result of calling `frame.insert` many times, which has poor performance.  Consider joining all columns at once using pd.concat(axis=1) instead. To get a de-fragmented frame, use `newframe = frame.copy()`\n",
      "\n",
      "C:\\Users\\Abdi\\AppData\\Local\\Temp\\ipykernel_2528\\4171585614.py:26: PerformanceWarning:\n",
      "\n",
      "DataFrame is highly fragmented.  This is usually the result of calling `frame.insert` many times, which has poor performance.  Consider joining all columns at once using pd.concat(axis=1) instead. To get a de-fragmented frame, use `newframe = frame.copy()`\n",
      "\n",
      "C:\\Users\\Abdi\\AppData\\Local\\Temp\\ipykernel_2528\\4171585614.py:26: PerformanceWarning:\n",
      "\n",
      "DataFrame is highly fragmented.  This is usually the result of calling `frame.insert` many times, which has poor performance.  Consider joining all columns at once using pd.concat(axis=1) instead. To get a de-fragmented frame, use `newframe = frame.copy()`\n",
      "\n",
      "C:\\Users\\Abdi\\AppData\\Local\\Temp\\ipykernel_2528\\4171585614.py:26: PerformanceWarning:\n",
      "\n",
      "DataFrame is highly fragmented.  This is usually the result of calling `frame.insert` many times, which has poor performance.  Consider joining all columns at once using pd.concat(axis=1) instead. To get a de-fragmented frame, use `newframe = frame.copy()`\n",
      "\n",
      "C:\\Users\\Abdi\\AppData\\Local\\Temp\\ipykernel_2528\\4171585614.py:26: PerformanceWarning:\n",
      "\n",
      "DataFrame is highly fragmented.  This is usually the result of calling `frame.insert` many times, which has poor performance.  Consider joining all columns at once using pd.concat(axis=1) instead. To get a de-fragmented frame, use `newframe = frame.copy()`\n",
      "\n",
      "C:\\Users\\Abdi\\AppData\\Local\\Temp\\ipykernel_2528\\4171585614.py:26: PerformanceWarning:\n",
      "\n",
      "DataFrame is highly fragmented.  This is usually the result of calling `frame.insert` many times, which has poor performance.  Consider joining all columns at once using pd.concat(axis=1) instead. To get a de-fragmented frame, use `newframe = frame.copy()`\n",
      "\n",
      "C:\\Users\\Abdi\\AppData\\Local\\Temp\\ipykernel_2528\\4171585614.py:26: PerformanceWarning:\n",
      "\n",
      "DataFrame is highly fragmented.  This is usually the result of calling `frame.insert` many times, which has poor performance.  Consider joining all columns at once using pd.concat(axis=1) instead. To get a de-fragmented frame, use `newframe = frame.copy()`\n",
      "\n",
      "C:\\Users\\Abdi\\AppData\\Local\\Temp\\ipykernel_2528\\4171585614.py:26: PerformanceWarning:\n",
      "\n",
      "DataFrame is highly fragmented.  This is usually the result of calling `frame.insert` many times, which has poor performance.  Consider joining all columns at once using pd.concat(axis=1) instead. To get a de-fragmented frame, use `newframe = frame.copy()`\n",
      "\n",
      "C:\\Users\\Abdi\\AppData\\Local\\Temp\\ipykernel_2528\\4171585614.py:26: PerformanceWarning:\n",
      "\n",
      "DataFrame is highly fragmented.  This is usually the result of calling `frame.insert` many times, which has poor performance.  Consider joining all columns at once using pd.concat(axis=1) instead. To get a de-fragmented frame, use `newframe = frame.copy()`\n",
      "\n",
      "C:\\Users\\Abdi\\AppData\\Local\\Temp\\ipykernel_2528\\4171585614.py:26: PerformanceWarning:\n",
      "\n",
      "DataFrame is highly fragmented.  This is usually the result of calling `frame.insert` many times, which has poor performance.  Consider joining all columns at once using pd.concat(axis=1) instead. To get a de-fragmented frame, use `newframe = frame.copy()`\n",
      "\n",
      "C:\\Users\\Abdi\\AppData\\Local\\Temp\\ipykernel_2528\\4171585614.py:26: PerformanceWarning:\n",
      "\n",
      "DataFrame is highly fragmented.  This is usually the result of calling `frame.insert` many times, which has poor performance.  Consider joining all columns at once using pd.concat(axis=1) instead. To get a de-fragmented frame, use `newframe = frame.copy()`\n",
      "\n",
      "C:\\Users\\Abdi\\AppData\\Local\\Temp\\ipykernel_2528\\4171585614.py:26: PerformanceWarning:\n",
      "\n",
      "DataFrame is highly fragmented.  This is usually the result of calling `frame.insert` many times, which has poor performance.  Consider joining all columns at once using pd.concat(axis=1) instead. To get a de-fragmented frame, use `newframe = frame.copy()`\n",
      "\n",
      "C:\\Users\\Abdi\\AppData\\Local\\Temp\\ipykernel_2528\\4171585614.py:26: PerformanceWarning:\n",
      "\n",
      "DataFrame is highly fragmented.  This is usually the result of calling `frame.insert` many times, which has poor performance.  Consider joining all columns at once using pd.concat(axis=1) instead. To get a de-fragmented frame, use `newframe = frame.copy()`\n",
      "\n",
      "C:\\Users\\Abdi\\AppData\\Local\\Temp\\ipykernel_2528\\4171585614.py:26: PerformanceWarning:\n",
      "\n",
      "DataFrame is highly fragmented.  This is usually the result of calling `frame.insert` many times, which has poor performance.  Consider joining all columns at once using pd.concat(axis=1) instead. To get a de-fragmented frame, use `newframe = frame.copy()`\n",
      "\n",
      "C:\\Users\\Abdi\\AppData\\Local\\Temp\\ipykernel_2528\\4171585614.py:26: PerformanceWarning:\n",
      "\n",
      "DataFrame is highly fragmented.  This is usually the result of calling `frame.insert` many times, which has poor performance.  Consider joining all columns at once using pd.concat(axis=1) instead. To get a de-fragmented frame, use `newframe = frame.copy()`\n",
      "\n",
      "C:\\Users\\Abdi\\AppData\\Local\\Temp\\ipykernel_2528\\4171585614.py:26: PerformanceWarning:\n",
      "\n",
      "DataFrame is highly fragmented.  This is usually the result of calling `frame.insert` many times, which has poor performance.  Consider joining all columns at once using pd.concat(axis=1) instead. To get a de-fragmented frame, use `newframe = frame.copy()`\n",
      "\n",
      "C:\\Users\\Abdi\\AppData\\Local\\Temp\\ipykernel_2528\\4171585614.py:26: PerformanceWarning:\n",
      "\n",
      "DataFrame is highly fragmented.  This is usually the result of calling `frame.insert` many times, which has poor performance.  Consider joining all columns at once using pd.concat(axis=1) instead. To get a de-fragmented frame, use `newframe = frame.copy()`\n",
      "\n",
      "C:\\Users\\Abdi\\AppData\\Local\\Temp\\ipykernel_2528\\4171585614.py:26: PerformanceWarning:\n",
      "\n",
      "DataFrame is highly fragmented.  This is usually the result of calling `frame.insert` many times, which has poor performance.  Consider joining all columns at once using pd.concat(axis=1) instead. To get a de-fragmented frame, use `newframe = frame.copy()`\n",
      "\n",
      "C:\\Users\\Abdi\\AppData\\Local\\Temp\\ipykernel_2528\\4171585614.py:26: PerformanceWarning:\n",
      "\n",
      "DataFrame is highly fragmented.  This is usually the result of calling `frame.insert` many times, which has poor performance.  Consider joining all columns at once using pd.concat(axis=1) instead. To get a de-fragmented frame, use `newframe = frame.copy()`\n",
      "\n",
      "C:\\Users\\Abdi\\AppData\\Local\\Temp\\ipykernel_2528\\4171585614.py:26: PerformanceWarning:\n",
      "\n",
      "DataFrame is highly fragmented.  This is usually the result of calling `frame.insert` many times, which has poor performance.  Consider joining all columns at once using pd.concat(axis=1) instead. To get a de-fragmented frame, use `newframe = frame.copy()`\n",
      "\n",
      "C:\\Users\\Abdi\\AppData\\Local\\Temp\\ipykernel_2528\\4171585614.py:26: PerformanceWarning:\n",
      "\n",
      "DataFrame is highly fragmented.  This is usually the result of calling `frame.insert` many times, which has poor performance.  Consider joining all columns at once using pd.concat(axis=1) instead. To get a de-fragmented frame, use `newframe = frame.copy()`\n",
      "\n",
      "C:\\Users\\Abdi\\AppData\\Local\\Temp\\ipykernel_2528\\4171585614.py:26: PerformanceWarning:\n",
      "\n",
      "DataFrame is highly fragmented.  This is usually the result of calling `frame.insert` many times, which has poor performance.  Consider joining all columns at once using pd.concat(axis=1) instead. To get a de-fragmented frame, use `newframe = frame.copy()`\n",
      "\n",
      "C:\\Users\\Abdi\\AppData\\Local\\Temp\\ipykernel_2528\\4171585614.py:26: PerformanceWarning:\n",
      "\n",
      "DataFrame is highly fragmented.  This is usually the result of calling `frame.insert` many times, which has poor performance.  Consider joining all columns at once using pd.concat(axis=1) instead. To get a de-fragmented frame, use `newframe = frame.copy()`\n",
      "\n",
      "C:\\Users\\Abdi\\AppData\\Local\\Temp\\ipykernel_2528\\4171585614.py:26: PerformanceWarning:\n",
      "\n",
      "DataFrame is highly fragmented.  This is usually the result of calling `frame.insert` many times, which has poor performance.  Consider joining all columns at once using pd.concat(axis=1) instead. To get a de-fragmented frame, use `newframe = frame.copy()`\n",
      "\n",
      "C:\\Users\\Abdi\\AppData\\Local\\Temp\\ipykernel_2528\\4171585614.py:26: PerformanceWarning:\n",
      "\n",
      "DataFrame is highly fragmented.  This is usually the result of calling `frame.insert` many times, which has poor performance.  Consider joining all columns at once using pd.concat(axis=1) instead. To get a de-fragmented frame, use `newframe = frame.copy()`\n",
      "\n",
      "C:\\Users\\Abdi\\AppData\\Local\\Temp\\ipykernel_2528\\4171585614.py:26: PerformanceWarning:\n",
      "\n",
      "DataFrame is highly fragmented.  This is usually the result of calling `frame.insert` many times, which has poor performance.  Consider joining all columns at once using pd.concat(axis=1) instead. To get a de-fragmented frame, use `newframe = frame.copy()`\n",
      "\n",
      "C:\\Users\\Abdi\\AppData\\Local\\Temp\\ipykernel_2528\\4171585614.py:26: PerformanceWarning:\n",
      "\n",
      "DataFrame is highly fragmented.  This is usually the result of calling `frame.insert` many times, which has poor performance.  Consider joining all columns at once using pd.concat(axis=1) instead. To get a de-fragmented frame, use `newframe = frame.copy()`\n",
      "\n",
      "C:\\Users\\Abdi\\AppData\\Local\\Temp\\ipykernel_2528\\4171585614.py:26: PerformanceWarning:\n",
      "\n",
      "DataFrame is highly fragmented.  This is usually the result of calling `frame.insert` many times, which has poor performance.  Consider joining all columns at once using pd.concat(axis=1) instead. To get a de-fragmented frame, use `newframe = frame.copy()`\n",
      "\n",
      "C:\\Users\\Abdi\\AppData\\Local\\Temp\\ipykernel_2528\\4171585614.py:26: PerformanceWarning:\n",
      "\n",
      "DataFrame is highly fragmented.  This is usually the result of calling `frame.insert` many times, which has poor performance.  Consider joining all columns at once using pd.concat(axis=1) instead. To get a de-fragmented frame, use `newframe = frame.copy()`\n",
      "\n",
      "C:\\Users\\Abdi\\AppData\\Local\\Temp\\ipykernel_2528\\4171585614.py:26: PerformanceWarning:\n",
      "\n",
      "DataFrame is highly fragmented.  This is usually the result of calling `frame.insert` many times, which has poor performance.  Consider joining all columns at once using pd.concat(axis=1) instead. To get a de-fragmented frame, use `newframe = frame.copy()`\n",
      "\n",
      "C:\\Users\\Abdi\\AppData\\Local\\Temp\\ipykernel_2528\\4171585614.py:26: PerformanceWarning:\n",
      "\n",
      "DataFrame is highly fragmented.  This is usually the result of calling `frame.insert` many times, which has poor performance.  Consider joining all columns at once using pd.concat(axis=1) instead. To get a de-fragmented frame, use `newframe = frame.copy()`\n",
      "\n",
      "C:\\Users\\Abdi\\AppData\\Local\\Temp\\ipykernel_2528\\4171585614.py:26: PerformanceWarning:\n",
      "\n",
      "DataFrame is highly fragmented.  This is usually the result of calling `frame.insert` many times, which has poor performance.  Consider joining all columns at once using pd.concat(axis=1) instead. To get a de-fragmented frame, use `newframe = frame.copy()`\n",
      "\n",
      "C:\\Users\\Abdi\\AppData\\Local\\Temp\\ipykernel_2528\\4171585614.py:26: PerformanceWarning:\n",
      "\n",
      "DataFrame is highly fragmented.  This is usually the result of calling `frame.insert` many times, which has poor performance.  Consider joining all columns at once using pd.concat(axis=1) instead. To get a de-fragmented frame, use `newframe = frame.copy()`\n",
      "\n",
      "C:\\Users\\Abdi\\AppData\\Local\\Temp\\ipykernel_2528\\4171585614.py:26: PerformanceWarning:\n",
      "\n",
      "DataFrame is highly fragmented.  This is usually the result of calling `frame.insert` many times, which has poor performance.  Consider joining all columns at once using pd.concat(axis=1) instead. To get a de-fragmented frame, use `newframe = frame.copy()`\n",
      "\n",
      "C:\\Users\\Abdi\\AppData\\Local\\Temp\\ipykernel_2528\\4171585614.py:26: PerformanceWarning:\n",
      "\n",
      "DataFrame is highly fragmented.  This is usually the result of calling `frame.insert` many times, which has poor performance.  Consider joining all columns at once using pd.concat(axis=1) instead. To get a de-fragmented frame, use `newframe = frame.copy()`\n",
      "\n",
      "C:\\Users\\Abdi\\AppData\\Local\\Temp\\ipykernel_2528\\4171585614.py:26: PerformanceWarning:\n",
      "\n",
      "DataFrame is highly fragmented.  This is usually the result of calling `frame.insert` many times, which has poor performance.  Consider joining all columns at once using pd.concat(axis=1) instead. To get a de-fragmented frame, use `newframe = frame.copy()`\n",
      "\n",
      "C:\\Users\\Abdi\\AppData\\Local\\Temp\\ipykernel_2528\\4171585614.py:26: PerformanceWarning:\n",
      "\n",
      "DataFrame is highly fragmented.  This is usually the result of calling `frame.insert` many times, which has poor performance.  Consider joining all columns at once using pd.concat(axis=1) instead. To get a de-fragmented frame, use `newframe = frame.copy()`\n",
      "\n",
      "C:\\Users\\Abdi\\AppData\\Local\\Temp\\ipykernel_2528\\4171585614.py:26: PerformanceWarning:\n",
      "\n",
      "DataFrame is highly fragmented.  This is usually the result of calling `frame.insert` many times, which has poor performance.  Consider joining all columns at once using pd.concat(axis=1) instead. To get a de-fragmented frame, use `newframe = frame.copy()`\n",
      "\n",
      "C:\\Users\\Abdi\\AppData\\Local\\Temp\\ipykernel_2528\\4171585614.py:26: PerformanceWarning:\n",
      "\n",
      "DataFrame is highly fragmented.  This is usually the result of calling `frame.insert` many times, which has poor performance.  Consider joining all columns at once using pd.concat(axis=1) instead. To get a de-fragmented frame, use `newframe = frame.copy()`\n",
      "\n",
      "C:\\Users\\Abdi\\AppData\\Local\\Temp\\ipykernel_2528\\4171585614.py:26: PerformanceWarning:\n",
      "\n",
      "DataFrame is highly fragmented.  This is usually the result of calling `frame.insert` many times, which has poor performance.  Consider joining all columns at once using pd.concat(axis=1) instead. To get a de-fragmented frame, use `newframe = frame.copy()`\n",
      "\n",
      "C:\\Users\\Abdi\\AppData\\Local\\Temp\\ipykernel_2528\\4171585614.py:26: PerformanceWarning:\n",
      "\n",
      "DataFrame is highly fragmented.  This is usually the result of calling `frame.insert` many times, which has poor performance.  Consider joining all columns at once using pd.concat(axis=1) instead. To get a de-fragmented frame, use `newframe = frame.copy()`\n",
      "\n",
      "C:\\Users\\Abdi\\AppData\\Local\\Temp\\ipykernel_2528\\4171585614.py:26: PerformanceWarning:\n",
      "\n",
      "DataFrame is highly fragmented.  This is usually the result of calling `frame.insert` many times, which has poor performance.  Consider joining all columns at once using pd.concat(axis=1) instead. To get a de-fragmented frame, use `newframe = frame.copy()`\n",
      "\n",
      "C:\\Users\\Abdi\\AppData\\Local\\Temp\\ipykernel_2528\\4171585614.py:26: PerformanceWarning:\n",
      "\n",
      "DataFrame is highly fragmented.  This is usually the result of calling `frame.insert` many times, which has poor performance.  Consider joining all columns at once using pd.concat(axis=1) instead. To get a de-fragmented frame, use `newframe = frame.copy()`\n",
      "\n",
      "C:\\Users\\Abdi\\AppData\\Local\\Temp\\ipykernel_2528\\4171585614.py:26: PerformanceWarning:\n",
      "\n",
      "DataFrame is highly fragmented.  This is usually the result of calling `frame.insert` many times, which has poor performance.  Consider joining all columns at once using pd.concat(axis=1) instead. To get a de-fragmented frame, use `newframe = frame.copy()`\n",
      "\n",
      "C:\\Users\\Abdi\\AppData\\Local\\Temp\\ipykernel_2528\\4171585614.py:26: PerformanceWarning:\n",
      "\n",
      "DataFrame is highly fragmented.  This is usually the result of calling `frame.insert` many times, which has poor performance.  Consider joining all columns at once using pd.concat(axis=1) instead. To get a de-fragmented frame, use `newframe = frame.copy()`\n",
      "\n",
      "C:\\Users\\Abdi\\AppData\\Local\\Temp\\ipykernel_2528\\4171585614.py:26: PerformanceWarning:\n",
      "\n",
      "DataFrame is highly fragmented.  This is usually the result of calling `frame.insert` many times, which has poor performance.  Consider joining all columns at once using pd.concat(axis=1) instead. To get a de-fragmented frame, use `newframe = frame.copy()`\n",
      "\n",
      "C:\\Users\\Abdi\\AppData\\Local\\Temp\\ipykernel_2528\\4171585614.py:26: PerformanceWarning:\n",
      "\n",
      "DataFrame is highly fragmented.  This is usually the result of calling `frame.insert` many times, which has poor performance.  Consider joining all columns at once using pd.concat(axis=1) instead. To get a de-fragmented frame, use `newframe = frame.copy()`\n",
      "\n",
      "C:\\Users\\Abdi\\AppData\\Local\\Temp\\ipykernel_2528\\4171585614.py:26: PerformanceWarning:\n",
      "\n",
      "DataFrame is highly fragmented.  This is usually the result of calling `frame.insert` many times, which has poor performance.  Consider joining all columns at once using pd.concat(axis=1) instead. To get a de-fragmented frame, use `newframe = frame.copy()`\n",
      "\n",
      "C:\\Users\\Abdi\\AppData\\Local\\Temp\\ipykernel_2528\\4171585614.py:26: PerformanceWarning:\n",
      "\n",
      "DataFrame is highly fragmented.  This is usually the result of calling `frame.insert` many times, which has poor performance.  Consider joining all columns at once using pd.concat(axis=1) instead. To get a de-fragmented frame, use `newframe = frame.copy()`\n",
      "\n",
      "C:\\Users\\Abdi\\AppData\\Local\\Temp\\ipykernel_2528\\4171585614.py:26: PerformanceWarning:\n",
      "\n",
      "DataFrame is highly fragmented.  This is usually the result of calling `frame.insert` many times, which has poor performance.  Consider joining all columns at once using pd.concat(axis=1) instead. To get a de-fragmented frame, use `newframe = frame.copy()`\n",
      "\n",
      "C:\\Users\\Abdi\\AppData\\Local\\Temp\\ipykernel_2528\\4171585614.py:26: PerformanceWarning:\n",
      "\n",
      "DataFrame is highly fragmented.  This is usually the result of calling `frame.insert` many times, which has poor performance.  Consider joining all columns at once using pd.concat(axis=1) instead. To get a de-fragmented frame, use `newframe = frame.copy()`\n",
      "\n",
      "C:\\Users\\Abdi\\AppData\\Local\\Temp\\ipykernel_2528\\4171585614.py:26: PerformanceWarning:\n",
      "\n",
      "DataFrame is highly fragmented.  This is usually the result of calling `frame.insert` many times, which has poor performance.  Consider joining all columns at once using pd.concat(axis=1) instead. To get a de-fragmented frame, use `newframe = frame.copy()`\n",
      "\n",
      "C:\\Users\\Abdi\\AppData\\Local\\Temp\\ipykernel_2528\\4171585614.py:26: PerformanceWarning:\n",
      "\n",
      "DataFrame is highly fragmented.  This is usually the result of calling `frame.insert` many times, which has poor performance.  Consider joining all columns at once using pd.concat(axis=1) instead. To get a de-fragmented frame, use `newframe = frame.copy()`\n",
      "\n",
      "C:\\Users\\Abdi\\AppData\\Local\\Temp\\ipykernel_2528\\4171585614.py:26: PerformanceWarning:\n",
      "\n",
      "DataFrame is highly fragmented.  This is usually the result of calling `frame.insert` many times, which has poor performance.  Consider joining all columns at once using pd.concat(axis=1) instead. To get a de-fragmented frame, use `newframe = frame.copy()`\n",
      "\n",
      "C:\\Users\\Abdi\\AppData\\Local\\Temp\\ipykernel_2528\\4171585614.py:26: PerformanceWarning:\n",
      "\n",
      "DataFrame is highly fragmented.  This is usually the result of calling `frame.insert` many times, which has poor performance.  Consider joining all columns at once using pd.concat(axis=1) instead. To get a de-fragmented frame, use `newframe = frame.copy()`\n",
      "\n",
      "C:\\Users\\Abdi\\AppData\\Local\\Temp\\ipykernel_2528\\4171585614.py:26: PerformanceWarning:\n",
      "\n",
      "DataFrame is highly fragmented.  This is usually the result of calling `frame.insert` many times, which has poor performance.  Consider joining all columns at once using pd.concat(axis=1) instead. To get a de-fragmented frame, use `newframe = frame.copy()`\n",
      "\n",
      "C:\\Users\\Abdi\\AppData\\Local\\Temp\\ipykernel_2528\\4171585614.py:26: PerformanceWarning:\n",
      "\n",
      "DataFrame is highly fragmented.  This is usually the result of calling `frame.insert` many times, which has poor performance.  Consider joining all columns at once using pd.concat(axis=1) instead. To get a de-fragmented frame, use `newframe = frame.copy()`\n",
      "\n",
      "C:\\Users\\Abdi\\AppData\\Local\\Temp\\ipykernel_2528\\4171585614.py:26: PerformanceWarning:\n",
      "\n",
      "DataFrame is highly fragmented.  This is usually the result of calling `frame.insert` many times, which has poor performance.  Consider joining all columns at once using pd.concat(axis=1) instead. To get a de-fragmented frame, use `newframe = frame.copy()`\n",
      "\n",
      "C:\\Users\\Abdi\\AppData\\Local\\Temp\\ipykernel_2528\\4171585614.py:26: PerformanceWarning:\n",
      "\n",
      "DataFrame is highly fragmented.  This is usually the result of calling `frame.insert` many times, which has poor performance.  Consider joining all columns at once using pd.concat(axis=1) instead. To get a de-fragmented frame, use `newframe = frame.copy()`\n",
      "\n",
      "C:\\Users\\Abdi\\AppData\\Local\\Temp\\ipykernel_2528\\4171585614.py:26: PerformanceWarning:\n",
      "\n",
      "DataFrame is highly fragmented.  This is usually the result of calling `frame.insert` many times, which has poor performance.  Consider joining all columns at once using pd.concat(axis=1) instead. To get a de-fragmented frame, use `newframe = frame.copy()`\n",
      "\n",
      "C:\\Users\\Abdi\\AppData\\Local\\Temp\\ipykernel_2528\\4171585614.py:26: PerformanceWarning:\n",
      "\n",
      "DataFrame is highly fragmented.  This is usually the result of calling `frame.insert` many times, which has poor performance.  Consider joining all columns at once using pd.concat(axis=1) instead. To get a de-fragmented frame, use `newframe = frame.copy()`\n",
      "\n",
      "C:\\Users\\Abdi\\AppData\\Local\\Temp\\ipykernel_2528\\4171585614.py:26: PerformanceWarning:\n",
      "\n",
      "DataFrame is highly fragmented.  This is usually the result of calling `frame.insert` many times, which has poor performance.  Consider joining all columns at once using pd.concat(axis=1) instead. To get a de-fragmented frame, use `newframe = frame.copy()`\n",
      "\n",
      "C:\\Users\\Abdi\\AppData\\Local\\Temp\\ipykernel_2528\\4171585614.py:26: PerformanceWarning:\n",
      "\n",
      "DataFrame is highly fragmented.  This is usually the result of calling `frame.insert` many times, which has poor performance.  Consider joining all columns at once using pd.concat(axis=1) instead. To get a de-fragmented frame, use `newframe = frame.copy()`\n",
      "\n",
      "C:\\Users\\Abdi\\AppData\\Local\\Temp\\ipykernel_2528\\4171585614.py:26: PerformanceWarning:\n",
      "\n",
      "DataFrame is highly fragmented.  This is usually the result of calling `frame.insert` many times, which has poor performance.  Consider joining all columns at once using pd.concat(axis=1) instead. To get a de-fragmented frame, use `newframe = frame.copy()`\n",
      "\n",
      "C:\\Users\\Abdi\\AppData\\Local\\Temp\\ipykernel_2528\\4171585614.py:26: PerformanceWarning:\n",
      "\n",
      "DataFrame is highly fragmented.  This is usually the result of calling `frame.insert` many times, which has poor performance.  Consider joining all columns at once using pd.concat(axis=1) instead. To get a de-fragmented frame, use `newframe = frame.copy()`\n",
      "\n",
      "C:\\Users\\Abdi\\AppData\\Local\\Temp\\ipykernel_2528\\4171585614.py:26: PerformanceWarning:\n",
      "\n",
      "DataFrame is highly fragmented.  This is usually the result of calling `frame.insert` many times, which has poor performance.  Consider joining all columns at once using pd.concat(axis=1) instead. To get a de-fragmented frame, use `newframe = frame.copy()`\n",
      "\n",
      "C:\\Users\\Abdi\\AppData\\Local\\Temp\\ipykernel_2528\\4171585614.py:26: PerformanceWarning:\n",
      "\n",
      "DataFrame is highly fragmented.  This is usually the result of calling `frame.insert` many times, which has poor performance.  Consider joining all columns at once using pd.concat(axis=1) instead. To get a de-fragmented frame, use `newframe = frame.copy()`\n",
      "\n",
      "C:\\Users\\Abdi\\AppData\\Local\\Temp\\ipykernel_2528\\4171585614.py:26: PerformanceWarning:\n",
      "\n",
      "DataFrame is highly fragmented.  This is usually the result of calling `frame.insert` many times, which has poor performance.  Consider joining all columns at once using pd.concat(axis=1) instead. To get a de-fragmented frame, use `newframe = frame.copy()`\n",
      "\n",
      "C:\\Users\\Abdi\\AppData\\Local\\Temp\\ipykernel_2528\\4171585614.py:26: PerformanceWarning:\n",
      "\n",
      "DataFrame is highly fragmented.  This is usually the result of calling `frame.insert` many times, which has poor performance.  Consider joining all columns at once using pd.concat(axis=1) instead. To get a de-fragmented frame, use `newframe = frame.copy()`\n",
      "\n",
      "C:\\Users\\Abdi\\AppData\\Local\\Temp\\ipykernel_2528\\4171585614.py:26: PerformanceWarning:\n",
      "\n",
      "DataFrame is highly fragmented.  This is usually the result of calling `frame.insert` many times, which has poor performance.  Consider joining all columns at once using pd.concat(axis=1) instead. To get a de-fragmented frame, use `newframe = frame.copy()`\n",
      "\n",
      "C:\\Users\\Abdi\\AppData\\Local\\Temp\\ipykernel_2528\\4171585614.py:26: PerformanceWarning:\n",
      "\n",
      "DataFrame is highly fragmented.  This is usually the result of calling `frame.insert` many times, which has poor performance.  Consider joining all columns at once using pd.concat(axis=1) instead. To get a de-fragmented frame, use `newframe = frame.copy()`\n",
      "\n",
      "C:\\Users\\Abdi\\AppData\\Local\\Temp\\ipykernel_2528\\4171585614.py:26: PerformanceWarning:\n",
      "\n",
      "DataFrame is highly fragmented.  This is usually the result of calling `frame.insert` many times, which has poor performance.  Consider joining all columns at once using pd.concat(axis=1) instead. To get a de-fragmented frame, use `newframe = frame.copy()`\n",
      "\n",
      "C:\\Users\\Abdi\\AppData\\Local\\Temp\\ipykernel_2528\\4171585614.py:26: PerformanceWarning:\n",
      "\n",
      "DataFrame is highly fragmented.  This is usually the result of calling `frame.insert` many times, which has poor performance.  Consider joining all columns at once using pd.concat(axis=1) instead. To get a de-fragmented frame, use `newframe = frame.copy()`\n",
      "\n",
      "C:\\Users\\Abdi\\AppData\\Local\\Temp\\ipykernel_2528\\4171585614.py:26: PerformanceWarning:\n",
      "\n",
      "DataFrame is highly fragmented.  This is usually the result of calling `frame.insert` many times, which has poor performance.  Consider joining all columns at once using pd.concat(axis=1) instead. To get a de-fragmented frame, use `newframe = frame.copy()`\n",
      "\n",
      "C:\\Users\\Abdi\\AppData\\Local\\Temp\\ipykernel_2528\\4171585614.py:26: PerformanceWarning:\n",
      "\n",
      "DataFrame is highly fragmented.  This is usually the result of calling `frame.insert` many times, which has poor performance.  Consider joining all columns at once using pd.concat(axis=1) instead. To get a de-fragmented frame, use `newframe = frame.copy()`\n",
      "\n",
      "C:\\Users\\Abdi\\AppData\\Local\\Temp\\ipykernel_2528\\4171585614.py:26: PerformanceWarning:\n",
      "\n",
      "DataFrame is highly fragmented.  This is usually the result of calling `frame.insert` many times, which has poor performance.  Consider joining all columns at once using pd.concat(axis=1) instead. To get a de-fragmented frame, use `newframe = frame.copy()`\n",
      "\n",
      "C:\\Users\\Abdi\\AppData\\Local\\Temp\\ipykernel_2528\\4171585614.py:26: PerformanceWarning:\n",
      "\n",
      "DataFrame is highly fragmented.  This is usually the result of calling `frame.insert` many times, which has poor performance.  Consider joining all columns at once using pd.concat(axis=1) instead. To get a de-fragmented frame, use `newframe = frame.copy()`\n",
      "\n",
      "C:\\Users\\Abdi\\AppData\\Local\\Temp\\ipykernel_2528\\4171585614.py:26: PerformanceWarning:\n",
      "\n",
      "DataFrame is highly fragmented.  This is usually the result of calling `frame.insert` many times, which has poor performance.  Consider joining all columns at once using pd.concat(axis=1) instead. To get a de-fragmented frame, use `newframe = frame.copy()`\n",
      "\n",
      "C:\\Users\\Abdi\\AppData\\Local\\Temp\\ipykernel_2528\\4171585614.py:26: PerformanceWarning:\n",
      "\n",
      "DataFrame is highly fragmented.  This is usually the result of calling `frame.insert` many times, which has poor performance.  Consider joining all columns at once using pd.concat(axis=1) instead. To get a de-fragmented frame, use `newframe = frame.copy()`\n",
      "\n",
      "C:\\Users\\Abdi\\AppData\\Local\\Temp\\ipykernel_2528\\4171585614.py:26: PerformanceWarning:\n",
      "\n",
      "DataFrame is highly fragmented.  This is usually the result of calling `frame.insert` many times, which has poor performance.  Consider joining all columns at once using pd.concat(axis=1) instead. To get a de-fragmented frame, use `newframe = frame.copy()`\n",
      "\n",
      "C:\\Users\\Abdi\\AppData\\Local\\Temp\\ipykernel_2528\\4171585614.py:26: PerformanceWarning:\n",
      "\n",
      "DataFrame is highly fragmented.  This is usually the result of calling `frame.insert` many times, which has poor performance.  Consider joining all columns at once using pd.concat(axis=1) instead. To get a de-fragmented frame, use `newframe = frame.copy()`\n",
      "\n",
      "C:\\Users\\Abdi\\AppData\\Local\\Temp\\ipykernel_2528\\4171585614.py:26: PerformanceWarning:\n",
      "\n",
      "DataFrame is highly fragmented.  This is usually the result of calling `frame.insert` many times, which has poor performance.  Consider joining all columns at once using pd.concat(axis=1) instead. To get a de-fragmented frame, use `newframe = frame.copy()`\n",
      "\n",
      "C:\\Users\\Abdi\\AppData\\Local\\Temp\\ipykernel_2528\\4171585614.py:26: PerformanceWarning:\n",
      "\n",
      "DataFrame is highly fragmented.  This is usually the result of calling `frame.insert` many times, which has poor performance.  Consider joining all columns at once using pd.concat(axis=1) instead. To get a de-fragmented frame, use `newframe = frame.copy()`\n",
      "\n",
      "C:\\Users\\Abdi\\AppData\\Local\\Temp\\ipykernel_2528\\4171585614.py:26: PerformanceWarning:\n",
      "\n",
      "DataFrame is highly fragmented.  This is usually the result of calling `frame.insert` many times, which has poor performance.  Consider joining all columns at once using pd.concat(axis=1) instead. To get a de-fragmented frame, use `newframe = frame.copy()`\n",
      "\n",
      "C:\\Users\\Abdi\\AppData\\Local\\Temp\\ipykernel_2528\\4171585614.py:26: PerformanceWarning:\n",
      "\n",
      "DataFrame is highly fragmented.  This is usually the result of calling `frame.insert` many times, which has poor performance.  Consider joining all columns at once using pd.concat(axis=1) instead. To get a de-fragmented frame, use `newframe = frame.copy()`\n",
      "\n",
      "C:\\Users\\Abdi\\AppData\\Local\\Temp\\ipykernel_2528\\4171585614.py:26: PerformanceWarning:\n",
      "\n",
      "DataFrame is highly fragmented.  This is usually the result of calling `frame.insert` many times, which has poor performance.  Consider joining all columns at once using pd.concat(axis=1) instead. To get a de-fragmented frame, use `newframe = frame.copy()`\n",
      "\n",
      "C:\\Users\\Abdi\\AppData\\Local\\Temp\\ipykernel_2528\\4171585614.py:26: PerformanceWarning:\n",
      "\n",
      "DataFrame is highly fragmented.  This is usually the result of calling `frame.insert` many times, which has poor performance.  Consider joining all columns at once using pd.concat(axis=1) instead. To get a de-fragmented frame, use `newframe = frame.copy()`\n",
      "\n",
      "C:\\Users\\Abdi\\AppData\\Local\\Temp\\ipykernel_2528\\4171585614.py:26: PerformanceWarning:\n",
      "\n",
      "DataFrame is highly fragmented.  This is usually the result of calling `frame.insert` many times, which has poor performance.  Consider joining all columns at once using pd.concat(axis=1) instead. To get a de-fragmented frame, use `newframe = frame.copy()`\n",
      "\n",
      "C:\\Users\\Abdi\\AppData\\Local\\Temp\\ipykernel_2528\\4171585614.py:26: PerformanceWarning:\n",
      "\n",
      "DataFrame is highly fragmented.  This is usually the result of calling `frame.insert` many times, which has poor performance.  Consider joining all columns at once using pd.concat(axis=1) instead. To get a de-fragmented frame, use `newframe = frame.copy()`\n",
      "\n",
      "C:\\Users\\Abdi\\AppData\\Local\\Temp\\ipykernel_2528\\4171585614.py:26: PerformanceWarning:\n",
      "\n",
      "DataFrame is highly fragmented.  This is usually the result of calling `frame.insert` many times, which has poor performance.  Consider joining all columns at once using pd.concat(axis=1) instead. To get a de-fragmented frame, use `newframe = frame.copy()`\n",
      "\n",
      "C:\\Users\\Abdi\\AppData\\Local\\Temp\\ipykernel_2528\\4171585614.py:26: PerformanceWarning:\n",
      "\n",
      "DataFrame is highly fragmented.  This is usually the result of calling `frame.insert` many times, which has poor performance.  Consider joining all columns at once using pd.concat(axis=1) instead. To get a de-fragmented frame, use `newframe = frame.copy()`\n",
      "\n",
      "C:\\Users\\Abdi\\AppData\\Local\\Temp\\ipykernel_2528\\4171585614.py:26: PerformanceWarning:\n",
      "\n",
      "DataFrame is highly fragmented.  This is usually the result of calling `frame.insert` many times, which has poor performance.  Consider joining all columns at once using pd.concat(axis=1) instead. To get a de-fragmented frame, use `newframe = frame.copy()`\n",
      "\n",
      "C:\\Users\\Abdi\\AppData\\Local\\Temp\\ipykernel_2528\\4171585614.py:26: PerformanceWarning:\n",
      "\n",
      "DataFrame is highly fragmented.  This is usually the result of calling `frame.insert` many times, which has poor performance.  Consider joining all columns at once using pd.concat(axis=1) instead. To get a de-fragmented frame, use `newframe = frame.copy()`\n",
      "\n",
      "C:\\Users\\Abdi\\AppData\\Local\\Temp\\ipykernel_2528\\4171585614.py:26: PerformanceWarning:\n",
      "\n",
      "DataFrame is highly fragmented.  This is usually the result of calling `frame.insert` many times, which has poor performance.  Consider joining all columns at once using pd.concat(axis=1) instead. To get a de-fragmented frame, use `newframe = frame.copy()`\n",
      "\n",
      "C:\\Users\\Abdi\\AppData\\Local\\Temp\\ipykernel_2528\\4171585614.py:26: PerformanceWarning:\n",
      "\n",
      "DataFrame is highly fragmented.  This is usually the result of calling `frame.insert` many times, which has poor performance.  Consider joining all columns at once using pd.concat(axis=1) instead. To get a de-fragmented frame, use `newframe = frame.copy()`\n",
      "\n",
      "C:\\Users\\Abdi\\AppData\\Local\\Temp\\ipykernel_2528\\4171585614.py:26: PerformanceWarning:\n",
      "\n",
      "DataFrame is highly fragmented.  This is usually the result of calling `frame.insert` many times, which has poor performance.  Consider joining all columns at once using pd.concat(axis=1) instead. To get a de-fragmented frame, use `newframe = frame.copy()`\n",
      "\n",
      "C:\\Users\\Abdi\\AppData\\Local\\Temp\\ipykernel_2528\\4171585614.py:26: PerformanceWarning:\n",
      "\n",
      "DataFrame is highly fragmented.  This is usually the result of calling `frame.insert` many times, which has poor performance.  Consider joining all columns at once using pd.concat(axis=1) instead. To get a de-fragmented frame, use `newframe = frame.copy()`\n",
      "\n",
      "C:\\Users\\Abdi\\AppData\\Local\\Temp\\ipykernel_2528\\4171585614.py:26: PerformanceWarning:\n",
      "\n",
      "DataFrame is highly fragmented.  This is usually the result of calling `frame.insert` many times, which has poor performance.  Consider joining all columns at once using pd.concat(axis=1) instead. To get a de-fragmented frame, use `newframe = frame.copy()`\n",
      "\n",
      "C:\\Users\\Abdi\\AppData\\Local\\Temp\\ipykernel_2528\\4171585614.py:26: PerformanceWarning:\n",
      "\n",
      "DataFrame is highly fragmented.  This is usually the result of calling `frame.insert` many times, which has poor performance.  Consider joining all columns at once using pd.concat(axis=1) instead. To get a de-fragmented frame, use `newframe = frame.copy()`\n",
      "\n",
      "C:\\Users\\Abdi\\AppData\\Local\\Temp\\ipykernel_2528\\4171585614.py:26: PerformanceWarning:\n",
      "\n",
      "DataFrame is highly fragmented.  This is usually the result of calling `frame.insert` many times, which has poor performance.  Consider joining all columns at once using pd.concat(axis=1) instead. To get a de-fragmented frame, use `newframe = frame.copy()`\n",
      "\n",
      "C:\\Users\\Abdi\\AppData\\Local\\Temp\\ipykernel_2528\\4171585614.py:26: PerformanceWarning:\n",
      "\n",
      "DataFrame is highly fragmented.  This is usually the result of calling `frame.insert` many times, which has poor performance.  Consider joining all columns at once using pd.concat(axis=1) instead. To get a de-fragmented frame, use `newframe = frame.copy()`\n",
      "\n",
      "C:\\Users\\Abdi\\AppData\\Local\\Temp\\ipykernel_2528\\4171585614.py:26: PerformanceWarning:\n",
      "\n",
      "DataFrame is highly fragmented.  This is usually the result of calling `frame.insert` many times, which has poor performance.  Consider joining all columns at once using pd.concat(axis=1) instead. To get a de-fragmented frame, use `newframe = frame.copy()`\n",
      "\n",
      "C:\\Users\\Abdi\\AppData\\Local\\Temp\\ipykernel_2528\\4171585614.py:26: PerformanceWarning:\n",
      "\n",
      "DataFrame is highly fragmented.  This is usually the result of calling `frame.insert` many times, which has poor performance.  Consider joining all columns at once using pd.concat(axis=1) instead. To get a de-fragmented frame, use `newframe = frame.copy()`\n",
      "\n",
      "C:\\Users\\Abdi\\AppData\\Local\\Temp\\ipykernel_2528\\4171585614.py:26: PerformanceWarning:\n",
      "\n",
      "DataFrame is highly fragmented.  This is usually the result of calling `frame.insert` many times, which has poor performance.  Consider joining all columns at once using pd.concat(axis=1) instead. To get a de-fragmented frame, use `newframe = frame.copy()`\n",
      "\n",
      "C:\\Users\\Abdi\\AppData\\Local\\Temp\\ipykernel_2528\\4171585614.py:26: PerformanceWarning:\n",
      "\n",
      "DataFrame is highly fragmented.  This is usually the result of calling `frame.insert` many times, which has poor performance.  Consider joining all columns at once using pd.concat(axis=1) instead. To get a de-fragmented frame, use `newframe = frame.copy()`\n",
      "\n",
      "C:\\Users\\Abdi\\AppData\\Local\\Temp\\ipykernel_2528\\4171585614.py:26: PerformanceWarning:\n",
      "\n",
      "DataFrame is highly fragmented.  This is usually the result of calling `frame.insert` many times, which has poor performance.  Consider joining all columns at once using pd.concat(axis=1) instead. To get a de-fragmented frame, use `newframe = frame.copy()`\n",
      "\n",
      "C:\\Users\\Abdi\\AppData\\Local\\Temp\\ipykernel_2528\\4171585614.py:26: PerformanceWarning:\n",
      "\n",
      "DataFrame is highly fragmented.  This is usually the result of calling `frame.insert` many times, which has poor performance.  Consider joining all columns at once using pd.concat(axis=1) instead. To get a de-fragmented frame, use `newframe = frame.copy()`\n",
      "\n",
      "C:\\Users\\Abdi\\AppData\\Local\\Temp\\ipykernel_2528\\4171585614.py:26: PerformanceWarning:\n",
      "\n",
      "DataFrame is highly fragmented.  This is usually the result of calling `frame.insert` many times, which has poor performance.  Consider joining all columns at once using pd.concat(axis=1) instead. To get a de-fragmented frame, use `newframe = frame.copy()`\n",
      "\n",
      "C:\\Users\\Abdi\\AppData\\Local\\Temp\\ipykernel_2528\\4171585614.py:26: PerformanceWarning:\n",
      "\n",
      "DataFrame is highly fragmented.  This is usually the result of calling `frame.insert` many times, which has poor performance.  Consider joining all columns at once using pd.concat(axis=1) instead. To get a de-fragmented frame, use `newframe = frame.copy()`\n",
      "\n",
      "C:\\Users\\Abdi\\AppData\\Local\\Temp\\ipykernel_2528\\4171585614.py:26: PerformanceWarning:\n",
      "\n",
      "DataFrame is highly fragmented.  This is usually the result of calling `frame.insert` many times, which has poor performance.  Consider joining all columns at once using pd.concat(axis=1) instead. To get a de-fragmented frame, use `newframe = frame.copy()`\n",
      "\n",
      "C:\\Users\\Abdi\\AppData\\Local\\Temp\\ipykernel_2528\\4171585614.py:26: PerformanceWarning:\n",
      "\n",
      "DataFrame is highly fragmented.  This is usually the result of calling `frame.insert` many times, which has poor performance.  Consider joining all columns at once using pd.concat(axis=1) instead. To get a de-fragmented frame, use `newframe = frame.copy()`\n",
      "\n",
      "C:\\Users\\Abdi\\AppData\\Local\\Temp\\ipykernel_2528\\4171585614.py:26: PerformanceWarning:\n",
      "\n",
      "DataFrame is highly fragmented.  This is usually the result of calling `frame.insert` many times, which has poor performance.  Consider joining all columns at once using pd.concat(axis=1) instead. To get a de-fragmented frame, use `newframe = frame.copy()`\n",
      "\n",
      "C:\\Users\\Abdi\\AppData\\Local\\Temp\\ipykernel_2528\\4171585614.py:26: PerformanceWarning:\n",
      "\n",
      "DataFrame is highly fragmented.  This is usually the result of calling `frame.insert` many times, which has poor performance.  Consider joining all columns at once using pd.concat(axis=1) instead. To get a de-fragmented frame, use `newframe = frame.copy()`\n",
      "\n",
      "C:\\Users\\Abdi\\AppData\\Local\\Temp\\ipykernel_2528\\4171585614.py:26: PerformanceWarning:\n",
      "\n",
      "DataFrame is highly fragmented.  This is usually the result of calling `frame.insert` many times, which has poor performance.  Consider joining all columns at once using pd.concat(axis=1) instead. To get a de-fragmented frame, use `newframe = frame.copy()`\n",
      "\n",
      "C:\\Users\\Abdi\\AppData\\Local\\Temp\\ipykernel_2528\\4171585614.py:26: PerformanceWarning:\n",
      "\n",
      "DataFrame is highly fragmented.  This is usually the result of calling `frame.insert` many times, which has poor performance.  Consider joining all columns at once using pd.concat(axis=1) instead. To get a de-fragmented frame, use `newframe = frame.copy()`\n",
      "\n",
      "C:\\Users\\Abdi\\AppData\\Local\\Temp\\ipykernel_2528\\4171585614.py:26: PerformanceWarning:\n",
      "\n",
      "DataFrame is highly fragmented.  This is usually the result of calling `frame.insert` many times, which has poor performance.  Consider joining all columns at once using pd.concat(axis=1) instead. To get a de-fragmented frame, use `newframe = frame.copy()`\n",
      "\n",
      "C:\\Users\\Abdi\\AppData\\Local\\Temp\\ipykernel_2528\\4171585614.py:26: PerformanceWarning:\n",
      "\n",
      "DataFrame is highly fragmented.  This is usually the result of calling `frame.insert` many times, which has poor performance.  Consider joining all columns at once using pd.concat(axis=1) instead. To get a de-fragmented frame, use `newframe = frame.copy()`\n",
      "\n",
      "C:\\Users\\Abdi\\AppData\\Local\\Temp\\ipykernel_2528\\4171585614.py:26: PerformanceWarning:\n",
      "\n",
      "DataFrame is highly fragmented.  This is usually the result of calling `frame.insert` many times, which has poor performance.  Consider joining all columns at once using pd.concat(axis=1) instead. To get a de-fragmented frame, use `newframe = frame.copy()`\n",
      "\n",
      "C:\\Users\\Abdi\\AppData\\Local\\Temp\\ipykernel_2528\\4171585614.py:26: PerformanceWarning:\n",
      "\n",
      "DataFrame is highly fragmented.  This is usually the result of calling `frame.insert` many times, which has poor performance.  Consider joining all columns at once using pd.concat(axis=1) instead. To get a de-fragmented frame, use `newframe = frame.copy()`\n",
      "\n",
      "C:\\Users\\Abdi\\AppData\\Local\\Temp\\ipykernel_2528\\4171585614.py:26: PerformanceWarning:\n",
      "\n",
      "DataFrame is highly fragmented.  This is usually the result of calling `frame.insert` many times, which has poor performance.  Consider joining all columns at once using pd.concat(axis=1) instead. To get a de-fragmented frame, use `newframe = frame.copy()`\n",
      "\n",
      "C:\\Users\\Abdi\\AppData\\Local\\Temp\\ipykernel_2528\\4171585614.py:26: PerformanceWarning:\n",
      "\n",
      "DataFrame is highly fragmented.  This is usually the result of calling `frame.insert` many times, which has poor performance.  Consider joining all columns at once using pd.concat(axis=1) instead. To get a de-fragmented frame, use `newframe = frame.copy()`\n",
      "\n",
      "C:\\Users\\Abdi\\AppData\\Local\\Temp\\ipykernel_2528\\4171585614.py:26: PerformanceWarning:\n",
      "\n",
      "DataFrame is highly fragmented.  This is usually the result of calling `frame.insert` many times, which has poor performance.  Consider joining all columns at once using pd.concat(axis=1) instead. To get a de-fragmented frame, use `newframe = frame.copy()`\n",
      "\n",
      "C:\\Users\\Abdi\\AppData\\Local\\Temp\\ipykernel_2528\\4171585614.py:26: PerformanceWarning:\n",
      "\n",
      "DataFrame is highly fragmented.  This is usually the result of calling `frame.insert` many times, which has poor performance.  Consider joining all columns at once using pd.concat(axis=1) instead. To get a de-fragmented frame, use `newframe = frame.copy()`\n",
      "\n",
      "C:\\Users\\Abdi\\AppData\\Local\\Temp\\ipykernel_2528\\4171585614.py:26: PerformanceWarning:\n",
      "\n",
      "DataFrame is highly fragmented.  This is usually the result of calling `frame.insert` many times, which has poor performance.  Consider joining all columns at once using pd.concat(axis=1) instead. To get a de-fragmented frame, use `newframe = frame.copy()`\n",
      "\n",
      "C:\\Users\\Abdi\\AppData\\Local\\Temp\\ipykernel_2528\\4171585614.py:26: PerformanceWarning:\n",
      "\n",
      "DataFrame is highly fragmented.  This is usually the result of calling `frame.insert` many times, which has poor performance.  Consider joining all columns at once using pd.concat(axis=1) instead. To get a de-fragmented frame, use `newframe = frame.copy()`\n",
      "\n",
      "C:\\Users\\Abdi\\AppData\\Local\\Temp\\ipykernel_2528\\4171585614.py:26: PerformanceWarning:\n",
      "\n",
      "DataFrame is highly fragmented.  This is usually the result of calling `frame.insert` many times, which has poor performance.  Consider joining all columns at once using pd.concat(axis=1) instead. To get a de-fragmented frame, use `newframe = frame.copy()`\n",
      "\n",
      "C:\\Users\\Abdi\\AppData\\Local\\Temp\\ipykernel_2528\\4171585614.py:26: PerformanceWarning:\n",
      "\n",
      "DataFrame is highly fragmented.  This is usually the result of calling `frame.insert` many times, which has poor performance.  Consider joining all columns at once using pd.concat(axis=1) instead. To get a de-fragmented frame, use `newframe = frame.copy()`\n",
      "\n",
      "C:\\Users\\Abdi\\AppData\\Local\\Temp\\ipykernel_2528\\4171585614.py:26: PerformanceWarning:\n",
      "\n",
      "DataFrame is highly fragmented.  This is usually the result of calling `frame.insert` many times, which has poor performance.  Consider joining all columns at once using pd.concat(axis=1) instead. To get a de-fragmented frame, use `newframe = frame.copy()`\n",
      "\n",
      "C:\\Users\\Abdi\\AppData\\Local\\Temp\\ipykernel_2528\\4171585614.py:26: PerformanceWarning:\n",
      "\n",
      "DataFrame is highly fragmented.  This is usually the result of calling `frame.insert` many times, which has poor performance.  Consider joining all columns at once using pd.concat(axis=1) instead. To get a de-fragmented frame, use `newframe = frame.copy()`\n",
      "\n",
      "C:\\Users\\Abdi\\AppData\\Local\\Temp\\ipykernel_2528\\4171585614.py:26: PerformanceWarning:\n",
      "\n",
      "DataFrame is highly fragmented.  This is usually the result of calling `frame.insert` many times, which has poor performance.  Consider joining all columns at once using pd.concat(axis=1) instead. To get a de-fragmented frame, use `newframe = frame.copy()`\n",
      "\n",
      "C:\\Users\\Abdi\\AppData\\Local\\Temp\\ipykernel_2528\\4171585614.py:26: PerformanceWarning:\n",
      "\n",
      "DataFrame is highly fragmented.  This is usually the result of calling `frame.insert` many times, which has poor performance.  Consider joining all columns at once using pd.concat(axis=1) instead. To get a de-fragmented frame, use `newframe = frame.copy()`\n",
      "\n",
      "C:\\Users\\Abdi\\AppData\\Local\\Temp\\ipykernel_2528\\4171585614.py:26: PerformanceWarning:\n",
      "\n",
      "DataFrame is highly fragmented.  This is usually the result of calling `frame.insert` many times, which has poor performance.  Consider joining all columns at once using pd.concat(axis=1) instead. To get a de-fragmented frame, use `newframe = frame.copy()`\n",
      "\n",
      "C:\\Users\\Abdi\\AppData\\Local\\Temp\\ipykernel_2528\\4171585614.py:26: PerformanceWarning:\n",
      "\n",
      "DataFrame is highly fragmented.  This is usually the result of calling `frame.insert` many times, which has poor performance.  Consider joining all columns at once using pd.concat(axis=1) instead. To get a de-fragmented frame, use `newframe = frame.copy()`\n",
      "\n",
      "C:\\Users\\Abdi\\AppData\\Local\\Temp\\ipykernel_2528\\4171585614.py:26: PerformanceWarning:\n",
      "\n",
      "DataFrame is highly fragmented.  This is usually the result of calling `frame.insert` many times, which has poor performance.  Consider joining all columns at once using pd.concat(axis=1) instead. To get a de-fragmented frame, use `newframe = frame.copy()`\n",
      "\n",
      "C:\\Users\\Abdi\\AppData\\Local\\Temp\\ipykernel_2528\\4171585614.py:26: PerformanceWarning:\n",
      "\n",
      "DataFrame is highly fragmented.  This is usually the result of calling `frame.insert` many times, which has poor performance.  Consider joining all columns at once using pd.concat(axis=1) instead. To get a de-fragmented frame, use `newframe = frame.copy()`\n",
      "\n",
      "C:\\Users\\Abdi\\AppData\\Local\\Temp\\ipykernel_2528\\4171585614.py:26: PerformanceWarning:\n",
      "\n",
      "DataFrame is highly fragmented.  This is usually the result of calling `frame.insert` many times, which has poor performance.  Consider joining all columns at once using pd.concat(axis=1) instead. To get a de-fragmented frame, use `newframe = frame.copy()`\n",
      "\n",
      "C:\\Users\\Abdi\\AppData\\Local\\Temp\\ipykernel_2528\\4171585614.py:26: PerformanceWarning:\n",
      "\n",
      "DataFrame is highly fragmented.  This is usually the result of calling `frame.insert` many times, which has poor performance.  Consider joining all columns at once using pd.concat(axis=1) instead. To get a de-fragmented frame, use `newframe = frame.copy()`\n",
      "\n",
      "C:\\Users\\Abdi\\AppData\\Local\\Temp\\ipykernel_2528\\4171585614.py:26: PerformanceWarning:\n",
      "\n",
      "DataFrame is highly fragmented.  This is usually the result of calling `frame.insert` many times, which has poor performance.  Consider joining all columns at once using pd.concat(axis=1) instead. To get a de-fragmented frame, use `newframe = frame.copy()`\n",
      "\n",
      "C:\\Users\\Abdi\\AppData\\Local\\Temp\\ipykernel_2528\\4171585614.py:26: PerformanceWarning:\n",
      "\n",
      "DataFrame is highly fragmented.  This is usually the result of calling `frame.insert` many times, which has poor performance.  Consider joining all columns at once using pd.concat(axis=1) instead. To get a de-fragmented frame, use `newframe = frame.copy()`\n",
      "\n",
      "C:\\Users\\Abdi\\AppData\\Local\\Temp\\ipykernel_2528\\4171585614.py:26: PerformanceWarning:\n",
      "\n",
      "DataFrame is highly fragmented.  This is usually the result of calling `frame.insert` many times, which has poor performance.  Consider joining all columns at once using pd.concat(axis=1) instead. To get a de-fragmented frame, use `newframe = frame.copy()`\n",
      "\n",
      "C:\\Users\\Abdi\\AppData\\Local\\Temp\\ipykernel_2528\\4171585614.py:26: PerformanceWarning:\n",
      "\n",
      "DataFrame is highly fragmented.  This is usually the result of calling `frame.insert` many times, which has poor performance.  Consider joining all columns at once using pd.concat(axis=1) instead. To get a de-fragmented frame, use `newframe = frame.copy()`\n",
      "\n",
      "C:\\Users\\Abdi\\AppData\\Local\\Temp\\ipykernel_2528\\4171585614.py:26: PerformanceWarning:\n",
      "\n",
      "DataFrame is highly fragmented.  This is usually the result of calling `frame.insert` many times, which has poor performance.  Consider joining all columns at once using pd.concat(axis=1) instead. To get a de-fragmented frame, use `newframe = frame.copy()`\n",
      "\n",
      "C:\\Users\\Abdi\\AppData\\Local\\Temp\\ipykernel_2528\\4171585614.py:26: PerformanceWarning:\n",
      "\n",
      "DataFrame is highly fragmented.  This is usually the result of calling `frame.insert` many times, which has poor performance.  Consider joining all columns at once using pd.concat(axis=1) instead. To get a de-fragmented frame, use `newframe = frame.copy()`\n",
      "\n",
      "C:\\Users\\Abdi\\AppData\\Local\\Temp\\ipykernel_2528\\4171585614.py:26: PerformanceWarning:\n",
      "\n",
      "DataFrame is highly fragmented.  This is usually the result of calling `frame.insert` many times, which has poor performance.  Consider joining all columns at once using pd.concat(axis=1) instead. To get a de-fragmented frame, use `newframe = frame.copy()`\n",
      "\n",
      "C:\\Users\\Abdi\\AppData\\Local\\Temp\\ipykernel_2528\\4171585614.py:26: PerformanceWarning:\n",
      "\n",
      "DataFrame is highly fragmented.  This is usually the result of calling `frame.insert` many times, which has poor performance.  Consider joining all columns at once using pd.concat(axis=1) instead. To get a de-fragmented frame, use `newframe = frame.copy()`\n",
      "\n",
      "C:\\Users\\Abdi\\AppData\\Local\\Temp\\ipykernel_2528\\4171585614.py:26: PerformanceWarning:\n",
      "\n",
      "DataFrame is highly fragmented.  This is usually the result of calling `frame.insert` many times, which has poor performance.  Consider joining all columns at once using pd.concat(axis=1) instead. To get a de-fragmented frame, use `newframe = frame.copy()`\n",
      "\n",
      "C:\\Users\\Abdi\\AppData\\Local\\Temp\\ipykernel_2528\\4171585614.py:26: PerformanceWarning:\n",
      "\n",
      "DataFrame is highly fragmented.  This is usually the result of calling `frame.insert` many times, which has poor performance.  Consider joining all columns at once using pd.concat(axis=1) instead. To get a de-fragmented frame, use `newframe = frame.copy()`\n",
      "\n",
      "C:\\Users\\Abdi\\AppData\\Local\\Temp\\ipykernel_2528\\4171585614.py:26: PerformanceWarning:\n",
      "\n",
      "DataFrame is highly fragmented.  This is usually the result of calling `frame.insert` many times, which has poor performance.  Consider joining all columns at once using pd.concat(axis=1) instead. To get a de-fragmented frame, use `newframe = frame.copy()`\n",
      "\n",
      "C:\\Users\\Abdi\\AppData\\Local\\Temp\\ipykernel_2528\\4171585614.py:26: PerformanceWarning:\n",
      "\n",
      "DataFrame is highly fragmented.  This is usually the result of calling `frame.insert` many times, which has poor performance.  Consider joining all columns at once using pd.concat(axis=1) instead. To get a de-fragmented frame, use `newframe = frame.copy()`\n",
      "\n",
      "C:\\Users\\Abdi\\AppData\\Local\\Temp\\ipykernel_2528\\4171585614.py:26: PerformanceWarning:\n",
      "\n",
      "DataFrame is highly fragmented.  This is usually the result of calling `frame.insert` many times, which has poor performance.  Consider joining all columns at once using pd.concat(axis=1) instead. To get a de-fragmented frame, use `newframe = frame.copy()`\n",
      "\n",
      "C:\\Users\\Abdi\\AppData\\Local\\Temp\\ipykernel_2528\\4171585614.py:26: PerformanceWarning:\n",
      "\n",
      "DataFrame is highly fragmented.  This is usually the result of calling `frame.insert` many times, which has poor performance.  Consider joining all columns at once using pd.concat(axis=1) instead. To get a de-fragmented frame, use `newframe = frame.copy()`\n",
      "\n",
      "C:\\Users\\Abdi\\AppData\\Local\\Temp\\ipykernel_2528\\4171585614.py:26: PerformanceWarning:\n",
      "\n",
      "DataFrame is highly fragmented.  This is usually the result of calling `frame.insert` many times, which has poor performance.  Consider joining all columns at once using pd.concat(axis=1) instead. To get a de-fragmented frame, use `newframe = frame.copy()`\n",
      "\n",
      "C:\\Users\\Abdi\\AppData\\Local\\Temp\\ipykernel_2528\\4171585614.py:26: PerformanceWarning:\n",
      "\n",
      "DataFrame is highly fragmented.  This is usually the result of calling `frame.insert` many times, which has poor performance.  Consider joining all columns at once using pd.concat(axis=1) instead. To get a de-fragmented frame, use `newframe = frame.copy()`\n",
      "\n",
      "C:\\Users\\Abdi\\AppData\\Local\\Temp\\ipykernel_2528\\4171585614.py:26: PerformanceWarning:\n",
      "\n",
      "DataFrame is highly fragmented.  This is usually the result of calling `frame.insert` many times, which has poor performance.  Consider joining all columns at once using pd.concat(axis=1) instead. To get a de-fragmented frame, use `newframe = frame.copy()`\n",
      "\n",
      "C:\\Users\\Abdi\\AppData\\Local\\Temp\\ipykernel_2528\\4171585614.py:26: PerformanceWarning:\n",
      "\n",
      "DataFrame is highly fragmented.  This is usually the result of calling `frame.insert` many times, which has poor performance.  Consider joining all columns at once using pd.concat(axis=1) instead. To get a de-fragmented frame, use `newframe = frame.copy()`\n",
      "\n",
      "C:\\Users\\Abdi\\AppData\\Local\\Temp\\ipykernel_2528\\4171585614.py:26: PerformanceWarning:\n",
      "\n",
      "DataFrame is highly fragmented.  This is usually the result of calling `frame.insert` many times, which has poor performance.  Consider joining all columns at once using pd.concat(axis=1) instead. To get a de-fragmented frame, use `newframe = frame.copy()`\n",
      "\n",
      "C:\\Users\\Abdi\\AppData\\Local\\Temp\\ipykernel_2528\\4171585614.py:26: PerformanceWarning:\n",
      "\n",
      "DataFrame is highly fragmented.  This is usually the result of calling `frame.insert` many times, which has poor performance.  Consider joining all columns at once using pd.concat(axis=1) instead. To get a de-fragmented frame, use `newframe = frame.copy()`\n",
      "\n",
      "C:\\Users\\Abdi\\AppData\\Local\\Temp\\ipykernel_2528\\4171585614.py:26: PerformanceWarning:\n",
      "\n",
      "DataFrame is highly fragmented.  This is usually the result of calling `frame.insert` many times, which has poor performance.  Consider joining all columns at once using pd.concat(axis=1) instead. To get a de-fragmented frame, use `newframe = frame.copy()`\n",
      "\n",
      "C:\\Users\\Abdi\\AppData\\Local\\Temp\\ipykernel_2528\\4171585614.py:26: PerformanceWarning:\n",
      "\n",
      "DataFrame is highly fragmented.  This is usually the result of calling `frame.insert` many times, which has poor performance.  Consider joining all columns at once using pd.concat(axis=1) instead. To get a de-fragmented frame, use `newframe = frame.copy()`\n",
      "\n",
      "C:\\Users\\Abdi\\AppData\\Local\\Temp\\ipykernel_2528\\4171585614.py:26: PerformanceWarning:\n",
      "\n",
      "DataFrame is highly fragmented.  This is usually the result of calling `frame.insert` many times, which has poor performance.  Consider joining all columns at once using pd.concat(axis=1) instead. To get a de-fragmented frame, use `newframe = frame.copy()`\n",
      "\n",
      "C:\\Users\\Abdi\\AppData\\Local\\Temp\\ipykernel_2528\\4171585614.py:26: PerformanceWarning:\n",
      "\n",
      "DataFrame is highly fragmented.  This is usually the result of calling `frame.insert` many times, which has poor performance.  Consider joining all columns at once using pd.concat(axis=1) instead. To get a de-fragmented frame, use `newframe = frame.copy()`\n",
      "\n",
      "C:\\Users\\Abdi\\AppData\\Local\\Temp\\ipykernel_2528\\4171585614.py:26: PerformanceWarning:\n",
      "\n",
      "DataFrame is highly fragmented.  This is usually the result of calling `frame.insert` many times, which has poor performance.  Consider joining all columns at once using pd.concat(axis=1) instead. To get a de-fragmented frame, use `newframe = frame.copy()`\n",
      "\n",
      "C:\\Users\\Abdi\\AppData\\Local\\Temp\\ipykernel_2528\\4171585614.py:26: PerformanceWarning:\n",
      "\n",
      "DataFrame is highly fragmented.  This is usually the result of calling `frame.insert` many times, which has poor performance.  Consider joining all columns at once using pd.concat(axis=1) instead. To get a de-fragmented frame, use `newframe = frame.copy()`\n",
      "\n",
      "C:\\Users\\Abdi\\AppData\\Local\\Temp\\ipykernel_2528\\4171585614.py:26: PerformanceWarning:\n",
      "\n",
      "DataFrame is highly fragmented.  This is usually the result of calling `frame.insert` many times, which has poor performance.  Consider joining all columns at once using pd.concat(axis=1) instead. To get a de-fragmented frame, use `newframe = frame.copy()`\n",
      "\n",
      "C:\\Users\\Abdi\\AppData\\Local\\Temp\\ipykernel_2528\\4171585614.py:26: PerformanceWarning:\n",
      "\n",
      "DataFrame is highly fragmented.  This is usually the result of calling `frame.insert` many times, which has poor performance.  Consider joining all columns at once using pd.concat(axis=1) instead. To get a de-fragmented frame, use `newframe = frame.copy()`\n",
      "\n",
      "C:\\Users\\Abdi\\AppData\\Local\\Temp\\ipykernel_2528\\4171585614.py:26: PerformanceWarning:\n",
      "\n",
      "DataFrame is highly fragmented.  This is usually the result of calling `frame.insert` many times, which has poor performance.  Consider joining all columns at once using pd.concat(axis=1) instead. To get a de-fragmented frame, use `newframe = frame.copy()`\n",
      "\n",
      "C:\\Users\\Abdi\\AppData\\Local\\Temp\\ipykernel_2528\\4171585614.py:26: PerformanceWarning:\n",
      "\n",
      "DataFrame is highly fragmented.  This is usually the result of calling `frame.insert` many times, which has poor performance.  Consider joining all columns at once using pd.concat(axis=1) instead. To get a de-fragmented frame, use `newframe = frame.copy()`\n",
      "\n",
      "C:\\Users\\Abdi\\AppData\\Local\\Temp\\ipykernel_2528\\4171585614.py:26: PerformanceWarning:\n",
      "\n",
      "DataFrame is highly fragmented.  This is usually the result of calling `frame.insert` many times, which has poor performance.  Consider joining all columns at once using pd.concat(axis=1) instead. To get a de-fragmented frame, use `newframe = frame.copy()`\n",
      "\n",
      "C:\\Users\\Abdi\\AppData\\Local\\Temp\\ipykernel_2528\\4171585614.py:26: PerformanceWarning:\n",
      "\n",
      "DataFrame is highly fragmented.  This is usually the result of calling `frame.insert` many times, which has poor performance.  Consider joining all columns at once using pd.concat(axis=1) instead. To get a de-fragmented frame, use `newframe = frame.copy()`\n",
      "\n",
      "C:\\Users\\Abdi\\AppData\\Local\\Temp\\ipykernel_2528\\4171585614.py:26: PerformanceWarning:\n",
      "\n",
      "DataFrame is highly fragmented.  This is usually the result of calling `frame.insert` many times, which has poor performance.  Consider joining all columns at once using pd.concat(axis=1) instead. To get a de-fragmented frame, use `newframe = frame.copy()`\n",
      "\n",
      "C:\\Users\\Abdi\\AppData\\Local\\Temp\\ipykernel_2528\\4171585614.py:26: PerformanceWarning:\n",
      "\n",
      "DataFrame is highly fragmented.  This is usually the result of calling `frame.insert` many times, which has poor performance.  Consider joining all columns at once using pd.concat(axis=1) instead. To get a de-fragmented frame, use `newframe = frame.copy()`\n",
      "\n",
      "C:\\Users\\Abdi\\AppData\\Local\\Temp\\ipykernel_2528\\4171585614.py:26: PerformanceWarning:\n",
      "\n",
      "DataFrame is highly fragmented.  This is usually the result of calling `frame.insert` many times, which has poor performance.  Consider joining all columns at once using pd.concat(axis=1) instead. To get a de-fragmented frame, use `newframe = frame.copy()`\n",
      "\n",
      "C:\\Users\\Abdi\\AppData\\Local\\Temp\\ipykernel_2528\\4171585614.py:26: PerformanceWarning:\n",
      "\n",
      "DataFrame is highly fragmented.  This is usually the result of calling `frame.insert` many times, which has poor performance.  Consider joining all columns at once using pd.concat(axis=1) instead. To get a de-fragmented frame, use `newframe = frame.copy()`\n",
      "\n",
      "C:\\Users\\Abdi\\AppData\\Local\\Temp\\ipykernel_2528\\4171585614.py:26: PerformanceWarning:\n",
      "\n",
      "DataFrame is highly fragmented.  This is usually the result of calling `frame.insert` many times, which has poor performance.  Consider joining all columns at once using pd.concat(axis=1) instead. To get a de-fragmented frame, use `newframe = frame.copy()`\n",
      "\n",
      "C:\\Users\\Abdi\\AppData\\Local\\Temp\\ipykernel_2528\\4171585614.py:26: PerformanceWarning:\n",
      "\n",
      "DataFrame is highly fragmented.  This is usually the result of calling `frame.insert` many times, which has poor performance.  Consider joining all columns at once using pd.concat(axis=1) instead. To get a de-fragmented frame, use `newframe = frame.copy()`\n",
      "\n",
      "C:\\Users\\Abdi\\AppData\\Local\\Temp\\ipykernel_2528\\4171585614.py:26: PerformanceWarning:\n",
      "\n",
      "DataFrame is highly fragmented.  This is usually the result of calling `frame.insert` many times, which has poor performance.  Consider joining all columns at once using pd.concat(axis=1) instead. To get a de-fragmented frame, use `newframe = frame.copy()`\n",
      "\n",
      "C:\\Users\\Abdi\\AppData\\Local\\Temp\\ipykernel_2528\\4171585614.py:26: PerformanceWarning:\n",
      "\n",
      "DataFrame is highly fragmented.  This is usually the result of calling `frame.insert` many times, which has poor performance.  Consider joining all columns at once using pd.concat(axis=1) instead. To get a de-fragmented frame, use `newframe = frame.copy()`\n",
      "\n",
      "C:\\Users\\Abdi\\AppData\\Local\\Temp\\ipykernel_2528\\4171585614.py:26: PerformanceWarning:\n",
      "\n",
      "DataFrame is highly fragmented.  This is usually the result of calling `frame.insert` many times, which has poor performance.  Consider joining all columns at once using pd.concat(axis=1) instead. To get a de-fragmented frame, use `newframe = frame.copy()`\n",
      "\n",
      "C:\\Users\\Abdi\\AppData\\Local\\Temp\\ipykernel_2528\\4171585614.py:26: PerformanceWarning:\n",
      "\n",
      "DataFrame is highly fragmented.  This is usually the result of calling `frame.insert` many times, which has poor performance.  Consider joining all columns at once using pd.concat(axis=1) instead. To get a de-fragmented frame, use `newframe = frame.copy()`\n",
      "\n",
      "C:\\Users\\Abdi\\AppData\\Local\\Temp\\ipykernel_2528\\4171585614.py:26: PerformanceWarning:\n",
      "\n",
      "DataFrame is highly fragmented.  This is usually the result of calling `frame.insert` many times, which has poor performance.  Consider joining all columns at once using pd.concat(axis=1) instead. To get a de-fragmented frame, use `newframe = frame.copy()`\n",
      "\n",
      "C:\\Users\\Abdi\\AppData\\Local\\Temp\\ipykernel_2528\\4171585614.py:26: PerformanceWarning:\n",
      "\n",
      "DataFrame is highly fragmented.  This is usually the result of calling `frame.insert` many times, which has poor performance.  Consider joining all columns at once using pd.concat(axis=1) instead. To get a de-fragmented frame, use `newframe = frame.copy()`\n",
      "\n",
      "C:\\Users\\Abdi\\AppData\\Local\\Temp\\ipykernel_2528\\4171585614.py:26: PerformanceWarning:\n",
      "\n",
      "DataFrame is highly fragmented.  This is usually the result of calling `frame.insert` many times, which has poor performance.  Consider joining all columns at once using pd.concat(axis=1) instead. To get a de-fragmented frame, use `newframe = frame.copy()`\n",
      "\n",
      "C:\\Users\\Abdi\\AppData\\Local\\Temp\\ipykernel_2528\\4171585614.py:26: PerformanceWarning:\n",
      "\n",
      "DataFrame is highly fragmented.  This is usually the result of calling `frame.insert` many times, which has poor performance.  Consider joining all columns at once using pd.concat(axis=1) instead. To get a de-fragmented frame, use `newframe = frame.copy()`\n",
      "\n",
      "C:\\Users\\Abdi\\AppData\\Local\\Temp\\ipykernel_2528\\4171585614.py:26: PerformanceWarning:\n",
      "\n",
      "DataFrame is highly fragmented.  This is usually the result of calling `frame.insert` many times, which has poor performance.  Consider joining all columns at once using pd.concat(axis=1) instead. To get a de-fragmented frame, use `newframe = frame.copy()`\n",
      "\n",
      "C:\\Users\\Abdi\\AppData\\Local\\Temp\\ipykernel_2528\\4171585614.py:26: PerformanceWarning:\n",
      "\n",
      "DataFrame is highly fragmented.  This is usually the result of calling `frame.insert` many times, which has poor performance.  Consider joining all columns at once using pd.concat(axis=1) instead. To get a de-fragmented frame, use `newframe = frame.copy()`\n",
      "\n",
      "C:\\Users\\Abdi\\AppData\\Local\\Temp\\ipykernel_2528\\4171585614.py:26: PerformanceWarning:\n",
      "\n",
      "DataFrame is highly fragmented.  This is usually the result of calling `frame.insert` many times, which has poor performance.  Consider joining all columns at once using pd.concat(axis=1) instead. To get a de-fragmented frame, use `newframe = frame.copy()`\n",
      "\n",
      "C:\\Users\\Abdi\\AppData\\Local\\Temp\\ipykernel_2528\\4171585614.py:26: PerformanceWarning:\n",
      "\n",
      "DataFrame is highly fragmented.  This is usually the result of calling `frame.insert` many times, which has poor performance.  Consider joining all columns at once using pd.concat(axis=1) instead. To get a de-fragmented frame, use `newframe = frame.copy()`\n",
      "\n",
      "C:\\Users\\Abdi\\AppData\\Local\\Temp\\ipykernel_2528\\4171585614.py:26: PerformanceWarning:\n",
      "\n",
      "DataFrame is highly fragmented.  This is usually the result of calling `frame.insert` many times, which has poor performance.  Consider joining all columns at once using pd.concat(axis=1) instead. To get a de-fragmented frame, use `newframe = frame.copy()`\n",
      "\n",
      "C:\\Users\\Abdi\\AppData\\Local\\Temp\\ipykernel_2528\\4171585614.py:26: PerformanceWarning:\n",
      "\n",
      "DataFrame is highly fragmented.  This is usually the result of calling `frame.insert` many times, which has poor performance.  Consider joining all columns at once using pd.concat(axis=1) instead. To get a de-fragmented frame, use `newframe = frame.copy()`\n",
      "\n",
      "C:\\Users\\Abdi\\AppData\\Local\\Temp\\ipykernel_2528\\4171585614.py:26: PerformanceWarning:\n",
      "\n",
      "DataFrame is highly fragmented.  This is usually the result of calling `frame.insert` many times, which has poor performance.  Consider joining all columns at once using pd.concat(axis=1) instead. To get a de-fragmented frame, use `newframe = frame.copy()`\n",
      "\n",
      "C:\\Users\\Abdi\\AppData\\Local\\Temp\\ipykernel_2528\\4171585614.py:26: PerformanceWarning:\n",
      "\n",
      "DataFrame is highly fragmented.  This is usually the result of calling `frame.insert` many times, which has poor performance.  Consider joining all columns at once using pd.concat(axis=1) instead. To get a de-fragmented frame, use `newframe = frame.copy()`\n",
      "\n",
      "C:\\Users\\Abdi\\AppData\\Local\\Temp\\ipykernel_2528\\4171585614.py:26: PerformanceWarning:\n",
      "\n",
      "DataFrame is highly fragmented.  This is usually the result of calling `frame.insert` many times, which has poor performance.  Consider joining all columns at once using pd.concat(axis=1) instead. To get a de-fragmented frame, use `newframe = frame.copy()`\n",
      "\n",
      "C:\\Users\\Abdi\\AppData\\Local\\Temp\\ipykernel_2528\\4171585614.py:26: PerformanceWarning:\n",
      "\n",
      "DataFrame is highly fragmented.  This is usually the result of calling `frame.insert` many times, which has poor performance.  Consider joining all columns at once using pd.concat(axis=1) instead. To get a de-fragmented frame, use `newframe = frame.copy()`\n",
      "\n",
      "C:\\Users\\Abdi\\AppData\\Local\\Temp\\ipykernel_2528\\4171585614.py:26: PerformanceWarning:\n",
      "\n",
      "DataFrame is highly fragmented.  This is usually the result of calling `frame.insert` many times, which has poor performance.  Consider joining all columns at once using pd.concat(axis=1) instead. To get a de-fragmented frame, use `newframe = frame.copy()`\n",
      "\n",
      "C:\\Users\\Abdi\\AppData\\Local\\Temp\\ipykernel_2528\\4171585614.py:26: PerformanceWarning:\n",
      "\n",
      "DataFrame is highly fragmented.  This is usually the result of calling `frame.insert` many times, which has poor performance.  Consider joining all columns at once using pd.concat(axis=1) instead. To get a de-fragmented frame, use `newframe = frame.copy()`\n",
      "\n",
      "C:\\Users\\Abdi\\AppData\\Local\\Temp\\ipykernel_2528\\4171585614.py:26: PerformanceWarning:\n",
      "\n",
      "DataFrame is highly fragmented.  This is usually the result of calling `frame.insert` many times, which has poor performance.  Consider joining all columns at once using pd.concat(axis=1) instead. To get a de-fragmented frame, use `newframe = frame.copy()`\n",
      "\n",
      "C:\\Users\\Abdi\\AppData\\Local\\Temp\\ipykernel_2528\\4171585614.py:26: PerformanceWarning:\n",
      "\n",
      "DataFrame is highly fragmented.  This is usually the result of calling `frame.insert` many times, which has poor performance.  Consider joining all columns at once using pd.concat(axis=1) instead. To get a de-fragmented frame, use `newframe = frame.copy()`\n",
      "\n",
      "C:\\Users\\Abdi\\AppData\\Local\\Temp\\ipykernel_2528\\4171585614.py:26: PerformanceWarning:\n",
      "\n",
      "DataFrame is highly fragmented.  This is usually the result of calling `frame.insert` many times, which has poor performance.  Consider joining all columns at once using pd.concat(axis=1) instead. To get a de-fragmented frame, use `newframe = frame.copy()`\n",
      "\n",
      "C:\\Users\\Abdi\\AppData\\Local\\Temp\\ipykernel_2528\\4171585614.py:26: PerformanceWarning:\n",
      "\n",
      "DataFrame is highly fragmented.  This is usually the result of calling `frame.insert` many times, which has poor performance.  Consider joining all columns at once using pd.concat(axis=1) instead. To get a de-fragmented frame, use `newframe = frame.copy()`\n",
      "\n",
      "C:\\Users\\Abdi\\AppData\\Local\\Temp\\ipykernel_2528\\4171585614.py:26: PerformanceWarning:\n",
      "\n",
      "DataFrame is highly fragmented.  This is usually the result of calling `frame.insert` many times, which has poor performance.  Consider joining all columns at once using pd.concat(axis=1) instead. To get a de-fragmented frame, use `newframe = frame.copy()`\n",
      "\n",
      "C:\\Users\\Abdi\\AppData\\Local\\Temp\\ipykernel_2528\\4171585614.py:26: PerformanceWarning:\n",
      "\n",
      "DataFrame is highly fragmented.  This is usually the result of calling `frame.insert` many times, which has poor performance.  Consider joining all columns at once using pd.concat(axis=1) instead. To get a de-fragmented frame, use `newframe = frame.copy()`\n",
      "\n",
      "C:\\Users\\Abdi\\AppData\\Local\\Temp\\ipykernel_2528\\4171585614.py:26: PerformanceWarning:\n",
      "\n",
      "DataFrame is highly fragmented.  This is usually the result of calling `frame.insert` many times, which has poor performance.  Consider joining all columns at once using pd.concat(axis=1) instead. To get a de-fragmented frame, use `newframe = frame.copy()`\n",
      "\n",
      "C:\\Users\\Abdi\\AppData\\Local\\Temp\\ipykernel_2528\\4171585614.py:26: PerformanceWarning:\n",
      "\n",
      "DataFrame is highly fragmented.  This is usually the result of calling `frame.insert` many times, which has poor performance.  Consider joining all columns at once using pd.concat(axis=1) instead. To get a de-fragmented frame, use `newframe = frame.copy()`\n",
      "\n",
      "C:\\Users\\Abdi\\AppData\\Local\\Temp\\ipykernel_2528\\4171585614.py:26: PerformanceWarning:\n",
      "\n",
      "DataFrame is highly fragmented.  This is usually the result of calling `frame.insert` many times, which has poor performance.  Consider joining all columns at once using pd.concat(axis=1) instead. To get a de-fragmented frame, use `newframe = frame.copy()`\n",
      "\n",
      "C:\\Users\\Abdi\\AppData\\Local\\Temp\\ipykernel_2528\\4171585614.py:26: PerformanceWarning:\n",
      "\n",
      "DataFrame is highly fragmented.  This is usually the result of calling `frame.insert` many times, which has poor performance.  Consider joining all columns at once using pd.concat(axis=1) instead. To get a de-fragmented frame, use `newframe = frame.copy()`\n",
      "\n",
      "C:\\Users\\Abdi\\AppData\\Local\\Temp\\ipykernel_2528\\4171585614.py:26: PerformanceWarning:\n",
      "\n",
      "DataFrame is highly fragmented.  This is usually the result of calling `frame.insert` many times, which has poor performance.  Consider joining all columns at once using pd.concat(axis=1) instead. To get a de-fragmented frame, use `newframe = frame.copy()`\n",
      "\n",
      "C:\\Users\\Abdi\\AppData\\Local\\Temp\\ipykernel_2528\\4171585614.py:26: PerformanceWarning:\n",
      "\n",
      "DataFrame is highly fragmented.  This is usually the result of calling `frame.insert` many times, which has poor performance.  Consider joining all columns at once using pd.concat(axis=1) instead. To get a de-fragmented frame, use `newframe = frame.copy()`\n",
      "\n",
      "C:\\Users\\Abdi\\AppData\\Local\\Temp\\ipykernel_2528\\4171585614.py:26: PerformanceWarning:\n",
      "\n",
      "DataFrame is highly fragmented.  This is usually the result of calling `frame.insert` many times, which has poor performance.  Consider joining all columns at once using pd.concat(axis=1) instead. To get a de-fragmented frame, use `newframe = frame.copy()`\n",
      "\n",
      "C:\\Users\\Abdi\\AppData\\Local\\Temp\\ipykernel_2528\\4171585614.py:26: PerformanceWarning:\n",
      "\n",
      "DataFrame is highly fragmented.  This is usually the result of calling `frame.insert` many times, which has poor performance.  Consider joining all columns at once using pd.concat(axis=1) instead. To get a de-fragmented frame, use `newframe = frame.copy()`\n",
      "\n",
      "C:\\Users\\Abdi\\AppData\\Local\\Temp\\ipykernel_2528\\4171585614.py:26: PerformanceWarning:\n",
      "\n",
      "DataFrame is highly fragmented.  This is usually the result of calling `frame.insert` many times, which has poor performance.  Consider joining all columns at once using pd.concat(axis=1) instead. To get a de-fragmented frame, use `newframe = frame.copy()`\n",
      "\n",
      "C:\\Users\\Abdi\\AppData\\Local\\Temp\\ipykernel_2528\\4171585614.py:26: PerformanceWarning:\n",
      "\n",
      "DataFrame is highly fragmented.  This is usually the result of calling `frame.insert` many times, which has poor performance.  Consider joining all columns at once using pd.concat(axis=1) instead. To get a de-fragmented frame, use `newframe = frame.copy()`\n",
      "\n",
      "C:\\Users\\Abdi\\AppData\\Local\\Temp\\ipykernel_2528\\4171585614.py:26: PerformanceWarning:\n",
      "\n",
      "DataFrame is highly fragmented.  This is usually the result of calling `frame.insert` many times, which has poor performance.  Consider joining all columns at once using pd.concat(axis=1) instead. To get a de-fragmented frame, use `newframe = frame.copy()`\n",
      "\n",
      "C:\\Users\\Abdi\\AppData\\Local\\Temp\\ipykernel_2528\\4171585614.py:26: PerformanceWarning:\n",
      "\n",
      "DataFrame is highly fragmented.  This is usually the result of calling `frame.insert` many times, which has poor performance.  Consider joining all columns at once using pd.concat(axis=1) instead. To get a de-fragmented frame, use `newframe = frame.copy()`\n",
      "\n",
      "C:\\Users\\Abdi\\AppData\\Local\\Temp\\ipykernel_2528\\4171585614.py:26: PerformanceWarning:\n",
      "\n",
      "DataFrame is highly fragmented.  This is usually the result of calling `frame.insert` many times, which has poor performance.  Consider joining all columns at once using pd.concat(axis=1) instead. To get a de-fragmented frame, use `newframe = frame.copy()`\n",
      "\n",
      "C:\\Users\\Abdi\\AppData\\Local\\Temp\\ipykernel_2528\\4171585614.py:26: PerformanceWarning:\n",
      "\n",
      "DataFrame is highly fragmented.  This is usually the result of calling `frame.insert` many times, which has poor performance.  Consider joining all columns at once using pd.concat(axis=1) instead. To get a de-fragmented frame, use `newframe = frame.copy()`\n",
      "\n",
      "C:\\Users\\Abdi\\AppData\\Local\\Temp\\ipykernel_2528\\4171585614.py:26: PerformanceWarning:\n",
      "\n",
      "DataFrame is highly fragmented.  This is usually the result of calling `frame.insert` many times, which has poor performance.  Consider joining all columns at once using pd.concat(axis=1) instead. To get a de-fragmented frame, use `newframe = frame.copy()`\n",
      "\n",
      "C:\\Users\\Abdi\\AppData\\Local\\Temp\\ipykernel_2528\\4171585614.py:26: PerformanceWarning:\n",
      "\n",
      "DataFrame is highly fragmented.  This is usually the result of calling `frame.insert` many times, which has poor performance.  Consider joining all columns at once using pd.concat(axis=1) instead. To get a de-fragmented frame, use `newframe = frame.copy()`\n",
      "\n",
      "C:\\Users\\Abdi\\AppData\\Local\\Temp\\ipykernel_2528\\4171585614.py:26: PerformanceWarning:\n",
      "\n",
      "DataFrame is highly fragmented.  This is usually the result of calling `frame.insert` many times, which has poor performance.  Consider joining all columns at once using pd.concat(axis=1) instead. To get a de-fragmented frame, use `newframe = frame.copy()`\n",
      "\n",
      "C:\\Users\\Abdi\\AppData\\Local\\Temp\\ipykernel_2528\\4171585614.py:26: PerformanceWarning:\n",
      "\n",
      "DataFrame is highly fragmented.  This is usually the result of calling `frame.insert` many times, which has poor performance.  Consider joining all columns at once using pd.concat(axis=1) instead. To get a de-fragmented frame, use `newframe = frame.copy()`\n",
      "\n",
      "C:\\Users\\Abdi\\AppData\\Local\\Temp\\ipykernel_2528\\4171585614.py:26: PerformanceWarning:\n",
      "\n",
      "DataFrame is highly fragmented.  This is usually the result of calling `frame.insert` many times, which has poor performance.  Consider joining all columns at once using pd.concat(axis=1) instead. To get a de-fragmented frame, use `newframe = frame.copy()`\n",
      "\n",
      "C:\\Users\\Abdi\\AppData\\Local\\Temp\\ipykernel_2528\\4171585614.py:26: PerformanceWarning:\n",
      "\n",
      "DataFrame is highly fragmented.  This is usually the result of calling `frame.insert` many times, which has poor performance.  Consider joining all columns at once using pd.concat(axis=1) instead. To get a de-fragmented frame, use `newframe = frame.copy()`\n",
      "\n",
      "C:\\Users\\Abdi\\AppData\\Local\\Temp\\ipykernel_2528\\4171585614.py:26: PerformanceWarning:\n",
      "\n",
      "DataFrame is highly fragmented.  This is usually the result of calling `frame.insert` many times, which has poor performance.  Consider joining all columns at once using pd.concat(axis=1) instead. To get a de-fragmented frame, use `newframe = frame.copy()`\n",
      "\n",
      "C:\\Users\\Abdi\\AppData\\Local\\Temp\\ipykernel_2528\\4171585614.py:26: PerformanceWarning:\n",
      "\n",
      "DataFrame is highly fragmented.  This is usually the result of calling `frame.insert` many times, which has poor performance.  Consider joining all columns at once using pd.concat(axis=1) instead. To get a de-fragmented frame, use `newframe = frame.copy()`\n",
      "\n",
      "C:\\Users\\Abdi\\AppData\\Local\\Temp\\ipykernel_2528\\4171585614.py:26: PerformanceWarning:\n",
      "\n",
      "DataFrame is highly fragmented.  This is usually the result of calling `frame.insert` many times, which has poor performance.  Consider joining all columns at once using pd.concat(axis=1) instead. To get a de-fragmented frame, use `newframe = frame.copy()`\n",
      "\n",
      "C:\\Users\\Abdi\\AppData\\Local\\Temp\\ipykernel_2528\\4171585614.py:26: PerformanceWarning:\n",
      "\n",
      "DataFrame is highly fragmented.  This is usually the result of calling `frame.insert` many times, which has poor performance.  Consider joining all columns at once using pd.concat(axis=1) instead. To get a de-fragmented frame, use `newframe = frame.copy()`\n",
      "\n",
      "C:\\Users\\Abdi\\AppData\\Local\\Temp\\ipykernel_2528\\4171585614.py:26: PerformanceWarning:\n",
      "\n",
      "DataFrame is highly fragmented.  This is usually the result of calling `frame.insert` many times, which has poor performance.  Consider joining all columns at once using pd.concat(axis=1) instead. To get a de-fragmented frame, use `newframe = frame.copy()`\n",
      "\n",
      "C:\\Users\\Abdi\\AppData\\Local\\Temp\\ipykernel_2528\\4171585614.py:26: PerformanceWarning:\n",
      "\n",
      "DataFrame is highly fragmented.  This is usually the result of calling `frame.insert` many times, which has poor performance.  Consider joining all columns at once using pd.concat(axis=1) instead. To get a de-fragmented frame, use `newframe = frame.copy()`\n",
      "\n",
      "C:\\Users\\Abdi\\AppData\\Local\\Temp\\ipykernel_2528\\4171585614.py:26: PerformanceWarning:\n",
      "\n",
      "DataFrame is highly fragmented.  This is usually the result of calling `frame.insert` many times, which has poor performance.  Consider joining all columns at once using pd.concat(axis=1) instead. To get a de-fragmented frame, use `newframe = frame.copy()`\n",
      "\n",
      "C:\\Users\\Abdi\\AppData\\Local\\Temp\\ipykernel_2528\\4171585614.py:26: PerformanceWarning:\n",
      "\n",
      "DataFrame is highly fragmented.  This is usually the result of calling `frame.insert` many times, which has poor performance.  Consider joining all columns at once using pd.concat(axis=1) instead. To get a de-fragmented frame, use `newframe = frame.copy()`\n",
      "\n",
      "C:\\Users\\Abdi\\AppData\\Local\\Temp\\ipykernel_2528\\4171585614.py:26: PerformanceWarning:\n",
      "\n",
      "DataFrame is highly fragmented.  This is usually the result of calling `frame.insert` many times, which has poor performance.  Consider joining all columns at once using pd.concat(axis=1) instead. To get a de-fragmented frame, use `newframe = frame.copy()`\n",
      "\n",
      "C:\\Users\\Abdi\\AppData\\Local\\Temp\\ipykernel_2528\\4171585614.py:26: PerformanceWarning:\n",
      "\n",
      "DataFrame is highly fragmented.  This is usually the result of calling `frame.insert` many times, which has poor performance.  Consider joining all columns at once using pd.concat(axis=1) instead. To get a de-fragmented frame, use `newframe = frame.copy()`\n",
      "\n",
      "C:\\Users\\Abdi\\AppData\\Local\\Temp\\ipykernel_2528\\4171585614.py:26: PerformanceWarning:\n",
      "\n",
      "DataFrame is highly fragmented.  This is usually the result of calling `frame.insert` many times, which has poor performance.  Consider joining all columns at once using pd.concat(axis=1) instead. To get a de-fragmented frame, use `newframe = frame.copy()`\n",
      "\n",
      "C:\\Users\\Abdi\\AppData\\Local\\Temp\\ipykernel_2528\\4171585614.py:26: PerformanceWarning:\n",
      "\n",
      "DataFrame is highly fragmented.  This is usually the result of calling `frame.insert` many times, which has poor performance.  Consider joining all columns at once using pd.concat(axis=1) instead. To get a de-fragmented frame, use `newframe = frame.copy()`\n",
      "\n",
      "C:\\Users\\Abdi\\AppData\\Local\\Temp\\ipykernel_2528\\4171585614.py:26: PerformanceWarning:\n",
      "\n",
      "DataFrame is highly fragmented.  This is usually the result of calling `frame.insert` many times, which has poor performance.  Consider joining all columns at once using pd.concat(axis=1) instead. To get a de-fragmented frame, use `newframe = frame.copy()`\n",
      "\n",
      "C:\\Users\\Abdi\\AppData\\Local\\Temp\\ipykernel_2528\\4171585614.py:26: PerformanceWarning:\n",
      "\n",
      "DataFrame is highly fragmented.  This is usually the result of calling `frame.insert` many times, which has poor performance.  Consider joining all columns at once using pd.concat(axis=1) instead. To get a de-fragmented frame, use `newframe = frame.copy()`\n",
      "\n",
      "C:\\Users\\Abdi\\AppData\\Local\\Temp\\ipykernel_2528\\4171585614.py:26: PerformanceWarning:\n",
      "\n",
      "DataFrame is highly fragmented.  This is usually the result of calling `frame.insert` many times, which has poor performance.  Consider joining all columns at once using pd.concat(axis=1) instead. To get a de-fragmented frame, use `newframe = frame.copy()`\n",
      "\n",
      "C:\\Users\\Abdi\\AppData\\Local\\Temp\\ipykernel_2528\\4171585614.py:26: PerformanceWarning:\n",
      "\n",
      "DataFrame is highly fragmented.  This is usually the result of calling `frame.insert` many times, which has poor performance.  Consider joining all columns at once using pd.concat(axis=1) instead. To get a de-fragmented frame, use `newframe = frame.copy()`\n",
      "\n",
      "C:\\Users\\Abdi\\AppData\\Local\\Temp\\ipykernel_2528\\4171585614.py:26: PerformanceWarning:\n",
      "\n",
      "DataFrame is highly fragmented.  This is usually the result of calling `frame.insert` many times, which has poor performance.  Consider joining all columns at once using pd.concat(axis=1) instead. To get a de-fragmented frame, use `newframe = frame.copy()`\n",
      "\n",
      "C:\\Users\\Abdi\\AppData\\Local\\Temp\\ipykernel_2528\\4171585614.py:26: PerformanceWarning:\n",
      "\n",
      "DataFrame is highly fragmented.  This is usually the result of calling `frame.insert` many times, which has poor performance.  Consider joining all columns at once using pd.concat(axis=1) instead. To get a de-fragmented frame, use `newframe = frame.copy()`\n",
      "\n",
      "C:\\Users\\Abdi\\AppData\\Local\\Temp\\ipykernel_2528\\4171585614.py:26: PerformanceWarning:\n",
      "\n",
      "DataFrame is highly fragmented.  This is usually the result of calling `frame.insert` many times, which has poor performance.  Consider joining all columns at once using pd.concat(axis=1) instead. To get a de-fragmented frame, use `newframe = frame.copy()`\n",
      "\n",
      "C:\\Users\\Abdi\\AppData\\Local\\Temp\\ipykernel_2528\\4171585614.py:26: PerformanceWarning:\n",
      "\n",
      "DataFrame is highly fragmented.  This is usually the result of calling `frame.insert` many times, which has poor performance.  Consider joining all columns at once using pd.concat(axis=1) instead. To get a de-fragmented frame, use `newframe = frame.copy()`\n",
      "\n",
      "C:\\Users\\Abdi\\AppData\\Local\\Temp\\ipykernel_2528\\4171585614.py:26: PerformanceWarning:\n",
      "\n",
      "DataFrame is highly fragmented.  This is usually the result of calling `frame.insert` many times, which has poor performance.  Consider joining all columns at once using pd.concat(axis=1) instead. To get a de-fragmented frame, use `newframe = frame.copy()`\n",
      "\n",
      "C:\\Users\\Abdi\\AppData\\Local\\Temp\\ipykernel_2528\\4171585614.py:26: PerformanceWarning:\n",
      "\n",
      "DataFrame is highly fragmented.  This is usually the result of calling `frame.insert` many times, which has poor performance.  Consider joining all columns at once using pd.concat(axis=1) instead. To get a de-fragmented frame, use `newframe = frame.copy()`\n",
      "\n",
      "C:\\Users\\Abdi\\AppData\\Local\\Temp\\ipykernel_2528\\4171585614.py:26: PerformanceWarning:\n",
      "\n",
      "DataFrame is highly fragmented.  This is usually the result of calling `frame.insert` many times, which has poor performance.  Consider joining all columns at once using pd.concat(axis=1) instead. To get a de-fragmented frame, use `newframe = frame.copy()`\n",
      "\n",
      "C:\\Users\\Abdi\\AppData\\Local\\Temp\\ipykernel_2528\\4171585614.py:26: PerformanceWarning:\n",
      "\n",
      "DataFrame is highly fragmented.  This is usually the result of calling `frame.insert` many times, which has poor performance.  Consider joining all columns at once using pd.concat(axis=1) instead. To get a de-fragmented frame, use `newframe = frame.copy()`\n",
      "\n",
      "C:\\Users\\Abdi\\AppData\\Local\\Temp\\ipykernel_2528\\4171585614.py:26: PerformanceWarning:\n",
      "\n",
      "DataFrame is highly fragmented.  This is usually the result of calling `frame.insert` many times, which has poor performance.  Consider joining all columns at once using pd.concat(axis=1) instead. To get a de-fragmented frame, use `newframe = frame.copy()`\n",
      "\n",
      "C:\\Users\\Abdi\\AppData\\Local\\Temp\\ipykernel_2528\\4171585614.py:26: PerformanceWarning:\n",
      "\n",
      "DataFrame is highly fragmented.  This is usually the result of calling `frame.insert` many times, which has poor performance.  Consider joining all columns at once using pd.concat(axis=1) instead. To get a de-fragmented frame, use `newframe = frame.copy()`\n",
      "\n",
      "C:\\Users\\Abdi\\AppData\\Local\\Temp\\ipykernel_2528\\4171585614.py:26: PerformanceWarning:\n",
      "\n",
      "DataFrame is highly fragmented.  This is usually the result of calling `frame.insert` many times, which has poor performance.  Consider joining all columns at once using pd.concat(axis=1) instead. To get a de-fragmented frame, use `newframe = frame.copy()`\n",
      "\n",
      "C:\\Users\\Abdi\\AppData\\Local\\Temp\\ipykernel_2528\\4171585614.py:26: PerformanceWarning:\n",
      "\n",
      "DataFrame is highly fragmented.  This is usually the result of calling `frame.insert` many times, which has poor performance.  Consider joining all columns at once using pd.concat(axis=1) instead. To get a de-fragmented frame, use `newframe = frame.copy()`\n",
      "\n",
      "C:\\Users\\Abdi\\AppData\\Local\\Temp\\ipykernel_2528\\4171585614.py:26: PerformanceWarning:\n",
      "\n",
      "DataFrame is highly fragmented.  This is usually the result of calling `frame.insert` many times, which has poor performance.  Consider joining all columns at once using pd.concat(axis=1) instead. To get a de-fragmented frame, use `newframe = frame.copy()`\n",
      "\n",
      "C:\\Users\\Abdi\\AppData\\Local\\Temp\\ipykernel_2528\\4171585614.py:26: PerformanceWarning:\n",
      "\n",
      "DataFrame is highly fragmented.  This is usually the result of calling `frame.insert` many times, which has poor performance.  Consider joining all columns at once using pd.concat(axis=1) instead. To get a de-fragmented frame, use `newframe = frame.copy()`\n",
      "\n",
      "C:\\Users\\Abdi\\AppData\\Local\\Temp\\ipykernel_2528\\4171585614.py:26: PerformanceWarning:\n",
      "\n",
      "DataFrame is highly fragmented.  This is usually the result of calling `frame.insert` many times, which has poor performance.  Consider joining all columns at once using pd.concat(axis=1) instead. To get a de-fragmented frame, use `newframe = frame.copy()`\n",
      "\n",
      "C:\\Users\\Abdi\\AppData\\Local\\Temp\\ipykernel_2528\\4171585614.py:26: PerformanceWarning:\n",
      "\n",
      "DataFrame is highly fragmented.  This is usually the result of calling `frame.insert` many times, which has poor performance.  Consider joining all columns at once using pd.concat(axis=1) instead. To get a de-fragmented frame, use `newframe = frame.copy()`\n",
      "\n",
      "C:\\Users\\Abdi\\AppData\\Local\\Temp\\ipykernel_2528\\4171585614.py:26: PerformanceWarning:\n",
      "\n",
      "DataFrame is highly fragmented.  This is usually the result of calling `frame.insert` many times, which has poor performance.  Consider joining all columns at once using pd.concat(axis=1) instead. To get a de-fragmented frame, use `newframe = frame.copy()`\n",
      "\n",
      "C:\\Users\\Abdi\\AppData\\Local\\Temp\\ipykernel_2528\\4171585614.py:26: PerformanceWarning:\n",
      "\n",
      "DataFrame is highly fragmented.  This is usually the result of calling `frame.insert` many times, which has poor performance.  Consider joining all columns at once using pd.concat(axis=1) instead. To get a de-fragmented frame, use `newframe = frame.copy()`\n",
      "\n",
      "C:\\Users\\Abdi\\AppData\\Local\\Temp\\ipykernel_2528\\4171585614.py:26: PerformanceWarning:\n",
      "\n",
      "DataFrame is highly fragmented.  This is usually the result of calling `frame.insert` many times, which has poor performance.  Consider joining all columns at once using pd.concat(axis=1) instead. To get a de-fragmented frame, use `newframe = frame.copy()`\n",
      "\n",
      "C:\\Users\\Abdi\\AppData\\Local\\Temp\\ipykernel_2528\\4171585614.py:26: PerformanceWarning:\n",
      "\n",
      "DataFrame is highly fragmented.  This is usually the result of calling `frame.insert` many times, which has poor performance.  Consider joining all columns at once using pd.concat(axis=1) instead. To get a de-fragmented frame, use `newframe = frame.copy()`\n",
      "\n",
      "C:\\Users\\Abdi\\AppData\\Local\\Temp\\ipykernel_2528\\4171585614.py:26: PerformanceWarning:\n",
      "\n",
      "DataFrame is highly fragmented.  This is usually the result of calling `frame.insert` many times, which has poor performance.  Consider joining all columns at once using pd.concat(axis=1) instead. To get a de-fragmented frame, use `newframe = frame.copy()`\n",
      "\n",
      "C:\\Users\\Abdi\\AppData\\Local\\Temp\\ipykernel_2528\\4171585614.py:26: PerformanceWarning:\n",
      "\n",
      "DataFrame is highly fragmented.  This is usually the result of calling `frame.insert` many times, which has poor performance.  Consider joining all columns at once using pd.concat(axis=1) instead. To get a de-fragmented frame, use `newframe = frame.copy()`\n",
      "\n",
      "C:\\Users\\Abdi\\AppData\\Local\\Temp\\ipykernel_2528\\4171585614.py:26: PerformanceWarning:\n",
      "\n",
      "DataFrame is highly fragmented.  This is usually the result of calling `frame.insert` many times, which has poor performance.  Consider joining all columns at once using pd.concat(axis=1) instead. To get a de-fragmented frame, use `newframe = frame.copy()`\n",
      "\n",
      "C:\\Users\\Abdi\\AppData\\Local\\Temp\\ipykernel_2528\\4171585614.py:26: PerformanceWarning:\n",
      "\n",
      "DataFrame is highly fragmented.  This is usually the result of calling `frame.insert` many times, which has poor performance.  Consider joining all columns at once using pd.concat(axis=1) instead. To get a de-fragmented frame, use `newframe = frame.copy()`\n",
      "\n",
      "C:\\Users\\Abdi\\AppData\\Local\\Temp\\ipykernel_2528\\4171585614.py:26: PerformanceWarning:\n",
      "\n",
      "DataFrame is highly fragmented.  This is usually the result of calling `frame.insert` many times, which has poor performance.  Consider joining all columns at once using pd.concat(axis=1) instead. To get a de-fragmented frame, use `newframe = frame.copy()`\n",
      "\n",
      "C:\\Users\\Abdi\\AppData\\Local\\Temp\\ipykernel_2528\\4171585614.py:26: PerformanceWarning:\n",
      "\n",
      "DataFrame is highly fragmented.  This is usually the result of calling `frame.insert` many times, which has poor performance.  Consider joining all columns at once using pd.concat(axis=1) instead. To get a de-fragmented frame, use `newframe = frame.copy()`\n",
      "\n",
      "C:\\Users\\Abdi\\AppData\\Local\\Temp\\ipykernel_2528\\4171585614.py:26: PerformanceWarning:\n",
      "\n",
      "DataFrame is highly fragmented.  This is usually the result of calling `frame.insert` many times, which has poor performance.  Consider joining all columns at once using pd.concat(axis=1) instead. To get a de-fragmented frame, use `newframe = frame.copy()`\n",
      "\n",
      "C:\\Users\\Abdi\\AppData\\Local\\Temp\\ipykernel_2528\\4171585614.py:26: PerformanceWarning:\n",
      "\n",
      "DataFrame is highly fragmented.  This is usually the result of calling `frame.insert` many times, which has poor performance.  Consider joining all columns at once using pd.concat(axis=1) instead. To get a de-fragmented frame, use `newframe = frame.copy()`\n",
      "\n",
      "C:\\Users\\Abdi\\AppData\\Local\\Temp\\ipykernel_2528\\4171585614.py:26: PerformanceWarning:\n",
      "\n",
      "DataFrame is highly fragmented.  This is usually the result of calling `frame.insert` many times, which has poor performance.  Consider joining all columns at once using pd.concat(axis=1) instead. To get a de-fragmented frame, use `newframe = frame.copy()`\n",
      "\n",
      "C:\\Users\\Abdi\\AppData\\Local\\Temp\\ipykernel_2528\\4171585614.py:26: PerformanceWarning:\n",
      "\n",
      "DataFrame is highly fragmented.  This is usually the result of calling `frame.insert` many times, which has poor performance.  Consider joining all columns at once using pd.concat(axis=1) instead. To get a de-fragmented frame, use `newframe = frame.copy()`\n",
      "\n",
      "C:\\Users\\Abdi\\AppData\\Local\\Temp\\ipykernel_2528\\4171585614.py:26: PerformanceWarning:\n",
      "\n",
      "DataFrame is highly fragmented.  This is usually the result of calling `frame.insert` many times, which has poor performance.  Consider joining all columns at once using pd.concat(axis=1) instead. To get a de-fragmented frame, use `newframe = frame.copy()`\n",
      "\n",
      "C:\\Users\\Abdi\\AppData\\Local\\Temp\\ipykernel_2528\\4171585614.py:26: PerformanceWarning:\n",
      "\n",
      "DataFrame is highly fragmented.  This is usually the result of calling `frame.insert` many times, which has poor performance.  Consider joining all columns at once using pd.concat(axis=1) instead. To get a de-fragmented frame, use `newframe = frame.copy()`\n",
      "\n",
      "C:\\Users\\Abdi\\AppData\\Local\\Temp\\ipykernel_2528\\4171585614.py:26: PerformanceWarning:\n",
      "\n",
      "DataFrame is highly fragmented.  This is usually the result of calling `frame.insert` many times, which has poor performance.  Consider joining all columns at once using pd.concat(axis=1) instead. To get a de-fragmented frame, use `newframe = frame.copy()`\n",
      "\n",
      "C:\\Users\\Abdi\\AppData\\Local\\Temp\\ipykernel_2528\\4171585614.py:26: PerformanceWarning:\n",
      "\n",
      "DataFrame is highly fragmented.  This is usually the result of calling `frame.insert` many times, which has poor performance.  Consider joining all columns at once using pd.concat(axis=1) instead. To get a de-fragmented frame, use `newframe = frame.copy()`\n",
      "\n",
      "C:\\Users\\Abdi\\AppData\\Local\\Temp\\ipykernel_2528\\4171585614.py:26: PerformanceWarning:\n",
      "\n",
      "DataFrame is highly fragmented.  This is usually the result of calling `frame.insert` many times, which has poor performance.  Consider joining all columns at once using pd.concat(axis=1) instead. To get a de-fragmented frame, use `newframe = frame.copy()`\n",
      "\n",
      "C:\\Users\\Abdi\\AppData\\Local\\Temp\\ipykernel_2528\\4171585614.py:26: PerformanceWarning:\n",
      "\n",
      "DataFrame is highly fragmented.  This is usually the result of calling `frame.insert` many times, which has poor performance.  Consider joining all columns at once using pd.concat(axis=1) instead. To get a de-fragmented frame, use `newframe = frame.copy()`\n",
      "\n",
      "C:\\Users\\Abdi\\AppData\\Local\\Temp\\ipykernel_2528\\4171585614.py:26: PerformanceWarning:\n",
      "\n",
      "DataFrame is highly fragmented.  This is usually the result of calling `frame.insert` many times, which has poor performance.  Consider joining all columns at once using pd.concat(axis=1) instead. To get a de-fragmented frame, use `newframe = frame.copy()`\n",
      "\n",
      "C:\\Users\\Abdi\\AppData\\Local\\Temp\\ipykernel_2528\\4171585614.py:26: PerformanceWarning:\n",
      "\n",
      "DataFrame is highly fragmented.  This is usually the result of calling `frame.insert` many times, which has poor performance.  Consider joining all columns at once using pd.concat(axis=1) instead. To get a de-fragmented frame, use `newframe = frame.copy()`\n",
      "\n",
      "C:\\Users\\Abdi\\AppData\\Local\\Temp\\ipykernel_2528\\4171585614.py:26: PerformanceWarning:\n",
      "\n",
      "DataFrame is highly fragmented.  This is usually the result of calling `frame.insert` many times, which has poor performance.  Consider joining all columns at once using pd.concat(axis=1) instead. To get a de-fragmented frame, use `newframe = frame.copy()`\n",
      "\n",
      "C:\\Users\\Abdi\\AppData\\Local\\Temp\\ipykernel_2528\\4171585614.py:26: PerformanceWarning:\n",
      "\n",
      "DataFrame is highly fragmented.  This is usually the result of calling `frame.insert` many times, which has poor performance.  Consider joining all columns at once using pd.concat(axis=1) instead. To get a de-fragmented frame, use `newframe = frame.copy()`\n",
      "\n",
      "C:\\Users\\Abdi\\AppData\\Local\\Temp\\ipykernel_2528\\4171585614.py:26: PerformanceWarning:\n",
      "\n",
      "DataFrame is highly fragmented.  This is usually the result of calling `frame.insert` many times, which has poor performance.  Consider joining all columns at once using pd.concat(axis=1) instead. To get a de-fragmented frame, use `newframe = frame.copy()`\n",
      "\n",
      "C:\\Users\\Abdi\\AppData\\Local\\Temp\\ipykernel_2528\\4171585614.py:26: PerformanceWarning:\n",
      "\n",
      "DataFrame is highly fragmented.  This is usually the result of calling `frame.insert` many times, which has poor performance.  Consider joining all columns at once using pd.concat(axis=1) instead. To get a de-fragmented frame, use `newframe = frame.copy()`\n",
      "\n",
      "C:\\Users\\Abdi\\AppData\\Local\\Temp\\ipykernel_2528\\4171585614.py:26: PerformanceWarning:\n",
      "\n",
      "DataFrame is highly fragmented.  This is usually the result of calling `frame.insert` many times, which has poor performance.  Consider joining all columns at once using pd.concat(axis=1) instead. To get a de-fragmented frame, use `newframe = frame.copy()`\n",
      "\n",
      "C:\\Users\\Abdi\\AppData\\Local\\Temp\\ipykernel_2528\\4171585614.py:26: PerformanceWarning:\n",
      "\n",
      "DataFrame is highly fragmented.  This is usually the result of calling `frame.insert` many times, which has poor performance.  Consider joining all columns at once using pd.concat(axis=1) instead. To get a de-fragmented frame, use `newframe = frame.copy()`\n",
      "\n",
      "C:\\Users\\Abdi\\AppData\\Local\\Temp\\ipykernel_2528\\4171585614.py:26: PerformanceWarning:\n",
      "\n",
      "DataFrame is highly fragmented.  This is usually the result of calling `frame.insert` many times, which has poor performance.  Consider joining all columns at once using pd.concat(axis=1) instead. To get a de-fragmented frame, use `newframe = frame.copy()`\n",
      "\n",
      "C:\\Users\\Abdi\\AppData\\Local\\Temp\\ipykernel_2528\\4171585614.py:26: PerformanceWarning:\n",
      "\n",
      "DataFrame is highly fragmented.  This is usually the result of calling `frame.insert` many times, which has poor performance.  Consider joining all columns at once using pd.concat(axis=1) instead. To get a de-fragmented frame, use `newframe = frame.copy()`\n",
      "\n",
      "C:\\Users\\Abdi\\AppData\\Local\\Temp\\ipykernel_2528\\4171585614.py:26: PerformanceWarning:\n",
      "\n",
      "DataFrame is highly fragmented.  This is usually the result of calling `frame.insert` many times, which has poor performance.  Consider joining all columns at once using pd.concat(axis=1) instead. To get a de-fragmented frame, use `newframe = frame.copy()`\n",
      "\n",
      "C:\\Users\\Abdi\\AppData\\Local\\Temp\\ipykernel_2528\\4171585614.py:26: PerformanceWarning:\n",
      "\n",
      "DataFrame is highly fragmented.  This is usually the result of calling `frame.insert` many times, which has poor performance.  Consider joining all columns at once using pd.concat(axis=1) instead. To get a de-fragmented frame, use `newframe = frame.copy()`\n",
      "\n",
      "C:\\Users\\Abdi\\AppData\\Local\\Temp\\ipykernel_2528\\4171585614.py:26: PerformanceWarning:\n",
      "\n",
      "DataFrame is highly fragmented.  This is usually the result of calling `frame.insert` many times, which has poor performance.  Consider joining all columns at once using pd.concat(axis=1) instead. To get a de-fragmented frame, use `newframe = frame.copy()`\n",
      "\n",
      "C:\\Users\\Abdi\\AppData\\Local\\Temp\\ipykernel_2528\\4171585614.py:26: PerformanceWarning:\n",
      "\n",
      "DataFrame is highly fragmented.  This is usually the result of calling `frame.insert` many times, which has poor performance.  Consider joining all columns at once using pd.concat(axis=1) instead. To get a de-fragmented frame, use `newframe = frame.copy()`\n",
      "\n",
      "C:\\Users\\Abdi\\AppData\\Local\\Temp\\ipykernel_2528\\4171585614.py:26: PerformanceWarning:\n",
      "\n",
      "DataFrame is highly fragmented.  This is usually the result of calling `frame.insert` many times, which has poor performance.  Consider joining all columns at once using pd.concat(axis=1) instead. To get a de-fragmented frame, use `newframe = frame.copy()`\n",
      "\n",
      "C:\\Users\\Abdi\\AppData\\Local\\Temp\\ipykernel_2528\\4171585614.py:26: PerformanceWarning:\n",
      "\n",
      "DataFrame is highly fragmented.  This is usually the result of calling `frame.insert` many times, which has poor performance.  Consider joining all columns at once using pd.concat(axis=1) instead. To get a de-fragmented frame, use `newframe = frame.copy()`\n",
      "\n",
      "C:\\Users\\Abdi\\AppData\\Local\\Temp\\ipykernel_2528\\4171585614.py:26: PerformanceWarning:\n",
      "\n",
      "DataFrame is highly fragmented.  This is usually the result of calling `frame.insert` many times, which has poor performance.  Consider joining all columns at once using pd.concat(axis=1) instead. To get a de-fragmented frame, use `newframe = frame.copy()`\n",
      "\n",
      "C:\\Users\\Abdi\\AppData\\Local\\Temp\\ipykernel_2528\\4171585614.py:26: PerformanceWarning:\n",
      "\n",
      "DataFrame is highly fragmented.  This is usually the result of calling `frame.insert` many times, which has poor performance.  Consider joining all columns at once using pd.concat(axis=1) instead. To get a de-fragmented frame, use `newframe = frame.copy()`\n",
      "\n"
     ]
    },
    {
     "name": "stdout",
     "output_type": "stream",
     "text": [
      "   old_price  rooms  bed  bathroom  predicted_price\n",
      "0       2000      2    1         1          1430.78\n",
      "1       3000      3    2         2          1846.71\n",
      "2       4000      4    3         2          2699.28\n"
     ]
    },
    {
     "name": "stderr",
     "output_type": "stream",
     "text": [
      "C:\\Users\\Abdi\\AppData\\Local\\Temp\\ipykernel_2528\\4171585614.py:35: PerformanceWarning:\n",
      "\n",
      "DataFrame is highly fragmented.  This is usually the result of calling `frame.insert` many times, which has poor performance.  Consider joining all columns at once using pd.concat(axis=1) instead. To get a de-fragmented frame, use `newframe = frame.copy()`\n",
      "\n"
     ]
    }
   ],
   "source": [
    "generic_data = pd.DataFrame({\n",
    "    'old_price': [2000, 3000, 4000],  \n",
    "    'rooms': [2, 3, 4],              \n",
    "    'bed': [1, 2, 3],                 \n",
    "    'bathroom': [1, 2, 2],            \n",
    "    'Type_apartment': [1, 0, 0],      \n",
    "    'Type_loft': [0, 1, 0],          \n",
    "    'Type_cottage': [0, 0, 1],        \n",
    "    'pays_Spain': [1, 0, 1],          \n",
    "    'region_Madrid': [1, 0, 0],      \n",
    "    'region_Seville': [0, 1, 0],     \n",
    "    \n",
    "})\n",
    "\n",
    "for col in X_train.columns:\n",
    "    if col not in generic_data.columns:\n",
    "        generic_data[col] = 0\n",
    "\n",
    "generic_data = generic_data[X_train.columns]\n",
    "predicted_prices = rf_model.predict(generic_data)\n",
    "generic_data['predicted_price'] = predicted_prices\n",
    "print(generic_data[['old_price', 'rooms', 'bed', 'bathroom', 'predicted_price']])\n"
   ]
  },
  {
   "cell_type": "markdown",
   "metadata": {},
   "source": [
    "### Visualisation de prediction de prix de Random Forest modèle\n"
   ]
  },
  {
   "cell_type": "code",
   "execution_count": 72,
   "metadata": {},
   "outputs": [
    {
     "data": {
      "application/vnd.plotly.v1+json": {
       "config": {
        "plotlyServerURL": "https://plot.ly"
       },
       "data": [
        {
         "hovertemplate": "Actual Price=%{x}<br>Predicted Price=%{y}<extra></extra>",
         "legendgroup": "",
         "marker": {
          "color": "#000001",
          "symbol": "circle"
         },
         "mode": "markers",
         "name": "",
         "orientation": "v",
         "showlegend": false,
         "type": "scatter",
         "x": [
          3159,
          720,
          1240,
          1133,
          2588,
          2728,
          1758,
          1860,
          1515,
          2731,
          2703,
          960,
          1330,
          2558,
          1085,
          1415,
          907,
          869,
          977,
          2511,
          1958,
          2158,
          1176,
          1108,
          614,
          1224,
          1296,
          1975,
          1904,
          2893,
          1390,
          1196,
          1685,
          1054,
          2976,
          1273,
          1986,
          1063,
          790,
          987,
          1974,
          1793,
          2432,
          1077,
          878,
          2251,
          1894,
          867,
          701,
          1061,
          4625,
          2604,
          2635,
          1923,
          1802,
          1841,
          773,
          2232,
          1163,
          1544,
          992,
          817,
          1130,
          1166,
          2821,
          843,
          1110,
          1804,
          1587,
          3713,
          2655,
          962,
          1870,
          1535,
          1678,
          3665,
          3276,
          1550,
          3720,
          1370,
          2730,
          1298,
          1438,
          1184,
          1085,
          1608,
          1958,
          546,
          1867,
          4323,
          5535,
          2325,
          1377,
          2047,
          2646,
          2232,
          1292,
          2635,
          1348,
          893,
          1395,
          1113,
          2517,
          1471,
          1274,
          1855,
          1968,
          1357,
          1581,
          1431,
          1256,
          1344,
          1880,
          981,
          1451,
          1540,
          1183,
          1023,
          3618,
          1365,
          1897,
          1028,
          1674,
          1085,
          1814,
          977,
          3199,
          1618,
          2709,
          2522,
          1078,
          4480,
          3456,
          1200,
          1256,
          1438,
          2092,
          1212,
          992,
          3333,
          1691,
          947,
          1116,
          1189,
          3869,
          2139,
          1332,
          1325,
          861,
          1259,
          774
         ],
         "xaxis": "x",
         "y": [
          3745.67,
          731.05,
          1142.84,
          1354.04,
          2132.77,
          1932.49,
          1691.49,
          3970.29,
          1192.72,
          2830.99,
          1777.66,
          993.31,
          1231.11,
          3710.253333333333,
          1128.33,
          1314.26,
          878.24,
          1060.63,
          1060.71,
          1632.56,
          1930.75,
          1576.51,
          1306.53,
          1327.37,
          391.48,
          1542.66,
          1180.89,
          1829.97,
          1432.65,
          3028.56,
          1314.26,
          1641.85,
          1856.75,
          1185.13,
          2839.76,
          1283.96,
          1566.74,
          1042.46,
          749.48,
          850.01,
          1603.95,
          1716.19,
          2011.35,
          911.62,
          825.71,
          2572.25,
          1902.9,
          956.07,
          879.17,
          1285.47,
          4586.65,
          2583.71,
          4075.68,
          1905.8,
          1996.17,
          1805.73,
          1560.74,
          2078.79,
          1060.17,
          1753.18,
          1293.77,
          852.34,
          1401.37,
          1090.87,
          2525.23,
          745.96,
          1304.12,
          1819.13,
          2147.55,
          4615.57,
          2712.21,
          1142.73,
          1517.05,
          1317.06,
          1260.08,
          3740.73,
          2582.98,
          2183.94,
          3473.32,
          2277.74,
          2623.4,
          1407.36,
          1374.69,
          1692.99,
          1100.25,
          1924.36,
          1643.39,
          1297.57,
          2129.91,
          4940.255,
          3841.349,
          2666.76,
          1067.94,
          1962.24,
          1853,
          2606.75,
          1294.4,
          2308.4,
          1181.28,
          1056.86,
          1198.8,
          1120.69,
          2857.02,
          1430.23,
          1281.25,
          2040.36,
          2188.03,
          1296.17,
          1702.83,
          2097.03,
          1428.49,
          1615.18,
          1986.97,
          1175.04,
          1355.35,
          1299.74,
          1709.18,
          1114.16,
          3253.79,
          1169.26,
          2724.36,
          1030.33,
          1198.8,
          1338.68,
          1627.34,
          1059.66,
          2768.23,
          1699.99,
          1889.9,
          1941.87,
          1183.96,
          3393.36,
          2765.67,
          1143.16,
          1428.49,
          1426.35,
          1800.08,
          1246.35,
          993.35,
          3227.92,
          1320.64,
          1016.95,
          1004.26,
          1004.85,
          3446.87,
          3000.14,
          1832.07,
          1788.45,
          813.18,
          1295.7,
          1302.99
         ],
         "yaxis": "y"
        },
        {
         "hovertemplate": "<b>OLS trendline</b><br>Predicted Price = 0.846766 * Actual Price + 292.148<br>R<sup>2</sup>=0.761939<br><br>Actual Price=%{x}<br>Predicted Price=%{y} <b>(trend)</b><extra></extra>",
         "legendgroup": "",
         "marker": {
          "color": "#000001",
          "symbol": "circle"
         },
         "mode": "lines",
         "name": "",
         "showlegend": false,
         "type": "scatter",
         "x": [
          546,
          614,
          701,
          720,
          773,
          774,
          790,
          817,
          843,
          861,
          867,
          869,
          878,
          893,
          907,
          947,
          960,
          962,
          977,
          977,
          981,
          987,
          992,
          992,
          1023,
          1028,
          1054,
          1061,
          1063,
          1077,
          1078,
          1085,
          1085,
          1085,
          1108,
          1110,
          1113,
          1116,
          1130,
          1133,
          1163,
          1166,
          1176,
          1183,
          1184,
          1189,
          1196,
          1200,
          1212,
          1224,
          1240,
          1256,
          1256,
          1259,
          1273,
          1274,
          1292,
          1296,
          1298,
          1325,
          1330,
          1332,
          1344,
          1348,
          1357,
          1365,
          1370,
          1377,
          1390,
          1395,
          1415,
          1431,
          1438,
          1438,
          1451,
          1471,
          1515,
          1535,
          1540,
          1544,
          1550,
          1581,
          1587,
          1608,
          1618,
          1674,
          1678,
          1685,
          1691,
          1758,
          1793,
          1802,
          1804,
          1814,
          1841,
          1855,
          1860,
          1867,
          1870,
          1880,
          1894,
          1897,
          1904,
          1923,
          1958,
          1958,
          1968,
          1974,
          1975,
          1986,
          2047,
          2092,
          2139,
          2158,
          2232,
          2232,
          2251,
          2325,
          2432,
          2511,
          2517,
          2522,
          2558,
          2588,
          2604,
          2635,
          2635,
          2646,
          2655,
          2703,
          2709,
          2728,
          2730,
          2731,
          2821,
          2893,
          2976,
          3159,
          3199,
          3276,
          3333,
          3456,
          3618,
          3665,
          3713,
          3720,
          3869,
          4323,
          4480,
          4625,
          5535
         ],
         "xaxis": "x",
         "y": [
          754.4822771023097,
          812.062333018426,
          885.7309339699275,
          901.819479005313,
          946.6980519987565,
          947.5448175269348,
          961.0930659777855,
          983.9557352385964,
          1005.9716389712291,
          1021.2134184784363,
          1026.2940116475054,
          1027.987542703862,
          1035.6084324574654,
          1048.3099153801381,
          1060.1646327746328,
          1094.03525390176,
          1105.0432057680762,
          1106.7367368244327,
          1119.4382197471052,
          1119.4382197471052,
          1122.825281859818,
          1127.905875028887,
          1132.139702669778,
          1132.139702669778,
          1158.3894340433017,
          1162.6232616841924,
          1184.639165416825,
          1190.5665241140723,
          1192.2600551704288,
          1204.1147725649232,
          1204.9615380931016,
          1210.8888967903488,
          1210.8888967903488,
          1210.8888967903488,
          1230.364503938447,
          1232.0580349948032,
          1234.5983315793378,
          1237.1386281638722,
          1248.9933455583669,
          1251.5336421429013,
          1276.9366079882468,
          1279.4769045727812,
          1287.944559854563,
          1293.8719185518103,
          1294.7186840799886,
          1298.9525117208796,
          1304.8798704181268,
          1308.2669325308395,
          1318.4281188689777,
          1328.5893052071158,
          1342.1375536579667,
          1355.6858021088176,
          1355.6858021088176,
          1358.226098693352,
          1370.0808160878466,
          1370.9275816160248,
          1386.169361123232,
          1389.5564232359447,
          1391.2499542923013,
          1414.112623553112,
          1418.3464511940028,
          1420.0399822503593,
          1430.2011685884975,
          1433.5882307012103,
          1441.2091204548137,
          1447.9832446802393,
          1452.2170723211302,
          1458.1444310183774,
          1469.1523828846937,
          1473.3862105255846,
          1490.3215210891483,
          1503.8697695399992,
          1509.7971282372464,
          1509.7971282372464,
          1520.8050801035627,
          1537.7403906671263,
          1574.9980739069663,
          1591.9333844705297,
          1596.1672121114207,
          1599.5542742241335,
          1604.6348673932025,
          1630.8845987667262,
          1635.9651919357952,
          1653.747268027537,
          1662.2149233093187,
          1709.6337928872967,
          1713.0208550000095,
          1718.9482136972567,
          1724.028806866326,
          1780.762097254264,
          1810.3988907405003,
          1818.019780494104,
          1819.7133115504603,
          1828.1809668322421,
          1851.043636093053,
          1862.8983534875474,
          1867.1321811284383,
          1873.0595398256855,
          1875.5998364102202,
          1884.067491692002,
          1895.9222090864964,
          1898.462505671031,
          1904.3898643682783,
          1920.4784094036636,
          1950.1152028899,
          1950.1152028899,
          1958.582858171682,
          1963.663451340751,
          1964.510216868929,
          1973.824637678889,
          2025.477334897758,
          2063.581783665776,
          2103.3797634901503,
          2119.468308525536,
          2182.128957610721,
          2182.128957610721,
          2198.217502646107,
          2260.878151731292,
          2351.4820632463575,
          2418.3765399724334,
          2423.4571331415027,
          2427.6909607823936,
          2458.174519796808,
          2483.5774856421535,
          2497.125734093004,
          2523.375465466528,
          2523.375465466528,
          2532.689886276488,
          2540.3107760300913,
          2580.9555213826443,
          2586.036114551713,
          2602.1246595870984,
          2603.818190643455,
          2604.664956171633,
          2680.8738537076692,
          2741.8409717364984,
          2812.1225105752874,
          2967.0806022318943,
          3000.9512233590212,
          3066.1521690287414,
          3114.417804134898,
          3218.5699641008136,
          3355.745979665679,
          3395.5439594900536,
          3436.188704842606,
          3442.1160635398533,
          3568.284127238402,
          3952.715677031296,
          4085.6578649552703,
          4208.438866541106,
          4978.995497183249
         ],
         "yaxis": "y"
        }
       ],
       "layout": {
        "legend": {
         "tracegroupgap": 0
        },
        "template": {
         "data": {
          "candlestick": [
           {
            "decreasing": {
             "line": {
              "color": "#000033"
             }
            },
            "increasing": {
             "line": {
              "color": "#000032"
             }
            },
            "type": "candlestick"
           }
          ],
          "contour": [
           {
            "colorscale": [
             [
              0,
              "#000011"
             ],
             [
              0.1111111111111111,
              "#000012"
             ],
             [
              0.2222222222222222,
              "#000013"
             ],
             [
              0.3333333333333333,
              "#000014"
             ],
             [
              0.4444444444444444,
              "#000015"
             ],
             [
              0.5555555555555556,
              "#000016"
             ],
             [
              0.6666666666666666,
              "#000017"
             ],
             [
              0.7777777777777778,
              "#000018"
             ],
             [
              0.8888888888888888,
              "#000019"
             ],
             [
              1,
              "#000020"
             ]
            ],
            "type": "contour"
           }
          ],
          "contourcarpet": [
           {
            "colorscale": [
             [
              0,
              "#000011"
             ],
             [
              0.1111111111111111,
              "#000012"
             ],
             [
              0.2222222222222222,
              "#000013"
             ],
             [
              0.3333333333333333,
              "#000014"
             ],
             [
              0.4444444444444444,
              "#000015"
             ],
             [
              0.5555555555555556,
              "#000016"
             ],
             [
              0.6666666666666666,
              "#000017"
             ],
             [
              0.7777777777777778,
              "#000018"
             ],
             [
              0.8888888888888888,
              "#000019"
             ],
             [
              1,
              "#000020"
             ]
            ],
            "type": "contourcarpet"
           }
          ],
          "heatmap": [
           {
            "colorscale": [
             [
              0,
              "#000011"
             ],
             [
              0.1111111111111111,
              "#000012"
             ],
             [
              0.2222222222222222,
              "#000013"
             ],
             [
              0.3333333333333333,
              "#000014"
             ],
             [
              0.4444444444444444,
              "#000015"
             ],
             [
              0.5555555555555556,
              "#000016"
             ],
             [
              0.6666666666666666,
              "#000017"
             ],
             [
              0.7777777777777778,
              "#000018"
             ],
             [
              0.8888888888888888,
              "#000019"
             ],
             [
              1,
              "#000020"
             ]
            ],
            "type": "heatmap"
           }
          ],
          "histogram2d": [
           {
            "colorscale": [
             [
              0,
              "#000011"
             ],
             [
              0.1111111111111111,
              "#000012"
             ],
             [
              0.2222222222222222,
              "#000013"
             ],
             [
              0.3333333333333333,
              "#000014"
             ],
             [
              0.4444444444444444,
              "#000015"
             ],
             [
              0.5555555555555556,
              "#000016"
             ],
             [
              0.6666666666666666,
              "#000017"
             ],
             [
              0.7777777777777778,
              "#000018"
             ],
             [
              0.8888888888888888,
              "#000019"
             ],
             [
              1,
              "#000020"
             ]
            ],
            "type": "histogram2d"
           }
          ],
          "icicle": [
           {
            "textfont": {
             "color": "white"
            },
            "type": "icicle"
           }
          ],
          "sankey": [
           {
            "textfont": {
             "color": "#000036"
            },
            "type": "sankey"
           }
          ],
          "scatter": [
           {
            "marker": {
             "line": {
              "width": 0
             }
            },
            "type": "scatter"
           }
          ],
          "table": [
           {
            "cells": {
             "fill": {
              "color": "#000038"
             },
             "font": {
              "color": "#000037"
             },
             "line": {
              "color": "#000039"
             }
            },
            "header": {
             "fill": {
              "color": "#000040"
             },
             "font": {
              "color": "#000036"
             },
             "line": {
              "color": "#000039"
             }
            },
            "type": "table"
           }
          ],
          "waterfall": [
           {
            "connector": {
             "line": {
              "color": "#000036",
              "width": 2
             }
            },
            "decreasing": {
             "marker": {
              "color": "#000033"
             }
            },
            "increasing": {
             "marker": {
              "color": "#000032"
             }
            },
            "totals": {
             "marker": {
              "color": "#000034"
             }
            },
            "type": "waterfall"
           }
          ]
         },
         "layout": {
          "coloraxis": {
           "colorscale": [
            [
             0,
             "#000011"
            ],
            [
             0.1111111111111111,
             "#000012"
            ],
            [
             0.2222222222222222,
             "#000013"
            ],
            [
             0.3333333333333333,
             "#000014"
            ],
            [
             0.4444444444444444,
             "#000015"
            ],
            [
             0.5555555555555556,
             "#000016"
            ],
            [
             0.6666666666666666,
             "#000017"
            ],
            [
             0.7777777777777778,
             "#000018"
            ],
            [
             0.8888888888888888,
             "#000019"
            ],
            [
             1,
             "#000020"
            ]
           ]
          },
          "colorscale": {
           "diverging": [
            [
             0,
             "#000021"
            ],
            [
             0.1,
             "#000022"
            ],
            [
             0.2,
             "#000023"
            ],
            [
             0.3,
             "#000024"
            ],
            [
             0.4,
             "#000025"
            ],
            [
             0.5,
             "#000026"
            ],
            [
             0.6,
             "#000027"
            ],
            [
             0.7,
             "#000028"
            ],
            [
             0.8,
             "#000029"
            ],
            [
             0.9,
             "#000030"
            ],
            [
             1,
             "#000031"
            ]
           ],
           "sequential": [
            [
             0,
             "#000011"
            ],
            [
             0.1111111111111111,
             "#000012"
            ],
            [
             0.2222222222222222,
             "#000013"
            ],
            [
             0.3333333333333333,
             "#000014"
            ],
            [
             0.4444444444444444,
             "#000015"
            ],
            [
             0.5555555555555556,
             "#000016"
            ],
            [
             0.6666666666666666,
             "#000017"
            ],
            [
             0.7777777777777778,
             "#000018"
            ],
            [
             0.8888888888888888,
             "#000019"
            ],
            [
             1,
             "#000020"
            ]
           ],
           "sequentialminus": [
            [
             0,
             "#000011"
            ],
            [
             0.1111111111111111,
             "#000012"
            ],
            [
             0.2222222222222222,
             "#000013"
            ],
            [
             0.3333333333333333,
             "#000014"
            ],
            [
             0.4444444444444444,
             "#000015"
            ],
            [
             0.5555555555555556,
             "#000016"
            ],
            [
             0.6666666666666666,
             "#000017"
            ],
            [
             0.7777777777777778,
             "#000018"
            ],
            [
             0.8888888888888888,
             "#000019"
            ],
            [
             1,
             "#000020"
            ]
           ]
          },
          "colorway": [
           "#000001",
           "#000002",
           "#000003",
           "#000004",
           "#000005",
           "#000006",
           "#000007",
           "#000008",
           "#000009",
           "#000010"
          ]
         }
        },
        "title": {
         "text": "Random Forest: Predicted vs Actual Prices"
        },
        "xaxis": {
         "anchor": "y",
         "domain": [
          0,
          1
         ],
         "title": {
          "text": "Actual Price"
         }
        },
        "yaxis": {
         "anchor": "x",
         "domain": [
          0,
          1
         ],
         "title": {
          "text": "Predicted Price"
         }
        }
       }
      }
     },
     "metadata": {},
     "output_type": "display_data"
    }
   ],
   "source": [
    "import plotly.express as px\n",
    "# Predicted vs Actual Prices\n",
    "result_df = pd.DataFrame({'Actual Price': y_test, 'Predicted Price': y_pred_rf})\n",
    "fig2 = px.scatter(result_df, x='Actual Price', y='Predicted Price', \n",
    "                  title='Random Forest: Predicted vs Actual Prices',\n",
    "                  labels={'Actual Price': 'Actual Price', 'Predicted Price': 'Predicted Price'},\n",
    "                  trendline='ols')\n",
    "\n",
    "fig2.show()\n"
   ]
  },
  {
   "cell_type": "code",
   "execution_count": 75,
   "metadata": {},
   "outputs": [
    {
     "data": {
      "application/vnd.plotly.v1+json": {
       "config": {
        "plotlyServerURL": "https://plot.ly"
       },
       "data": [
        {
         "customdata": [
          [
           "A-9360 Friesach"
          ],
          [
           "Ahorn"
          ],
          [
           "Aich"
          ],
          [
           "Aiseau-Presles"
          ],
          [
           "Aix-la-Chapelle"
          ],
          [
           "Aix-les-Bains"
          ],
          [
           "Albertville"
          ],
          [
           "Albori"
          ],
          [
           "Aldeia do Meco"
          ],
          [
           "Alegrete"
          ],
          [
           "Altlandsberg"
          ],
          [
           "Ampognano"
          ],
          [
           "Annemasse"
          ],
          [
           "Ans"
          ],
          [
           "Ansfelden"
          ],
          [
           "Anthofrotte"
          ],
          [
           "Anzère"
          ],
          [
           "Arcos de Valdevez"
          ],
          [
           "Arezzo"
          ],
          [
           "Arraiolos"
          ],
          [
           "Aspach"
          ],
          [
           "Asse"
          ],
          [
           "Avis"
          ],
          [
           "Azuqueca de Henares"
          ],
          [
           "Bad Hersfeld"
          ],
          [
           "Bad Liebenzell"
          ],
          [
           "Bad Salzdetfurth"
          ],
          [
           "Bad Vöslau"
          ],
          [
           "Bad Wildungen"
          ],
          [
           "Bad Zell"
          ],
          [
           "Baden bei Wien"
          ],
          [
           "Bagno a Ripoli"
          ],
          [
           "Balingen"
          ],
          [
           "Barberino Tavarnelle"
          ],
          [
           "Barcelone"
          ],
          [
           "Bari"
          ],
          [
           "Bassenheim"
          ],
          [
           "Berlaar"
          ],
          [
           "Billens-Hennens"
          ],
          [
           "Bologne"
          ],
          [
           "Bonfol"
          ],
          [
           "Bonn"
          ],
          [
           "Bonndorf im Schwarzwald"
          ],
          [
           "Boppard"
          ],
          [
           "Bormujos"
          ],
          [
           "Braives"
          ],
          [
           "Bremgarten"
          ],
          [
           "Bruxelles"
          ],
          [
           "Burgthann"
          ],
          [
           "Bühl"
          ],
          [
           "Bühler"
          ],
          [
           "Calldetenes"
          ],
          [
           "Caltrano"
          ],
          [
           "Carmagnola"
          ],
          [
           "Cascais"
          ],
          [
           "Castelnuovo Berardenga"
          ],
          [
           "Castro Mirim"
          ],
          [
           "Catane"
          ],
          [
           "Cavi-casalone"
          ],
          [
           "Caviano"
          ],
          [
           "Celorico de Basto"
          ],
          [
           "Cesate"
          ],
          [
           "Charly-sur-Marne"
          ],
          [
           "Chemnitz"
          ],
          [
           "Cherbourg-Octeville"
          ],
          [
           "Châtillon-sur-Cluses"
          ],
          [
           "Ciggiano"
          ],
          [
           "Cisternino"
          ],
          [
           "Combloux"
          ],
          [
           "Comines-Warneton"
          ],
          [
           "Cortona (AR)"
          ],
          [
           "Courcelles"
          ],
          [
           "Cressier"
          ],
          [
           "Davos Platz"
          ],
          [
           "Deißlingen"
          ],
          [
           "Dieppe"
          ],
          [
           "Dietersdorf"
          ],
          [
           "Dietwil"
          ],
          [
           "Dinant"
          ],
          [
           "Donzdorf"
          ],
          [
           "Dunkerque"
          ],
          [
           "Durbuy"
          ],
          [
           "Eisenach"
          ],
          [
           "Elsene"
          ],
          [
           "Engelskirchen"
          ],
          [
           "Erfurt"
          ],
          [
           "Escholzmatt"
          ],
          [
           "Essen"
          ],
          [
           "Estavayer"
          ],
          [
           "Estoril"
          ],
          [
           "Etterbeek"
          ],
          [
           "Falkenstein"
          ],
          [
           "Fay"
          ],
          [
           "Ferenbalm"
          ],
          [
           "Figline Valdarno"
          ],
          [
           "Filzbach"
          ],
          [
           "Finkenberg"
          ],
          [
           "Fischenthal"
          ],
          [
           "Flaach"
          ],
          [
           "Forio"
          ],
          [
           "Fosdinovo"
          ],
          [
           "Francavilla Fontana"
          ],
          [
           "Freising"
          ],
          [
           "Friedrichskoog"
          ],
          [
           "Frolois"
          ],
          [
           "Funchal"
          ],
          [
           "Gamlitz"
          ],
          [
           "Gaula"
          ],
          [
           "Geldern"
          ],
          [
           "Gerano"
          ],
          [
           "Gieleroth"
          ],
          [
           "Gleisdorf"
          ],
          [
           "Graz"
          ],
          [
           "Grenoble"
          ],
          [
           "Grez-Doiceau"
          ],
          [
           "Gryon"
          ],
          [
           "Grünenbach"
          ],
          [
           "Gschwend"
          ],
          [
           "Gualchos"
          ],
          [
           "Guanzate"
          ],
          [
           "Göttingen"
          ],
          [
           "Güstrow"
          ],
          [
           "Halberstadt"
          ],
          [
           "Hanovre"
          ],
          [
           "Hausen"
          ],
          [
           "Hautzendorf"
          ],
          [
           "Hauzenberg"
          ],
          [
           "Heidelberg"
          ],
          [
           "Hellenthal"
          ],
          [
           "Hennef (Sieg)"
          ],
          [
           "Herdern"
          ],
          [
           "Himmelpforten"
          ],
          [
           "Hundeshagen"
          ],
          [
           "Idron"
          ],
          [
           "Imst"
          ],
          [
           "Incourt"
          ],
          [
           "Ingelheim am Rhein"
          ],
          [
           "Innsbruck-Land"
          ],
          [
           "Issum"
          ],
          [
           "Ixelles"
          ],
          [
           "Jaukenberg"
          ],
          [
           "Jette"
          ],
          [
           "Joachimsthal"
          ],
          [
           "Kamenz"
          ],
          [
           "Kapellen"
          ],
          [
           "Kell am See"
          ],
          [
           "Kempen"
          ],
          [
           "Kevelaer"
          ],
          [
           "Kirchzarten"
          ],
          [
           "Kirschnaumen"
          ],
          [
           "Klagenfurt am Wörthersee"
          ],
          [
           "Klettendorf"
          ],
          [
           "Klosterneuburg"
          ],
          [
           "Koppigen"
          ],
          [
           "Korschenbroich"
          ],
          [
           "Krefeld"
          ],
          [
           "Kreuztal"
          ],
          [
           "Köflach"
          ],
          [
           "La Chapelle-Villars"
          ],
          [
           "La Garde-Adhémar"
          ],
          [
           "La Hulpe"
          ],
          [
           "La Louvière"
          ],
          [
           "Lagos"
          ],
          [
           "Langenstein"
          ],
          [
           "Langenthal"
          ],
          [
           "Lanjarón"
          ],
          [
           "Le Mans"
          ],
          [
           "Lens"
          ],
          [
           "Leonding"
          ],
          [
           "Les Bordes"
          ],
          [
           "Les Menuires"
          ],
          [
           "Leukerbad"
          ],
          [
           "León"
          ],
          [
           "Lieboch"
          ],
          [
           "Lingenau"
          ],
          [
           "Linz"
          ],
          [
           "Liège"
          ],
          [
           "Lorch"
          ],
          [
           "Luc-sur-Mer"
          ],
          [
           "Lucques"
          ],
          [
           "Maaseik"
          ],
          [
           "Maggia"
          ],
          [
           "Malaga"
          ],
          [
           "Manosque"
          ],
          [
           "Marciaso"
          ],
          [
           "Marly"
          ],
          [
           "Matosinhos"
          ],
          [
           "Mauerkirchen"
          ],
          [
           "Mechelen"
          ],
          [
           "Mechernich"
          ],
          [
           "Mehlmeisel"
          ],
          [
           "Meiningen"
          ],
          [
           "Menziken"
          ],
          [
           "Mercato Saraceno"
          ],
          [
           "Merelbeke"
          ],
          [
           "Miranda do Douro"
          ],
          [
           "Momignies"
          ],
          [
           "Mons"
          ],
          [
           "Monterotondo"
          ],
          [
           "Montfaucon"
          ],
          [
           "Montigny-le-Tilleul"
          ],
          [
           "Montvalezan"
          ],
          [
           "Morbach"
          ],
          [
           "Mosen"
          ],
          [
           "Moutiers"
          ],
          [
           "Moutiers-Sous-Chantemerle"
          ],
          [
           "Mülheim an der Ruhr"
          ],
          [
           "Münchhausen"
          ],
          [
           "Nalbach"
          ],
          [
           "Namur"
          ],
          [
           "Nancy"
          ],
          [
           "Nerja"
          ],
          [
           "Netphen"
          ],
          [
           "Neumagen-Dhron"
          ],
          [
           "Nîmes"
          ],
          [
           "Oberkrimml"
          ],
          [
           "Obermichelbach"
          ],
          [
           "Obernzell"
          ],
          [
           "Oberstenfeld"
          ],
          [
           "Oberzeiring"
          ],
          [
           "Odeceixe"
          ],
          [
           "Ostbevern"
          ],
          [
           "Osterburken"
          ],
          [
           "Ottmarsheim"
          ],
          [
           "Paderborn"
          ],
          [
           "Paris"
          ],
          [
           "Parrana San Martino"
          ],
          [
           "Passo del Tonale"
          ],
          [
           "Penela"
          ],
          [
           "Penking"
          ],
          [
           "Piegaro"
          ],
          [
           "Pierres"
          ],
          [
           "Pietra Ligure"
          ],
          [
           "Pieve Vergonte"
          ],
          [
           "Piumazzo"
          ],
          [
           "Plesching"
          ],
          [
           "Ponzana"
          ],
          [
           "Pornic"
          ],
          [
           "Porto"
          ],
          [
           "Quartu Sant'Elena"
          ],
          [
           "Rai"
          ],
          [
           "Ramela"
          ],
          [
           "Rastede"
          ],
          [
           "Rauchwart im Burgenland"
          ],
          [
           "Renens"
          ],
          [
           "Rheinfelden"
          ],
          [
           "Riedholz"
          ],
          [
           "Rieding"
          ],
          [
           "Riol"
          ],
          [
           "Roetgen"
          ],
          [
           "Rognaix"
          ],
          [
           "Romorantin-Lanthenay"
          ],
          [
           "Roskow"
          ],
          [
           "Rottweil"
          ],
          [
           "Runkel"
          ],
          [
           "Saarbrücken"
          ],
          [
           "Saas im Prättigau"
          ],
          [
           "Sagres"
          ],
          [
           "Saint-Ciers-sur-Gironde"
          ],
          [
           "Saint-Ghislain"
          ],
          [
           "Saint-Jean-de-Maurienne"
          ],
          [
           "Saint-Étienne-de-Tinée"
          ],
          [
           "Sainte-Radegonde"
          ],
          [
           "San Prospero"
          ],
          [
           "Sankt Englmar"
          ],
          [
           "Sankt Gallen"
          ],
          [
           "Sankt Ruprecht an der Raab"
          ],
          [
           "Sankt Valentin"
          ],
          [
           "Saône"
          ],
          [
           "Schaarbeek"
          ],
          [
           "Schaerbeek"
          ],
          [
           "Schauenburg"
          ],
          [
           "Schleiden"
          ],
          [
           "Schoten"
          ],
          [
           "Schwanewede"
          ],
          [
           "Seefeld in Tirol"
          ],
          [
           "Seneffe"
          ],
          [
           "Sens"
          ],
          [
           "Siat"
          ],
          [
           "Silves"
          ],
          [
           "Simmerath"
          ],
          [
           "Sint-Jans-Molenbeek"
          ],
          [
           "Sinzheim"
          ],
          [
           "Sommerkahl"
          ],
          [
           "Sommerloch"
          ],
          [
           "Sovicille"
          ],
          [
           "Sprimont"
          ],
          [
           "St. Gallen"
          ],
          [
           "Stanz bei Landeck"
          ],
          [
           "Stegersbach"
          ],
          [
           "Steinakirchen am Forst"
          ],
          [
           "Steyr"
          ],
          [
           "Steyr-Land"
          ],
          [
           "Stäfa"
          ],
          [
           "Switzerland"
          ],
          [
           "Syracuse"
          ],
          [
           "Séville"
          ],
          [
           "Thaon-les-Vosges"
          ],
          [
           "Thon"
          ],
          [
           "Toulouse"
          ],
          [
           "Traun"
          ],
          [
           "Trevélez"
          ],
          [
           "Trippstadt"
          ],
          [
           "Uitikon"
          ],
          [
           "Uzwil"
          ],
          [
           "Varese"
          ],
          [
           "Vaux-sur-Sûre"
          ],
          [
           "Venise"
          ],
          [
           "Viana do Castelo"
          ],
          [
           "Vienne"
          ],
          [
           "Viersen"
          ],
          [
           "Vigevano"
          ],
          [
           "Villa A Sesta"
          ],
          [
           "Villach"
          ],
          [
           "Wald-Michelbach"
          ],
          [
           "Wals"
          ],
          [
           "Waremme"
          ],
          [
           "Watermaal-Bosvoorde"
          ],
          [
           "Wavre"
          ],
          [
           "Weilerbach"
          ],
          [
           "Wels"
          ],
          [
           "Wermsdorf - Calbitz"
          ],
          [
           "Werneuchen"
          ],
          [
           "Westerlo"
          ],
          [
           "Weyhausen"
          ],
          [
           "Wezembeek-Oppem"
          ],
          [
           "Wiener Neudorf"
          ],
          [
           "Wiler (Lötschen)"
          ],
          [
           "Winterberg"
          ],
          [
           "Wohlen bei Bern"
          ],
          [
           "Wolfegg"
          ],
          [
           "Wolfertswil"
          ],
          [
           "Wolfhagen"
          ],
          [
           "Yutz"
          ],
          [
           "Zirkitzen"
          ],
          [
           "car/caravane - Carrazeda de Ansiães"
          ],
          [
           "car/caravane - Francfort-sur-l'Oder"
          ]
         ],
         "hovertemplate": "color=2<br>index=%{x}<br>Price Reduction=%{y}<br>region=%{customdata[0]}<extra></extra>",
         "legendgroup": "2",
         "marker": {
          "color": "red",
          "symbol": "circle"
         },
         "mode": "markers",
         "name": "2",
         "orientation": "v",
         "showlegend": true,
         "type": "scatter",
         "x": [
          0,
          3,
          4,
          5,
          6,
          7,
          9,
          10,
          13,
          14,
          18,
          19,
          20,
          21,
          22,
          23,
          25,
          26,
          27,
          29,
          30,
          31,
          33,
          35,
          36,
          37,
          40,
          41,
          42,
          43,
          45,
          46,
          47,
          48,
          49,
          50,
          52,
          55,
          58,
          61,
          63,
          64,
          65,
          66,
          67,
          69,
          70,
          72,
          73,
          76,
          77,
          78,
          79,
          81,
          82,
          83,
          84,
          85,
          87,
          88,
          89,
          91,
          92,
          93,
          94,
          96,
          97,
          98,
          99,
          100,
          103,
          104,
          106,
          108,
          109,
          110,
          111,
          112,
          113,
          114,
          116,
          117,
          120,
          121,
          122,
          124,
          127,
          129,
          130,
          132,
          134,
          136,
          137,
          140,
          141,
          142,
          143,
          144,
          145,
          148,
          149,
          150,
          152,
          153,
          154,
          155,
          156,
          158,
          159,
          160,
          161,
          163,
          167,
          170,
          171,
          173,
          174,
          175,
          176,
          177,
          178,
          179,
          180,
          181,
          183,
          184,
          185,
          186,
          187,
          188,
          189,
          191,
          193,
          194,
          195,
          196,
          197,
          198,
          200,
          201,
          202,
          203,
          204,
          206,
          207,
          209,
          210,
          211,
          212,
          213,
          214,
          215,
          216,
          217,
          218,
          220,
          222,
          223,
          224,
          225,
          226,
          227,
          230,
          231,
          232,
          233,
          236,
          237,
          238,
          240,
          241,
          242,
          244,
          245,
          246,
          247,
          250,
          251,
          253,
          254,
          257,
          259,
          260,
          262,
          266,
          267,
          269,
          270,
          271,
          272,
          273,
          274,
          276,
          277,
          278,
          280,
          282,
          283,
          285,
          286,
          287,
          288,
          289,
          291,
          292,
          293,
          297,
          298,
          299,
          300,
          301,
          303,
          304,
          305,
          308,
          312,
          313,
          314,
          315,
          316,
          317,
          326,
          327,
          328,
          329,
          333,
          334,
          335,
          337,
          339,
          341,
          342,
          343,
          344,
          345,
          347,
          348,
          349,
          350,
          357,
          358,
          359,
          360,
          361,
          362,
          363,
          364,
          365,
          366,
          368,
          369,
          371,
          372,
          373,
          374,
          375,
          376,
          377,
          378,
          379,
          380,
          384,
          385,
          387,
          388,
          389,
          390,
          391,
          397,
          398,
          399,
          400,
          402,
          403,
          404,
          406,
          408,
          409,
          412,
          414,
          415,
          416,
          418,
          419,
          420,
          421,
          426,
          427,
          428,
          429,
          430,
          431,
          432,
          433,
          435,
          436,
          437,
          441,
          443,
          444,
          445,
          446,
          447,
          452,
          455,
          460,
          461,
          463,
          464,
          465,
          466,
          467,
          469,
          470,
          472,
          474,
          476,
          477,
          479,
          480,
          481,
          482,
          483,
          484,
          485,
          486,
          487,
          488,
          489,
          490,
          491,
          492,
          493,
          495,
          497,
          499,
          500
         ],
         "xaxis": "x",
         "y": [
          186,
          223,
          228,
          700,
          241.5,
          659,
          662.5,
          395,
          465,
          134,
          327,
          139,
          232,
          360,
          529,
          248,
          759,
          364,
          565,
          527,
          414,
          304,
          488,
          291,
          155,
          402,
          266,
          463,
          307,
          608,
          284,
          705,
          371,
          790,
          323,
          454,
          592,
          814,
          521,
          630,
          617,
          163,
          492,
          387,
          365,
          521,
          610,
          749,
          682,
          868,
          678,
          229,
          746,
          635,
          465,
          756,
          439,
          702,
          762,
          703,
          216,
          153,
          615,
          648,
          472,
          343,
          496,
          465,
          541,
          370,
          294,
          372,
          800,
          717.5,
          380,
          219,
          391,
          315,
          392.5,
          402,
          523,
          720,
          386,
          790,
          684,
          509.5,
          365,
          723.5,
          885,
          838.4,
          834.5,
          559,
          348,
          308,
          816,
          824,
          152,
          844,
          696,
          432,
          651,
          645,
          384,
          145,
          744,
          696,
          394,
          874.6666666666666,
          371,
          218,
          386,
          238,
          834.8571428571429,
          350.6666666666667,
          516,
          427,
          257,
          192,
          310,
          274,
          484,
          620,
          496,
          391,
          830,
          405,
          180,
          775,
          309,
          759,
          883,
          582,
          341,
          149,
          883,
          844.5,
          555,
          732,
          532,
          808,
          614,
          589,
          856,
          558,
          566,
          501,
          539,
          325,
          511,
          542,
          677.5,
          68,
          856,
          882,
          163,
          856,
          493,
          465,
          714,
          97,
          852,
          348.5,
          615,
          806,
          806,
          434,
          132,
          243,
          189,
          702,
          363,
          285,
          819,
          527,
          310,
          548.8333333333334,
          696.1,
          597,
          490,
          620,
          418,
          554,
          589,
          749,
          472,
          595,
          638,
          139,
          813,
          611,
          194,
          608,
          373,
          744,
          341,
          139,
          790,
          617,
          195,
          583,
          341,
          668,
          839,
          445,
          138,
          590,
          203.5,
          511,
          128,
          808,
          423,
          868,
          120,
          744,
          309,
          719,
          806,
          170,
          324,
          188,
          402,
          465,
          403,
          267,
          108,
          599,
          262,
          339,
          251,
          641,
          321,
          837,
          811,
          864,
          502,
          205,
          456,
          413,
          618.75,
          484,
          773,
          694.6666666666666,
          537,
          330,
          711,
          613,
          617,
          682,
          465,
          209,
          372,
          638,
          607,
          558,
          154,
          351,
          335,
          772,
          372,
          857,
          480,
          595,
          260,
          744,
          604,
          844,
          157,
          190,
          679,
          839,
          430,
          214,
          411,
          705,
          640,
          507,
          561,
          689,
          872,
          536,
          879,
          604,
          112,
          279,
          769,
          619,
          872,
          639,
          744,
          764,
          387,
          502.75,
          220,
          506,
          405,
          301,
          517,
          161,
          634,
          310,
          608,
          205,
          688,
          300,
          530,
          634,
          806,
          769,
          338,
          790,
          335,
          434,
          460,
          190,
          190,
          128,
          628,
          422,
          561.6666666666666,
          216,
          170,
          380,
          753,
          496,
          775,
          673,
          212,
          569,
          564,
          192,
          837,
          312,
          642,
          302,
          697,
          84,
          143.5
         ],
         "yaxis": "y"
        },
        {
         "customdata": [
          [
           "Aartselaar"
          ],
          [
           "Alba"
          ],
          [
           "Albuñol"
          ],
          [
           "Algeciras"
          ],
          [
           "Alpbach"
          ],
          [
           "Altenberg"
          ],
          [
           "Anvers"
          ],
          [
           "Armação de Pêra"
          ],
          [
           "Auderghem"
          ],
          [
           "Aywaille"
          ],
          [
           "Bad Oldesloe"
          ],
          [
           "Baden"
          ],
          [
           "Barum"
          ],
          [
           "Benalmádena"
          ],
          [
           "Berne"
          ],
          [
           "Biel"
          ],
          [
           "Blatten bei Naters"
          ],
          [
           "Blevio"
          ],
          [
           "Bommes"
          ],
          [
           "Braga"
          ],
          [
           "Brides-les-Bains"
          ],
          [
           "Bussigny"
          ],
          [
           "Carcavelos"
          ],
          [
           "Cava D'aliga"
          ],
          [
           "Churwalden"
          ],
          [
           "Contignano"
          ],
          [
           "Cormondrèche"
          ],
          [
           "Crémines"
          ],
          [
           "Dozza"
          ],
          [
           "Dílar"
          ],
          [
           "Eichberg bei Hartmannsdorf"
          ],
          [
           "Entraigues-sur-la-Sorgue"
          ],
          [
           "Ermatingen"
          ],
          [
           "Estepona"
          ],
          [
           "Estreito da Calheta"
          ],
          [
           "Faimes"
          ],
          [
           "Feldbach"
          ],
          [
           "Felsberg"
          ],
          [
           "Flims"
          ],
          [
           "Florence"
          ],
          [
           "Freiburg im Breisgau"
          ],
          [
           "Gand"
          ],
          [
           "Glarus Süd"
          ],
          [
           "Gmunden"
          ],
          [
           "Graven"
          ],
          [
           "Grenade"
          ],
          [
           "Grengiols"
          ],
          [
           "Gruyères"
          ],
          [
           "Hastière"
          ],
          [
           "Herve"
          ],
          [
           "Hooglede"
          ],
          [
           "Intragna"
          ],
          [
           "Kaprun"
          ],
          [
           "Kraainem"
          ],
          [
           "Laax"
          ],
          [
           "Lasne"
          ],
          [
           "Leontica"
          ],
          [
           "Leytron"
          ],
          [
           "Lisboa"
          ],
          [
           "Lisbonne"
          ],
          [
           "Louvain"
          ],
          [
           "Lugano"
          ],
          [
           "Lutry"
          ],
          [
           "Madrid"
          ],
          [
           "Mannebach"
          ],
          [
           "Mantova"
          ],
          [
           "Marais-Vernier"
          ],
          [
           "Marche-en-Famenne"
          ],
          [
           "Mascali"
          ],
          [
           "Melbeck"
          ],
          [
           "Milan"
          ],
          [
           "Modica"
          ],
          [
           "Morgins"
          ],
          [
           "Movelier"
          ],
          [
           "Munich"
          ],
          [
           "Mönichkirchen"
          ],
          [
           "Naples"
          ],
          [
           "Neunkirchen"
          ],
          [
           "Nossen"
          ],
          [
           "O Barco"
          ],
          [
           "Oberglatt"
          ],
          [
           "Offenburg"
          ],
          [
           "Olhão"
          ],
          [
           "Olsberg"
          ],
          [
           "Orciatico"
          ],
          [
           "Orelle"
          ],
          [
           "Ormont-Dessus"
          ],
          [
           "Parchal"
          ],
          [
           "Parede"
          ],
          [
           "Pedrógão Grande"
          ],
          [
           "Pianillo"
          ],
          [
           "Plasencia"
          ],
          [
           "Porto de Mós"
          ],
          [
           "Profondeville"
          ],
          [
           "Prévessin-Moëns"
          ],
          [
           "Puchen"
          ],
          [
           "Puy-Saint-Vincent"
          ],
          [
           "Pörtschach am Wörthersee"
          ],
          [
           "Roche-d'Or"
          ],
          [
           "Rome"
          ],
          [
           "Saint-Jeoire"
          ],
          [
           "Saint-Raphaël"
          ],
          [
           "Sallanches"
          ],
          [
           "Sant'Antioco"
          ],
          [
           "Sant'Oreste"
          ],
          [
           "Santarem"
          ],
          [
           "Sattledt"
          ],
          [
           "Scherzingen"
          ],
          [
           "Scicli"
          ],
          [
           "Seengen"
          ],
          [
           "Sesimbra"
          ],
          [
           "Setúbal"
          ],
          [
           "Siglistorf"
          ],
          [
           "Soyhières"
          ],
          [
           "Spa"
          ],
          [
           "Speicher"
          ],
          [
           "Speicherschwendi"
          ],
          [
           "Subingen"
          ],
          [
           "Tavira"
          ],
          [
           "Tervuren"
          ],
          [
           "Theux"
          ],
          [
           "Troisdorf"
          ],
          [
           "Turin"
          ],
          [
           "Twist"
          ],
          [
           "Uccle"
          ],
          [
           "Uster"
          ],
          [
           "Uttwil"
          ],
          [
           "Val-d'Illiez"
          ],
          [
           "Val-de-Travers"
          ],
          [
           "Valsolda"
          ],
          [
           "Vaz/Obervaz"
          ],
          [
           "Vila Nova de Gaia"
          ],
          [
           "Vouvray"
          ],
          [
           "Walhain"
          ],
          [
           "Wanze"
          ],
          [
           "Watermael-Boitsfort"
          ],
          [
           "Wundschuh"
          ],
          [
           "Zehethof"
          ],
          [
           "Érezée"
          ]
         ],
         "hovertemplate": "color=0<br>index=%{x}<br>Price Reduction=%{y}<br>region=%{customdata[0]}<extra></extra>",
         "legendgroup": "0",
         "marker": {
          "color": "blue",
          "symbol": "circle"
         },
         "mode": "markers",
         "name": "0",
         "orientation": "v",
         "showlegend": true,
         "type": "scatter",
         "x": [
          1,
          8,
          12,
          15,
          16,
          17,
          24,
          28,
          32,
          34,
          39,
          44,
          51,
          53,
          56,
          57,
          59,
          60,
          62,
          68,
          71,
          74,
          80,
          86,
          95,
          101,
          102,
          107,
          115,
          118,
          119,
          123,
          126,
          131,
          133,
          135,
          138,
          139,
          146,
          147,
          151,
          157,
          162,
          164,
          166,
          168,
          169,
          172,
          182,
          190,
          192,
          199,
          208,
          219,
          229,
          234,
          239,
          243,
          248,
          249,
          252,
          255,
          256,
          258,
          261,
          263,
          264,
          265,
          268,
          275,
          279,
          281,
          290,
          294,
          295,
          296,
          302,
          306,
          307,
          309,
          310,
          318,
          319,
          321,
          323,
          324,
          325,
          331,
          332,
          336,
          340,
          346,
          351,
          352,
          353,
          354,
          355,
          356,
          367,
          370,
          381,
          382,
          386,
          392,
          393,
          394,
          396,
          401,
          405,
          407,
          410,
          411,
          413,
          422,
          423,
          424,
          425,
          434,
          439,
          440,
          442,
          448,
          449,
          450,
          451,
          453,
          454,
          456,
          457,
          458,
          462,
          468,
          471,
          473,
          475,
          478,
          494,
          496,
          501
         ],
         "xaxis": "x",
         "y": [
          1079,
          1618,
          930,
          1142,
          940,
          1174,
          1058.8181818181818,
          1352,
          1624.5,
          1191.5,
          947,
          1977.5,
          929,
          1204,
          1427,
          1089.6666666666667,
          958,
          1091,
          1169,
          1327,
          1424,
          2013,
          1172,
          1874,
          1052,
          930,
          1086,
          1832,
          1116,
          1796,
          1297,
          999,
          1305,
          1061,
          979,
          1172,
          1159,
          1203,
          1252,
          1580.4,
          1162,
          1188.25,
          1112,
          1703,
          1550,
          1119,
          1343,
          1590,
          1054,
          930,
          1906,
          1075,
          976,
          1930,
          1401.5,
          1134.3333333333333,
          1596,
          1012,
          1393.6818181818182,
          1116,
          1604,
          1428,
          1748,
          922.8636363636364,
          927,
          1302,
          1094,
          1085,
          1434,
          967,
          984.3636363636364,
          1101,
          1239,
          1106,
          1778.25,
          1159,
          1597,
          1612,
          921,
          1820,
          1770,
          907,
          930,
          1775,
          1748,
          971,
          1517,
          1387,
          1637,
          1116,
          1823,
          1183,
          1171,
          990,
          919,
          1860,
          1519,
          1860,
          1422,
          1165.4166666666667,
          992,
          1275,
          1314,
          1002,
          911,
          1860,
          1449,
          2049,
          915,
          948,
          1026,
          1480,
          1197,
          949,
          1029,
          907,
          1039,
          1833,
          1014,
          969,
          914,
          1566,
          1223.5,
          1335,
          1572,
          1277,
          1033,
          1230,
          1270,
          1209,
          1008,
          2041,
          1750,
          927,
          1550,
          1093,
          1196,
          1283,
          1569
         ],
         "yaxis": "y"
        },
        {
         "customdata": [
          [
           "Aci Castello"
          ],
          [
           "Albufeira"
          ],
          [
           "Bad Mitterndorf"
          ],
          [
           "Berg bei Rohrbach"
          ],
          [
           "Bâle"
          ],
          [
           "Cerfontaine"
          ],
          [
           "Courroux"
          ],
          [
           "Ericeira"
          ],
          [
           "Esneux"
          ],
          [
           "Goudargues"
          ],
          [
           "Kaisigen"
          ],
          [
           "Krems an der Donau"
          ],
          [
           "La Sagne"
          ],
          [
           "Lautenbach-Zell"
          ],
          [
           "Montemassi"
          ],
          [
           "Oberiberg"
          ],
          [
           "Olne"
          ],
          [
           "Oostende"
          ],
          [
           "Palma de Majorque"
          ],
          [
           "Peniche"
          ],
          [
           "Saint-Zacharie"
          ],
          [
           "Santarém"
          ],
          [
           "Sintra"
          ],
          [
           "Talmassons"
          ],
          [
           "València"
          ],
          [
           "Zürich"
          ]
         ],
         "hovertemplate": "color=1<br>index=%{x}<br>Price Reduction=%{y}<br>region=%{customdata[0]}<extra></extra>",
         "legendgroup": "1",
         "marker": {
          "color": "green",
          "symbol": "circle"
         },
         "mode": "markers",
         "name": "1",
         "orientation": "v",
         "showlegend": true,
         "type": "scatter",
         "x": [
          2,
          11,
          38,
          54,
          75,
          90,
          105,
          125,
          128,
          165,
          205,
          221,
          228,
          235,
          284,
          311,
          320,
          322,
          330,
          338,
          383,
          395,
          417,
          438,
          459,
          498
         ],
         "xaxis": "x",
         "y": [
          2212,
          2967.4,
          2418,
          3534,
          3963,
          2319,
          2844,
          2153,
          2660,
          2281,
          2406,
          2873,
          2498,
          2480,
          2170,
          3129,
          2539,
          2367,
          3332,
          2912,
          2253,
          2635,
          4624,
          3325,
          5115,
          3112
         ],
         "yaxis": "y"
        }
       ],
       "layout": {
        "legend": {
         "title": {
          "text": "color"
         },
         "tracegroupgap": 0
        },
        "showlegend": true,
        "template": {
         "data": {
          "candlestick": [
           {
            "decreasing": {
             "line": {
              "color": "#000033"
             }
            },
            "increasing": {
             "line": {
              "color": "#000032"
             }
            },
            "type": "candlestick"
           }
          ],
          "contour": [
           {
            "colorscale": [
             [
              0,
              "#000011"
             ],
             [
              0.1111111111111111,
              "#000012"
             ],
             [
              0.2222222222222222,
              "#000013"
             ],
             [
              0.3333333333333333,
              "#000014"
             ],
             [
              0.4444444444444444,
              "#000015"
             ],
             [
              0.5555555555555556,
              "#000016"
             ],
             [
              0.6666666666666666,
              "#000017"
             ],
             [
              0.7777777777777778,
              "#000018"
             ],
             [
              0.8888888888888888,
              "#000019"
             ],
             [
              1,
              "#000020"
             ]
            ],
            "type": "contour"
           }
          ],
          "contourcarpet": [
           {
            "colorscale": [
             [
              0,
              "#000011"
             ],
             [
              0.1111111111111111,
              "#000012"
             ],
             [
              0.2222222222222222,
              "#000013"
             ],
             [
              0.3333333333333333,
              "#000014"
             ],
             [
              0.4444444444444444,
              "#000015"
             ],
             [
              0.5555555555555556,
              "#000016"
             ],
             [
              0.6666666666666666,
              "#000017"
             ],
             [
              0.7777777777777778,
              "#000018"
             ],
             [
              0.8888888888888888,
              "#000019"
             ],
             [
              1,
              "#000020"
             ]
            ],
            "type": "contourcarpet"
           }
          ],
          "heatmap": [
           {
            "colorscale": [
             [
              0,
              "#000011"
             ],
             [
              0.1111111111111111,
              "#000012"
             ],
             [
              0.2222222222222222,
              "#000013"
             ],
             [
              0.3333333333333333,
              "#000014"
             ],
             [
              0.4444444444444444,
              "#000015"
             ],
             [
              0.5555555555555556,
              "#000016"
             ],
             [
              0.6666666666666666,
              "#000017"
             ],
             [
              0.7777777777777778,
              "#000018"
             ],
             [
              0.8888888888888888,
              "#000019"
             ],
             [
              1,
              "#000020"
             ]
            ],
            "type": "heatmap"
           }
          ],
          "histogram2d": [
           {
            "colorscale": [
             [
              0,
              "#000011"
             ],
             [
              0.1111111111111111,
              "#000012"
             ],
             [
              0.2222222222222222,
              "#000013"
             ],
             [
              0.3333333333333333,
              "#000014"
             ],
             [
              0.4444444444444444,
              "#000015"
             ],
             [
              0.5555555555555556,
              "#000016"
             ],
             [
              0.6666666666666666,
              "#000017"
             ],
             [
              0.7777777777777778,
              "#000018"
             ],
             [
              0.8888888888888888,
              "#000019"
             ],
             [
              1,
              "#000020"
             ]
            ],
            "type": "histogram2d"
           }
          ],
          "icicle": [
           {
            "textfont": {
             "color": "white"
            },
            "type": "icicle"
           }
          ],
          "sankey": [
           {
            "textfont": {
             "color": "#000036"
            },
            "type": "sankey"
           }
          ],
          "scatter": [
           {
            "marker": {
             "line": {
              "width": 0
             }
            },
            "type": "scatter"
           }
          ],
          "table": [
           {
            "cells": {
             "fill": {
              "color": "#000038"
             },
             "font": {
              "color": "#000037"
             },
             "line": {
              "color": "#000039"
             }
            },
            "header": {
             "fill": {
              "color": "#000040"
             },
             "font": {
              "color": "#000036"
             },
             "line": {
              "color": "#000039"
             }
            },
            "type": "table"
           }
          ],
          "waterfall": [
           {
            "connector": {
             "line": {
              "color": "#000036",
              "width": 2
             }
            },
            "decreasing": {
             "marker": {
              "color": "#000033"
             }
            },
            "increasing": {
             "marker": {
              "color": "#000032"
             }
            },
            "totals": {
             "marker": {
              "color": "#000034"
             }
            },
            "type": "waterfall"
           }
          ]
         },
         "layout": {
          "coloraxis": {
           "colorscale": [
            [
             0,
             "#000011"
            ],
            [
             0.1111111111111111,
             "#000012"
            ],
            [
             0.2222222222222222,
             "#000013"
            ],
            [
             0.3333333333333333,
             "#000014"
            ],
            [
             0.4444444444444444,
             "#000015"
            ],
            [
             0.5555555555555556,
             "#000016"
            ],
            [
             0.6666666666666666,
             "#000017"
            ],
            [
             0.7777777777777778,
             "#000018"
            ],
            [
             0.8888888888888888,
             "#000019"
            ],
            [
             1,
             "#000020"
            ]
           ]
          },
          "colorscale": {
           "diverging": [
            [
             0,
             "#000021"
            ],
            [
             0.1,
             "#000022"
            ],
            [
             0.2,
             "#000023"
            ],
            [
             0.3,
             "#000024"
            ],
            [
             0.4,
             "#000025"
            ],
            [
             0.5,
             "#000026"
            ],
            [
             0.6,
             "#000027"
            ],
            [
             0.7,
             "#000028"
            ],
            [
             0.8,
             "#000029"
            ],
            [
             0.9,
             "#000030"
            ],
            [
             1,
             "#000031"
            ]
           ],
           "sequential": [
            [
             0,
             "#000011"
            ],
            [
             0.1111111111111111,
             "#000012"
            ],
            [
             0.2222222222222222,
             "#000013"
            ],
            [
             0.3333333333333333,
             "#000014"
            ],
            [
             0.4444444444444444,
             "#000015"
            ],
            [
             0.5555555555555556,
             "#000016"
            ],
            [
             0.6666666666666666,
             "#000017"
            ],
            [
             0.7777777777777778,
             "#000018"
            ],
            [
             0.8888888888888888,
             "#000019"
            ],
            [
             1,
             "#000020"
            ]
           ],
           "sequentialminus": [
            [
             0,
             "#000011"
            ],
            [
             0.1111111111111111,
             "#000012"
            ],
            [
             0.2222222222222222,
             "#000013"
            ],
            [
             0.3333333333333333,
             "#000014"
            ],
            [
             0.4444444444444444,
             "#000015"
            ],
            [
             0.5555555555555556,
             "#000016"
            ],
            [
             0.6666666666666666,
             "#000017"
            ],
            [
             0.7777777777777778,
             "#000018"
            ],
            [
             0.8888888888888888,
             "#000019"
            ],
            [
             1,
             "#000020"
            ]
           ]
          },
          "colorway": [
           "#000001",
           "#000002",
           "#000003",
           "#000004",
           "#000005",
           "#000006",
           "#000007",
           "#000008",
           "#000009",
           "#000010"
          ]
         }
        },
        "title": {
         "text": "Clustering des Regions par Réduction de prix"
        },
        "xaxis": {
         "anchor": "y",
         "domain": [
          0,
          1
         ],
         "title": {
          "text": "Region Index"
         }
        },
        "yaxis": {
         "anchor": "x",
         "domain": [
          0,
          1
         ],
         "title": {
          "text": "Price Reduction"
         }
        }
       }
      }
     },
     "metadata": {},
     "output_type": "display_data"
    }
   ],
   "source": [
    "from sklearn.preprocessing import StandardScaler\n",
    "from sklearn.cluster import KMeans\n",
    "import statsmodels.api as sm\n",
    "from statsmodels.formula.api import ols\n",
    "\n",
    "# réduction de prix \n",
    "data['price_reduction'] = data['old_price'] - data['price']\n",
    "# réduction moyenne de prix par région\n",
    "region_reduction = data.groupby('region')['price_reduction'].mean().reset_index()\n",
    "# Normalisation des données de réduction de prix\n",
    "scaler = StandardScaler()\n",
    "region_reduction_normalized = scaler.fit_transform(region_reduction[['price_reduction']])\n",
    "# clustering K-Means\n",
    "kmeans = KMeans(n_clusters=3, init='k-means++', max_iter=300, n_init=10, random_state=0)\n",
    "region_clusters = kmeans.fit_predict(region_reduction_normalized)\n",
    "# Ajouter les informations de cluster au DataFrame\n",
    "region_reduction['cluster'] = region_clusters\n",
    "# Création d'un graphique interactif avec bleu, rouge, et vert pour les clusters\n",
    "fig = px.scatter(region_reduction, \n",
    "                 x=region_reduction.index, \n",
    "                 y='price_reduction', \n",
    "                 color=region_reduction['cluster'].astype(str),  \n",
    "                 title='Clustering des Regions par Réduction de prix',\n",
    "                 labels={'x': 'Region Index', 'price_reduction': 'Price Reduction'},\n",
    "                 hover_data=['region'],\n",
    "                 color_discrete_map={\n",
    "                     '0': 'blue',\n",
    "                     '1': 'green',\n",
    "                     '2': 'red'\n",
    "                 })\n",
    "\n",
    "fig.update_layout(showlegend=True, xaxis_title='Region Index', yaxis_title='Price Reduction')\n",
    "fig.show()\n"
   ]
  }
 ],
 "metadata": {
  "kernelspec": {
   "display_name": "Python 3",
   "language": "python",
   "name": "python3"
  },
  "language_info": {
   "codemirror_mode": {
    "name": "ipython",
    "version": 3
   },
   "file_extension": ".py",
   "mimetype": "text/x-python",
   "name": "python",
   "nbconvert_exporter": "python",
   "pygments_lexer": "ipython3",
   "version": "3.9.1"
  }
 },
 "nbformat": 4,
 "nbformat_minor": 2
}
